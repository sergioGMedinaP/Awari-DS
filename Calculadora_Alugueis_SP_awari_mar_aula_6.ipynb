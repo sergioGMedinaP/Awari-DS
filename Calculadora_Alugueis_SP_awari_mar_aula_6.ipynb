{
  "nbformat": 4,
  "nbformat_minor": 0,
  "metadata": {
    "colab": {
      "name": "awari_mar_aula_6.ipynb",
      "provenance": [],
      "collapsed_sections": [],
      "include_colab_link": true
    },
    "kernelspec": {
      "name": "python3",
      "display_name": "Python 3"
    },
    "language_info": {
      "name": "python"
    }
  },
  "cells": [
    {
      "cell_type": "markdown",
      "metadata": {
        "id": "view-in-github",
        "colab_type": "text"
      },
      "source": [
        "<a href=\"https://colab.research.google.com/github/sergioGMedinaP/Awari-DS/blob/master/Calculadora_Alugueis_SP_awari_mar_aula_6.ipynb\" target=\"_parent\"><img src=\"https://colab.research.google.com/assets/colab-badge.svg\" alt=\"Open In Colab\"/></a>"
      ]
    },
    {
      "cell_type": "markdown",
      "metadata": {
        "id": "RsyrL7BMGemY"
      },
      "source": [
        "# Coleta de dados para a calculadora de imóveis"
      ]
    },
    {
      "cell_type": "code",
      "metadata": {
        "id": "Vn8ZVywLF89m"
      },
      "source": [
        "import requests"
      ],
      "execution_count": null,
      "outputs": []
    },
    {
      "cell_type": "code",
      "metadata": {
        "id": "SJLhxlBXGjZN"
      },
      "source": [
        "url = 'https://imoveis.mercadolivre.com.br/apartamentos/aluguel/sao-paulo/'"
      ],
      "execution_count": null,
      "outputs": []
    },
    {
      "cell_type": "code",
      "metadata": {
        "id": "hvQGiK9rHRky"
      },
      "source": [
        "conteudo = requests.get(url).content"
      ],
      "execution_count": null,
      "outputs": []
    },
    {
      "cell_type": "code",
      "metadata": {
        "id": "lJh4DO2hH39t"
      },
      "source": [
        "# !pip install beautifulsoup4\n",
        "\n",
        "from bs4 import BeautifulSoup"
      ],
      "execution_count": null,
      "outputs": []
    },
    {
      "cell_type": "code",
      "metadata": {
        "id": "tgLqONOWJeRr"
      },
      "source": [
        "sopa = BeautifulSoup(conteudo)"
      ],
      "execution_count": null,
      "outputs": []
    },
    {
      "cell_type": "code",
      "metadata": {
        "colab": {
          "base_uri": "https://localhost:8080/"
        },
        "id": "zrnHehcoKYsk",
        "outputId": "b4916693-7d0a-46ee-b737-e6d3e2f720b8"
      },
      "source": [
        "type(sopa.find('span', {'class':'price-tag-fraction'}).text)"
      ],
      "execution_count": null,
      "outputs": [
        {
          "output_type": "execute_result",
          "data": {
            "text/plain": [
              "str"
            ]
          },
          "metadata": {
            "tags": []
          },
          "execution_count": 16
        }
      ]
    },
    {
      "cell_type": "code",
      "metadata": {
        "id": "c3VyTOHdb5jv"
      },
      "source": [
        "# # tratamento de excessão\n",
        "# try:\n",
        "#   sopa.find_all('span', {'class':'price-tag-fraction'})\n",
        "#   # rs_p  != ''\n",
        "# except:\n",
        "#   if NameError -- etc"
      ],
      "execution_count": null,
      "outputs": []
    },
    {
      "cell_type": "code",
      "metadata": {
        "id": "Q6WAh2SHNbFS"
      },
      "source": [
        "result_set_precos = sopa.find_all('span', {'class':'price-tag-fraction'})"
      ],
      "execution_count": null,
      "outputs": []
    },
    {
      "cell_type": "code",
      "metadata": {
        "id": "hfzHfoKGMn81"
      },
      "source": [
        "lista_precos = []\n",
        "\n",
        "for elemento in result_set_precos:\n",
        "  lista_precos.append(elemento.text)\n",
        "\n",
        "# result_set_precos[1].text"
      ],
      "execution_count": null,
      "outputs": []
    },
    {
      "cell_type": "code",
      "metadata": {
        "colab": {
          "base_uri": "https://localhost:8080/"
        },
        "id": "pq9x-KV9Or7A",
        "outputId": "6cbd1074-ef4f-4859-c22d-3796abc0ecf4"
      },
      "source": [
        "len(lista_precos)"
      ],
      "execution_count": null,
      "outputs": [
        {
          "output_type": "execute_result",
          "data": {
            "text/plain": [
              "48"
            ]
          },
          "metadata": {
            "tags": []
          },
          "execution_count": 19
        }
      ]
    },
    {
      "cell_type": "code",
      "metadata": {
        "colab": {
          "base_uri": "https://localhost:8080/"
        },
        "id": "qptG5KM8P8PP",
        "outputId": "d9b47c51-6d96-4e13-804b-d9a8e8d31773"
      },
      "source": [
        "lista_precos[:5] # fatiamento da lista ou slicing"
      ],
      "execution_count": null,
      "outputs": [
        {
          "output_type": "execute_result",
          "data": {
            "text/plain": [
              "['770', '850', '500', '1.157', '550']"
            ]
          },
          "metadata": {
            "tags": []
          },
          "execution_count": 20
        }
      ]
    },
    {
      "cell_type": "markdown",
      "metadata": {
        "id": "8gNK6RVTRI19"
      },
      "source": [
        "## Exercício:\n",
        "\n",
        "* Coletar a área e os quartos (dica: pegar da tag ul e separar depois)\n",
        "* Se quiser, coletar enderecos \n",
        "* Coletar zona (dica: coletar da url)\n",
        "* Se der, coletar para mais de uma página do site (dica: usar a url e lembrar de dar um sleep(2) entre as requisições"
      ]
    },
    {
      "cell_type": "code",
      "metadata": {
        "id": "08EaWmrFfqXl"
      },
      "source": [
        "from time import sleep"
      ],
      "execution_count": null,
      "outputs": []
    },
    {
      "cell_type": "code",
      "metadata": {
        "id": "lluQxdo5eB5y"
      },
      "source": [
        "zonas = ['sul', 'norte', 'leste', 'oeste']\n",
        "paginas = ['', '_Desde_49']"
      ],
      "execution_count": null,
      "outputs": []
    },
    {
      "cell_type": "code",
      "metadata": {
        "id": "tYpO5vBeQMTJ",
        "colab": {
          "base_uri": "https://localhost:8080/"
        },
        "outputId": "4b0de270-d704-48bd-9eb4-925c53c8827f"
      },
      "source": [
        "for zona in zonas:\n",
        "  for pagina in paginas:\n",
        "    url = f'https://imoveis.mercadolivre.com.br/apartamentos/aluguel/sao-paulo/sao-paulo-zona-{zona}/{pagina}'\n",
        "    # acessar a url, coletar as informacoes e ir salvando nas listas e depois juntar as listas em uma tabela\n",
        "    sleep(2)\n",
        "    print(url)"
      ],
      "execution_count": null,
      "outputs": [
        {
          "output_type": "stream",
          "text": [
            "https://imoveis.mercadolivre.com.br/apartamentos/aluguel/sao-paulo/sao-paulo-zona-sul/\n",
            "https://imoveis.mercadolivre.com.br/apartamentos/aluguel/sao-paulo/sao-paulo-zona-sul/_Desde_49\n",
            "https://imoveis.mercadolivre.com.br/apartamentos/aluguel/sao-paulo/sao-paulo-zona-norte/\n",
            "https://imoveis.mercadolivre.com.br/apartamentos/aluguel/sao-paulo/sao-paulo-zona-norte/_Desde_49\n"
          ],
          "name": "stdout"
        }
      ]
    },
    {
      "cell_type": "code",
      "metadata": {
        "id": "TIkNqKdoeJ5P"
      },
      "source": [
        "conteudo = requests.get(url).content"
      ],
      "execution_count": null,
      "outputs": []
    },
    {
      "cell_type": "code",
      "metadata": {
        "id": "IZLVHxgieMPB"
      },
      "source": [
        "c = BeautifulSoup(conteudo)"
      ],
      "execution_count": null,
      "outputs": []
    },
    {
      "cell_type": "code",
      "metadata": {
        "colab": {
          "base_uri": "https://localhost:8080/",
          "height": 35
        },
        "id": "b11slL2EeeOo",
        "outputId": "2b94d7ed-c1d7-466a-9983-0853c39b25dd"
      },
      "source": [
        "c.find('span', {'class':'price-tag-fraction'}).text"
      ],
      "execution_count": null,
      "outputs": [
        {
          "output_type": "execute_result",
          "data": {
            "application/vnd.google.colaboratory.intrinsic+json": {
              "type": "string"
            },
            "text/plain": [
              "'850'"
            ]
          },
          "metadata": {
            "tags": []
          },
          "execution_count": 30
        }
      ]
    },
    {
      "cell_type": "code",
      "metadata": {
        "id": "Ai6fK9tqeey4"
      },
      "source": [
        ""
      ],
      "execution_count": null,
      "outputs": []
    }
  ]
}