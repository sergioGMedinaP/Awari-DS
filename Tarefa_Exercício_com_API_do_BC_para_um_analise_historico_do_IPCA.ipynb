{
  "nbformat": 4,
  "nbformat_minor": 0,
  "metadata": {
    "colab": {
      "name": "Tarefa- Exercício com API do BC para um analise historico do IPCA.ipynb",
      "provenance": [],
      "authorship_tag": "ABX9TyPDnaadD6kufdYxg4p85zwC",
      "include_colab_link": true
    },
    "kernelspec": {
      "name": "python3",
      "display_name": "Python 3"
    },
    "language_info": {
      "name": "python"
    }
  },
  "cells": [
    {
      "cell_type": "markdown",
      "metadata": {
        "id": "view-in-github",
        "colab_type": "text"
      },
      "source": [
        "<a href=\"https://colab.research.google.com/github/sergioGMedinaP/Awari-DS/blob/master/Tarefa_Exerc%C3%ADcio_com_API_do_BC_para_um_analise_historico_do_IPCA.ipynb\" target=\"_parent\"><img src=\"https://colab.research.google.com/assets/colab-badge.svg\" alt=\"Open In Colab\"/></a>"
      ]
    },
    {
      "cell_type": "markdown",
      "metadata": {
        "id": "82MBrQOIqC7L"
      },
      "source": [
        "<h1> Tarefa: Exercício com API do BC para um analise historico do IPCA</h1>\n",
        "\n",
        "O exercício a ser desenvolvido para a presente unidade consiste em conectar-se a uma API. O Banco Central do Brasil disponibiliza dados a respeito de diversos indicadores econômicos do país. Sua tarefa será encontrar a série histórica relativa à inflação (IPCA) na plataforma de dados abertos do BC, importá-la e transformá-la em um DataFrame do Pandas.\n",
        "\n",
        "Você precisará criar um Jupyter Notebook (em sua máquina ou no Google Colab) com o código que mostre que a conexão com a API foi devidamente realizado. Em seguida, deverá compartilhá-lo com seu mentor através de um link criado no Colab, GitHub ou Google Drive."
      ]
    },
    {
      "cell_type": "code",
      "metadata": {
        "id": "ShvfUOLDpxiR"
      },
      "source": [
        "import requests\n",
        "from pandas.io.json import json_normalize\n",
        "import pandas as pd\n",
        "import matplotlib.pyplot as plt\n",
        "\n",
        "\n",
        "from datetime import datetime\n",
        "\n"
      ],
      "execution_count": 17,
      "outputs": []
    },
    {
      "cell_type": "code",
      "metadata": {
        "colab": {
          "base_uri": "https://localhost:8080/"
        },
        "id": "Nh7aMHcnpyCl",
        "outputId": "20d607ed-4e58-41fd-c544-76b4df592c8d"
      },
      "source": [
        "URL = \"https://api.bcb.gov.br/dados/serie/bcdata.sgs.16121/dados?formato=json\"\n",
        "df_banco_central = pd.read_json(URL)\n",
        "df_banco_central.shape"
      ],
      "execution_count": 5,
      "outputs": [
        {
          "output_type": "execute_result",
          "data": {
            "text/plain": [
              "(362, 2)"
            ]
          },
          "metadata": {
            "tags": []
          },
          "execution_count": 5
        }
      ]
    },
    {
      "cell_type": "code",
      "metadata": {
        "colab": {
          "base_uri": "https://localhost:8080/",
          "height": 359
        },
        "id": "zLuoyZOdwWgJ",
        "outputId": "81accb48-a747-47c1-d845-dcd2eb5225ec"
      },
      "source": [
        "df_banco_central.head(10)"
      ],
      "execution_count": 9,
      "outputs": [
        {
          "output_type": "execute_result",
          "data": {
            "text/html": [
              "<div>\n",
              "<style scoped>\n",
              "    .dataframe tbody tr th:only-of-type {\n",
              "        vertical-align: middle;\n",
              "    }\n",
              "\n",
              "    .dataframe tbody tr th {\n",
              "        vertical-align: top;\n",
              "    }\n",
              "\n",
              "    .dataframe thead th {\n",
              "        text-align: right;\n",
              "    }\n",
              "</style>\n",
              "<table border=\"1\" class=\"dataframe\">\n",
              "  <thead>\n",
              "    <tr style=\"text-align: right;\">\n",
              "      <th></th>\n",
              "      <th>data</th>\n",
              "      <th>valor</th>\n",
              "    </tr>\n",
              "  </thead>\n",
              "  <tbody>\n",
              "    <tr>\n",
              "      <th>0</th>\n",
              "      <td>01/01/1991</td>\n",
              "      <td>20.27</td>\n",
              "    </tr>\n",
              "    <tr>\n",
              "      <th>1</th>\n",
              "      <td>01/02/1991</td>\n",
              "      <td>19.62</td>\n",
              "    </tr>\n",
              "    <tr>\n",
              "      <th>2</th>\n",
              "      <td>01/03/1991</td>\n",
              "      <td>13.45</td>\n",
              "    </tr>\n",
              "    <tr>\n",
              "      <th>3</th>\n",
              "      <td>01/04/1991</td>\n",
              "      <td>4.85</td>\n",
              "    </tr>\n",
              "    <tr>\n",
              "      <th>4</th>\n",
              "      <td>01/05/1991</td>\n",
              "      <td>8.15</td>\n",
              "    </tr>\n",
              "    <tr>\n",
              "      <th>5</th>\n",
              "      <td>01/06/1991</td>\n",
              "      <td>11.39</td>\n",
              "    </tr>\n",
              "    <tr>\n",
              "      <th>6</th>\n",
              "      <td>01/07/1991</td>\n",
              "      <td>12.52</td>\n",
              "    </tr>\n",
              "    <tr>\n",
              "      <th>7</th>\n",
              "      <td>01/08/1991</td>\n",
              "      <td>0.00</td>\n",
              "    </tr>\n",
              "    <tr>\n",
              "      <th>8</th>\n",
              "      <td>01/09/1991</td>\n",
              "      <td>33.39</td>\n",
              "    </tr>\n",
              "    <tr>\n",
              "      <th>9</th>\n",
              "      <td>01/10/1991</td>\n",
              "      <td>18.86</td>\n",
              "    </tr>\n",
              "  </tbody>\n",
              "</table>\n",
              "</div>"
            ],
            "text/plain": [
              "         data  valor\n",
              "0  01/01/1991  20.27\n",
              "1  01/02/1991  19.62\n",
              "2  01/03/1991  13.45\n",
              "3  01/04/1991   4.85\n",
              "4  01/05/1991   8.15\n",
              "5  01/06/1991  11.39\n",
              "6  01/07/1991  12.52\n",
              "7  01/08/1991   0.00\n",
              "8  01/09/1991  33.39\n",
              "9  01/10/1991  18.86"
            ]
          },
          "metadata": {
            "tags": []
          },
          "execution_count": 9
        }
      ]
    },
    {
      "cell_type": "code",
      "metadata": {
        "colab": {
          "base_uri": "https://localhost:8080/"
        },
        "id": "SAlIPi1NwHcT",
        "outputId": "33113726-b8e0-4c2b-d1af-34c1ba405d1b"
      },
      "source": [
        "print(df_banco_central)"
      ],
      "execution_count": 10,
      "outputs": [
        {
          "output_type": "stream",
          "text": [
            "           data  valor\n",
            "0    01/01/1991  20.27\n",
            "1    01/02/1991  19.62\n",
            "2    01/03/1991  13.45\n",
            "3    01/04/1991   4.85\n",
            "4    01/05/1991   8.15\n",
            "..          ...    ...\n",
            "357  01/10/2020   0.52\n",
            "358  01/11/2020   0.36\n",
            "359  01/12/2020   1.17\n",
            "360  01/01/2021  -0.03\n",
            "361  01/02/2021   0.48\n",
            "\n",
            "[362 rows x 2 columns]\n"
          ],
          "name": "stdout"
        }
      ]
    },
    {
      "cell_type": "code",
      "metadata": {
        "id": "VOjJ5WopwraM"
      },
      "source": [
        "plt.show()"
      ],
      "execution_count": 20,
      "outputs": []
    },
    {
      "cell_type": "code",
      "metadata": {
        "id": "E3B3FeZ5z5UB"
      },
      "source": [
        ""
      ],
      "execution_count": null,
      "outputs": []
    }
  ]
}