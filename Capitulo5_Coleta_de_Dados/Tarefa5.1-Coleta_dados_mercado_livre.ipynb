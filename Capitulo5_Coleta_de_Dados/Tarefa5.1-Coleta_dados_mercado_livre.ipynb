{
  "nbformat": 4,
  "nbformat_minor": 0,
  "metadata": {
    "colab": {
      "name": "awari_mar_coleta_dados_mercado_livre.ipynb",
      "provenance": [],
      "collapsed_sections": [],
      "toc_visible": true
    },
    "kernelspec": {
      "name": "python3",
      "display_name": "Python 3"
    },
    "language_info": {
      "name": "python"
    }
  },
  "cells": [
    {
      "cell_type": "markdown",
      "metadata": {
        "id": "RsyrL7BMGemY"
      },
      "source": [
        "# Coleta de dados para a calculadora de imóveis"
      ]
    },
    {
      "cell_type": "code",
      "metadata": {
        "id": "08EaWmrFfqXl"
      },
      "source": [
        "from time import sleep\n",
        "import pandas as pd\n",
        "from bs4 import BeautifulSoup\n",
        "import requests"
      ],
      "execution_count": 63,
      "outputs": []
    },
    {
      "cell_type": "code",
      "metadata": {
        "id": "lluQxdo5eB5y"
      },
      "source": [
        "zonas = ['sul', 'norte', 'leste', 'oeste']\n",
        "paginas = ['', '_Desde_49', '_Desde_97', '_Desde_145', '_Desde_193', '_Desde_241']"
      ],
      "execution_count": 50,
      "outputs": []
    },
    {
      "cell_type": "code",
      "metadata": {
        "id": "aL10UzVs8nX_"
      },
      "source": [
        "def coleta_dados(url, zona):\n",
        "  # acessar a url, coletar as informacoes e ir salvando nas listas e depois juntar as listas em uma tabela\n",
        "  res = requests.get(url).content\n",
        "  sopa = BeautifulSoup(res)\n",
        "  \n",
        "  rs_precos = sopa.find_all('span', {'class': 'price-tag-fraction'})\n",
        "  rs_areas_quartos = sopa.find_all('ul', {'class': 'ui-search-card-attributes ui-search-item__group__element'})\n",
        "\n",
        "  lista_precos = []\n",
        "  lista_areas_quartos = []\n",
        "  lista_zonas = []\n",
        "    \n",
        "  for preco, area_quarto in zip(rs_precos, rs_areas_quartos):\n",
        "    lista_precos.append(preco.text)\n",
        "    lista_areas_quartos.append(area_quarto.text)\n",
        "    lista_zonas.append(zona)\n",
        "    \n",
        "  dados = {'aluguel': lista_precos,\n",
        "  'area_quarto': lista_areas_quartos,\n",
        "  'zona': lista_zonas}\n",
        "    \n",
        "  df = pd.DataFrame(dados)\n",
        "\n",
        "  return df"
      ],
      "execution_count": 51,
      "outputs": []
    },
    {
      "cell_type": "code",
      "metadata": {
        "id": "tYpO5vBeQMTJ",
        "colab": {
          "base_uri": "https://localhost:8080/"
        },
        "outputId": "671297f4-9e43-42aa-b403-2e1a5d5c23c4"
      },
      "source": [
        "lista_dfs = []\n",
        "\n",
        "for zona in zonas:\n",
        "  # print('Zona:', zona)\n",
        "  for pagina in paginas:\n",
        "    # print('Pagina:', pagina)\n",
        "    url = f'https://imoveis.mercadolivre.com.br/apartamentos/aluguel/sao-paulo/sao-paulo-zona-{zona}/{pagina}'\n",
        "    print('Coletando dados de', url)\n",
        "    df = coleta_dados(url, zona) # retorna o df \n",
        "    lista_dfs.append(df)\n",
        "    sleep(2)"
      ],
      "execution_count": 53,
      "outputs": [
        {
          "output_type": "stream",
          "text": [
            "Coletando dados de https://imoveis.mercadolivre.com.br/apartamentos/aluguel/sao-paulo/sao-paulo-zona-sul/\n",
            "Coletando dados de https://imoveis.mercadolivre.com.br/apartamentos/aluguel/sao-paulo/sao-paulo-zona-sul/_Desde_49\n",
            "Coletando dados de https://imoveis.mercadolivre.com.br/apartamentos/aluguel/sao-paulo/sao-paulo-zona-sul/_Desde_97\n",
            "Coletando dados de https://imoveis.mercadolivre.com.br/apartamentos/aluguel/sao-paulo/sao-paulo-zona-sul/_Desde_145\n",
            "Coletando dados de https://imoveis.mercadolivre.com.br/apartamentos/aluguel/sao-paulo/sao-paulo-zona-sul/_Desde_193\n",
            "Coletando dados de https://imoveis.mercadolivre.com.br/apartamentos/aluguel/sao-paulo/sao-paulo-zona-sul/_Desde_241\n",
            "Coletando dados de https://imoveis.mercadolivre.com.br/apartamentos/aluguel/sao-paulo/sao-paulo-zona-norte/\n",
            "Coletando dados de https://imoveis.mercadolivre.com.br/apartamentos/aluguel/sao-paulo/sao-paulo-zona-norte/_Desde_49\n",
            "Coletando dados de https://imoveis.mercadolivre.com.br/apartamentos/aluguel/sao-paulo/sao-paulo-zona-norte/_Desde_97\n",
            "Coletando dados de https://imoveis.mercadolivre.com.br/apartamentos/aluguel/sao-paulo/sao-paulo-zona-norte/_Desde_145\n",
            "Coletando dados de https://imoveis.mercadolivre.com.br/apartamentos/aluguel/sao-paulo/sao-paulo-zona-norte/_Desde_193\n",
            "Coletando dados de https://imoveis.mercadolivre.com.br/apartamentos/aluguel/sao-paulo/sao-paulo-zona-norte/_Desde_241\n",
            "Coletando dados de https://imoveis.mercadolivre.com.br/apartamentos/aluguel/sao-paulo/sao-paulo-zona-leste/\n",
            "Coletando dados de https://imoveis.mercadolivre.com.br/apartamentos/aluguel/sao-paulo/sao-paulo-zona-leste/_Desde_49\n",
            "Coletando dados de https://imoveis.mercadolivre.com.br/apartamentos/aluguel/sao-paulo/sao-paulo-zona-leste/_Desde_97\n",
            "Coletando dados de https://imoveis.mercadolivre.com.br/apartamentos/aluguel/sao-paulo/sao-paulo-zona-leste/_Desde_145\n",
            "Coletando dados de https://imoveis.mercadolivre.com.br/apartamentos/aluguel/sao-paulo/sao-paulo-zona-leste/_Desde_193\n",
            "Coletando dados de https://imoveis.mercadolivre.com.br/apartamentos/aluguel/sao-paulo/sao-paulo-zona-leste/_Desde_241\n",
            "Coletando dados de https://imoveis.mercadolivre.com.br/apartamentos/aluguel/sao-paulo/sao-paulo-zona-oeste/\n",
            "Coletando dados de https://imoveis.mercadolivre.com.br/apartamentos/aluguel/sao-paulo/sao-paulo-zona-oeste/_Desde_49\n",
            "Coletando dados de https://imoveis.mercadolivre.com.br/apartamentos/aluguel/sao-paulo/sao-paulo-zona-oeste/_Desde_97\n",
            "Coletando dados de https://imoveis.mercadolivre.com.br/apartamentos/aluguel/sao-paulo/sao-paulo-zona-oeste/_Desde_145\n",
            "Coletando dados de https://imoveis.mercadolivre.com.br/apartamentos/aluguel/sao-paulo/sao-paulo-zona-oeste/_Desde_193\n",
            "Coletando dados de https://imoveis.mercadolivre.com.br/apartamentos/aluguel/sao-paulo/sao-paulo-zona-oeste/_Desde_241\n"
          ],
          "name": "stdout"
        }
      ]
    },
    {
      "cell_type": "code",
      "metadata": {
        "id": "DeCmwZFC7ThN"
      },
      "source": [
        "df_ml = pd.concat(lista_dfs, axis=0)"
      ],
      "execution_count": 54,
      "outputs": []
    },
    {
      "cell_type": "code",
      "metadata": {
        "colab": {
          "base_uri": "https://localhost:8080/",
          "height": 203
        },
        "id": "lMFU-fDM7x8G",
        "outputId": "0a9a35fc-9510-4cb8-f955-018cb5742793"
      },
      "source": [
        "df_ml.head()"
      ],
      "execution_count": 55,
      "outputs": [
        {
          "output_type": "execute_result",
          "data": {
            "text/html": [
              "<div>\n",
              "<style scoped>\n",
              "    .dataframe tbody tr th:only-of-type {\n",
              "        vertical-align: middle;\n",
              "    }\n",
              "\n",
              "    .dataframe tbody tr th {\n",
              "        vertical-align: top;\n",
              "    }\n",
              "\n",
              "    .dataframe thead th {\n",
              "        text-align: right;\n",
              "    }\n",
              "</style>\n",
              "<table border=\"1\" class=\"dataframe\">\n",
              "  <thead>\n",
              "    <tr style=\"text-align: right;\">\n",
              "      <th></th>\n",
              "      <th>aluguel</th>\n",
              "      <th>area_quarto</th>\n",
              "      <th>zona</th>\n",
              "    </tr>\n",
              "  </thead>\n",
              "  <tbody>\n",
              "    <tr>\n",
              "      <th>0</th>\n",
              "      <td>1.000</td>\n",
              "      <td>48 m² construídos2 quartos</td>\n",
              "      <td>sul</td>\n",
              "    </tr>\n",
              "    <tr>\n",
              "      <th>1</th>\n",
              "      <td>1.200</td>\n",
              "      <td>67 m² construídos3 quartos</td>\n",
              "      <td>sul</td>\n",
              "    </tr>\n",
              "    <tr>\n",
              "      <th>2</th>\n",
              "      <td>1.300</td>\n",
              "      <td>65 m² construídos2 quartos</td>\n",
              "      <td>sul</td>\n",
              "    </tr>\n",
              "    <tr>\n",
              "      <th>3</th>\n",
              "      <td>1.280</td>\n",
              "      <td>65 m² construídos2 quartos</td>\n",
              "      <td>sul</td>\n",
              "    </tr>\n",
              "    <tr>\n",
              "      <th>4</th>\n",
              "      <td>1.100</td>\n",
              "      <td>50 m² construídos2 quartos</td>\n",
              "      <td>sul</td>\n",
              "    </tr>\n",
              "  </tbody>\n",
              "</table>\n",
              "</div>"
            ],
            "text/plain": [
              "  aluguel                 area_quarto zona\n",
              "0   1.000  48 m² construídos2 quartos  sul\n",
              "1   1.200  67 m² construídos3 quartos  sul\n",
              "2   1.300  65 m² construídos2 quartos  sul\n",
              "3   1.280  65 m² construídos2 quartos  sul\n",
              "4   1.100  50 m² construídos2 quartos  sul"
            ]
          },
          "metadata": {
            "tags": []
          },
          "execution_count": 55
        }
      ]
    },
    {
      "cell_type": "code",
      "metadata": {
        "colab": {
          "base_uri": "https://localhost:8080/"
        },
        "id": "1_Nr4xh9CcGU",
        "outputId": "5597e639-b1ac-4828-8eb1-60636e505986"
      },
      "source": [
        "df_ml.shape "
      ],
      "execution_count": 58,
      "outputs": [
        {
          "output_type": "execute_result",
          "data": {
            "text/plain": [
              "(1152, 3)"
            ]
          },
          "metadata": {
            "tags": []
          },
          "execution_count": 58
        }
      ]
    },
    {
      "cell_type": "code",
      "metadata": {
        "colab": {
          "base_uri": "https://localhost:8080/"
        },
        "id": "XxJjk8naAe8Y",
        "outputId": "1542816d-ce36-4d8d-da61-e8924be8c93c"
      },
      "source": [
        "type(df_ml['aluguel'])"
      ],
      "execution_count": 41,
      "outputs": [
        {
          "output_type": "execute_result",
          "data": {
            "text/plain": [
              "pandas.core.series.Series"
            ]
          },
          "metadata": {
            "tags": []
          },
          "execution_count": 41
        }
      ]
    },
    {
      "cell_type": "code",
      "metadata": {
        "colab": {
          "base_uri": "https://localhost:8080/"
        },
        "id": "AUK111jVAhne",
        "outputId": "a996a6f1-4e96-4357-d6f0-ec9793e42544"
      },
      "source": [
        "type(df_ml['aluguel'].values)"
      ],
      "execution_count": 48,
      "outputs": [
        {
          "output_type": "execute_result",
          "data": {
            "text/plain": [
              "numpy.ndarray"
            ]
          },
          "metadata": {
            "tags": []
          },
          "execution_count": 48
        }
      ]
    },
    {
      "cell_type": "code",
      "metadata": {
        "colab": {
          "base_uri": "https://localhost:8080/"
        },
        "id": "7mmyeYM1A8in",
        "outputId": "eb58f606-86ad-4c6c-8edf-de2d1883f40e"
      },
      "source": [
        "type(df_ml['aluguel'].values[0])"
      ],
      "execution_count": 49,
      "outputs": [
        {
          "output_type": "execute_result",
          "data": {
            "text/plain": [
              "str"
            ]
          },
          "metadata": {
            "tags": []
          },
          "execution_count": 49
        }
      ]
    },
    {
      "cell_type": "code",
      "metadata": {
        "id": "B2z-IcstBOM_"
      },
      "source": [
        "df_ml.to_csv('dados_mercado_livre.csv', index=False)"
      ],
      "execution_count": 67,
      "outputs": []
    },
    {
      "cell_type": "code",
      "metadata": {
        "colab": {
          "base_uri": "https://localhost:8080/",
          "height": 417
        },
        "id": "e0ig_7qcCpEO",
        "outputId": "98010fda-ff95-4a60-a405-d7570fd053a4"
      },
      "source": [
        "pd.read_csv('dados_mercado_livre.csv', thousands='.')"
      ],
      "execution_count": 68,
      "outputs": [
        {
          "output_type": "execute_result",
          "data": {
            "text/html": [
              "<div>\n",
              "<style scoped>\n",
              "    .dataframe tbody tr th:only-of-type {\n",
              "        vertical-align: middle;\n",
              "    }\n",
              "\n",
              "    .dataframe tbody tr th {\n",
              "        vertical-align: top;\n",
              "    }\n",
              "\n",
              "    .dataframe thead th {\n",
              "        text-align: right;\n",
              "    }\n",
              "</style>\n",
              "<table border=\"1\" class=\"dataframe\">\n",
              "  <thead>\n",
              "    <tr style=\"text-align: right;\">\n",
              "      <th></th>\n",
              "      <th>aluguel</th>\n",
              "      <th>area_quarto</th>\n",
              "      <th>zona</th>\n",
              "    </tr>\n",
              "  </thead>\n",
              "  <tbody>\n",
              "    <tr>\n",
              "      <th>0</th>\n",
              "      <td>1000</td>\n",
              "      <td>48 m² construídos2 quartos</td>\n",
              "      <td>sul</td>\n",
              "    </tr>\n",
              "    <tr>\n",
              "      <th>1</th>\n",
              "      <td>1200</td>\n",
              "      <td>67 m² construídos3 quartos</td>\n",
              "      <td>sul</td>\n",
              "    </tr>\n",
              "    <tr>\n",
              "      <th>2</th>\n",
              "      <td>1300</td>\n",
              "      <td>65 m² construídos2 quartos</td>\n",
              "      <td>sul</td>\n",
              "    </tr>\n",
              "    <tr>\n",
              "      <th>3</th>\n",
              "      <td>1280</td>\n",
              "      <td>65 m² construídos2 quartos</td>\n",
              "      <td>sul</td>\n",
              "    </tr>\n",
              "    <tr>\n",
              "      <th>4</th>\n",
              "      <td>1100</td>\n",
              "      <td>50 m² construídos2 quartos</td>\n",
              "      <td>sul</td>\n",
              "    </tr>\n",
              "    <tr>\n",
              "      <th>...</th>\n",
              "      <td>...</td>\n",
              "      <td>...</td>\n",
              "      <td>...</td>\n",
              "    </tr>\n",
              "    <tr>\n",
              "      <th>1147</th>\n",
              "      <td>3000</td>\n",
              "      <td>47 m² construídos1 quarto</td>\n",
              "      <td>oeste</td>\n",
              "    </tr>\n",
              "    <tr>\n",
              "      <th>1148</th>\n",
              "      <td>1700</td>\n",
              "      <td>199 m² construídos4 quartos</td>\n",
              "      <td>oeste</td>\n",
              "    </tr>\n",
              "    <tr>\n",
              "      <th>1149</th>\n",
              "      <td>1800</td>\n",
              "      <td>85 m² construídos1 quarto</td>\n",
              "      <td>oeste</td>\n",
              "    </tr>\n",
              "    <tr>\n",
              "      <th>1150</th>\n",
              "      <td>3400</td>\n",
              "      <td>97 m² construídos3 quartos</td>\n",
              "      <td>oeste</td>\n",
              "    </tr>\n",
              "    <tr>\n",
              "      <th>1151</th>\n",
              "      <td>4200</td>\n",
              "      <td>115 m² construídos3 quartos</td>\n",
              "      <td>oeste</td>\n",
              "    </tr>\n",
              "  </tbody>\n",
              "</table>\n",
              "<p>1152 rows × 3 columns</p>\n",
              "</div>"
            ],
            "text/plain": [
              "      aluguel                  area_quarto   zona\n",
              "0        1000   48 m² construídos2 quartos    sul\n",
              "1        1200   67 m² construídos3 quartos    sul\n",
              "2        1300   65 m² construídos2 quartos    sul\n",
              "3        1280   65 m² construídos2 quartos    sul\n",
              "4        1100   50 m² construídos2 quartos    sul\n",
              "...       ...                          ...    ...\n",
              "1147     3000    47 m² construídos1 quarto  oeste\n",
              "1148     1700  199 m² construídos4 quartos  oeste\n",
              "1149     1800    85 m² construídos1 quarto  oeste\n",
              "1150     3400   97 m² construídos3 quartos  oeste\n",
              "1151     4200  115 m² construídos3 quartos  oeste\n",
              "\n",
              "[1152 rows x 3 columns]"
            ]
          },
          "metadata": {
            "tags": []
          },
          "execution_count": 68
        }
      ]
    },
    {
      "cell_type": "code",
      "metadata": {
        "id": "8NjlDN_fC2MA"
      },
      "source": [
        ""
      ],
      "execution_count": null,
      "outputs": []
    }
  ]
}