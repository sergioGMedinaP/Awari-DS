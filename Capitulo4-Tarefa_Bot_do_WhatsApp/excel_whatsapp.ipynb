{
 "cells": [
  {
   "cell_type": "code",
   "execution_count": 23,
   "metadata": {},
   "outputs": [
    {
     "name": "stdout",
     "output_type": "stream",
     "text": [
      "Loading...\n",
      "Please scan the QR Code\n",
      "Pressione enter apos escanear o QR Code\n"
     ]
    }
   ],
   "source": [
    "# importa pacotes necessários\n",
    "\n",
    "import pandas as pd # importa pandas para leitura do excel\n",
    "from time import sleep # importa sleep do time para fazer pausa\n",
    "from whatsapp_api import WhatsApp # importa biblioteca para whatsapp\n",
    "\n",
    "# faz a leitura do arquivo excel\n",
    "df = pd.read_excel('contato.xlsx')\n",
    "\n",
    "# cria três listas de apoio\n",
    "lista_contato = list(df['Contato'])\n",
    "lista_nome = list(df['Nome'])\n",
    "lista_mensagem = list(df['Mensagem'])\n",
    "\n",
    "# Inicializar o whatsapp\n",
    "wp = WhatsApp()\n",
    "\n",
    "# Esperar que enter seja pressionado\n",
    "input(\"Pressione enter apos escanear o QR Code\")\n",
    "\n",
    "# Loop para mandar mensagens para os clientes\n",
    "for primeiro_nome, nome_pesquisar, mensagem in zip(lista_nome, lista_contato, lista_mensagen):\n",
    "    \n",
    "    # Pesquisar pelo contato e esperar um pouco\n",
    "    wp.search_contact(nome_pesquisar)\n",
    "    sleep(2)\n",
    "    \n",
    "    # Mensagem a ser enviada\n",
    "    mensagem = f\"bot: Olá {primeiro_nome}! {mensagem}!\"\n",
    "    \n",
    "    # Enviar mensagem\n",
    "    wp.send_message(mensagem)\n",
    "\n",
    "# Esperar 10 segundos e fechar\n",
    "sleep(10)\n",
    "wp.driver.close()"
   ]
  }
 ],
 "metadata": {
  "kernelspec": {
   "display_name": "Python 3",
   "language": "python",
   "name": "python3"
  },
  "language_info": {
   "codemirror_mode": {
    "name": "ipython",
    "version": 3
   },
   "file_extension": ".py",
   "mimetype": "text/x-python",
   "name": "python",
   "nbconvert_exporter": "python",
   "pygments_lexer": "ipython3",
   "version": "3.8.5"
  }
 },
 "nbformat": 4,
 "nbformat_minor": 4
}
