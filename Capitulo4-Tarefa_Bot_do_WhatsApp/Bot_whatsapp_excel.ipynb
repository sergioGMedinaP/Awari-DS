{
  "nbformat": 4,
  "nbformat_minor": 0,
  "metadata": {
    "colab": {
      "name": "Bot_whatsapp_excel.ipynb",
      "provenance": [],
      "include_colab_link": true
    },
    "kernelspec": {
      "display_name": "Python 3",
      "language": "python",
      "name": "python3"
    },
    "language_info": {
      "codemirror_mode": {
        "name": "ipython",
        "version": 3
      },
      "file_extension": ".py",
      "mimetype": "text/x-python",
      "name": "python",
      "nbconvert_exporter": "python",
      "pygments_lexer": "ipython3",
      "version": "3.7.9"
    }
  },
  "cells": [
    {
      "cell_type": "markdown",
      "metadata": {
        "id": "view-in-github",
        "colab_type": "text"
      },
      "source": [
        "<a href=\"https://colab.research.google.com/github/sergioGMedinaP/Awari-DS-Mar2021/blob/master/Capitulo4-Tarefa_Bot_do_WhatsApp/Bot_whatsapp_excel.ipynb\" target=\"_parent\"><img src=\"https://colab.research.google.com/assets/colab-badge.svg\" alt=\"Open In Colab\"/></a>"
      ]
    },
    {
      "cell_type": "markdown",
      "metadata": {
        "id": "Z0dNn3Oc-PVM"
      },
      "source": [
        "<h1 style=\"color:blue\"> Tarefa4.1: Bot do WhatsApp - Lendo Contatos a Partir de Planilhas </h1>\n",
        "\n",
        "Durante a aula você aprendeu como utilizar métodos de uma classe que controla o Whatsapp Web a partir da biblioteca Selenium, que nos auxilia a controlar navegadores em Python. \n",
        "Você viu também como utilizar loops para enviar mensagens para uma lista de contatos presentes em uma tabela do excel.\n",
        "\n",
        "Submeta o link do seu repositório no GitHub em que consta a realização da ativadade mencionada acima."
      ]
    },
    {
      "cell_type": "code",
      "metadata": {
        "id": "cVp6qkiZ9BcD"
      },
      "source": [
        "# importa pacotes necessários\n",
        "\n",
        "import pandas as pd # importa pandas para leitura do excel\n",
        "from time import sleep # importa sleep do time para fazer pausa\n"
      ],
      "execution_count": null,
      "outputs": []
    },
    {
      "cell_type": "markdown",
      "metadata": {
        "id": "nGQka3u6Iuzx",
        "outputId": "ae4f8b26-f1c2-492d-f5c8-b90c50f8a2ce"
      },
      "source": [
        "<h2 style = \"color:green\"> Verificar se está instalado o Selenium </h2>\n",
        "<h3> Comando</h3>\n",
        "\n",
        "pip install selenium"
      ]
    },
    {
      "cell_type": "code",
      "metadata": {
        "id": "stLnSEY_K6zB"
      },
      "source": [
        "from selenium import webdriver\n",
        "from selenium.webdriver.common.keys import Keys\n",
        "from selenium.webdriver.chrome.options import Options"
      ],
      "execution_count": null,
      "outputs": []
    },
    {
      "cell_type": "code",
      "metadata": {
        "id": "Eq1QO5MLInh4"
      },
      "source": [
        "from whatsapp_api import WhatsApp # importa biblioteca para whatsapp"
      ],
      "execution_count": null,
      "outputs": []
    },
    {
      "cell_type": "markdown",
      "metadata": {
        "id": "yW_f81uLdk9F"
      },
      "source": [
        "<h2 style = \"color:green\"> Verificar se está instalado xlrd==1.2.0 (Abrir um arquivo em excel (.xls)</h2>\n",
        "<h3> Comando</h3>\n",
        "\n",
        "pip install xlrd==1.2.0"
      ]
    },
    {
      "cell_type": "code",
      "metadata": {
        "id": "642loYVwdk9G",
        "outputId": "84063e4a-3a2b-48a4-e594-327c19445407"
      },
      "source": [
        "# faz a leitura do arquivo excel\n",
        "\n",
        "file_name = 'contato.xlsx' \n",
        "#dfs = pd.read_excel(file_name, sheet_name=None)\n",
        "\n",
        "\n",
        "df_contato = pd.read_excel(file_name)\n",
        "print(df_contato.head())\n",
        "\n"
      ],
      "execution_count": null,
      "outputs": [
        {
          "output_type": "stream",
          "text": [
            "             Contato      Nome            Link  \\\n",
            "0  +55 13 99178-2164      Fran  http://aaa.bbb   \n",
            "1  +55 13 98801-2036   JP e HG  http://ccc.ddd   \n",
            "2  +55 13 98117-8561  Claudete  http://eee.fff   \n",
            "\n",
            "                                            Mensagem  \n",
            "0  Olá Fran, Obrigado pela sua compra! Segue o se...  \n",
            "1  Olá JP e HG, Obrigado pela sua compra! Segue o...  \n",
            "2  Olá Claudete, Obrigado pela sua compra! Segue ...  \n"
          ],
          "name": "stdout"
        }
      ]
    },
    {
      "cell_type": "code",
      "metadata": {
        "id": "vNeF07zydk9I",
        "outputId": "35a0604c-21b6-4a95-f027-3b20f84842ab"
      },
      "source": [
        "# cria três listas de apoio\n",
        "lista_contato = list(df_contato['Contato'])\n",
        "lista_nome = list(df_contato['Nome'])\n",
        "lista_link = list(df_contato['Link'])\n",
        "lista_mensagem = list(df_contato['Mensagem'])\n",
        "\n",
        "print(lista_contato)\n",
        "print(lista_nome)\n",
        "print(lista_link)\n",
        "print(lista_mensagem)"
      ],
      "execution_count": null,
      "outputs": [
        {
          "output_type": "stream",
          "text": [
            "['+55 13 99178-2164', '+55 13 98801-2036', '+55 13 98117-8561']\n",
            "['Fran', 'JP e HG', 'Claudete']\n",
            "['http://aaa.bbb', 'http://ccc.ddd', 'http://eee.fff']\n",
            "['Olá Fran, Obrigado pela sua compra! Segue o seu link de rastreamento: http://aaa.bbb', 'Olá JP e HG, Obrigado pela sua compra! Segue o seu link de rastreamento: http://ccc.ddd', 'Olá Claudete, Obrigado pela sua compra! Segue o seu link de rastreamento: http://eee.fff']\n"
          ],
          "name": "stdout"
        }
      ]
    },
    {
      "cell_type": "code",
      "metadata": {
        "colab": {
          "base_uri": "https://localhost:8080/",
          "height": 459
        },
        "id": "gbgNJPUy-Oct",
        "outputId": "bcbfeb82-270e-41f0-e65c-d32f42170feb"
      },
      "source": [
        "# Inicializar o whatsapp\n",
        "wp = WhatsApp()\n",
        "\n",
        "# Esperar que enter seja pressionado\n",
        "input(\"Pressione enter apos escanear o QR Code\")\n",
        "\n",
        "# Loop para mandar mensagens para os clientes\n",
        "for primeiro_nome, nome_pesquisar, enviar_mensagem in zip(lista_nome, lista_contato, lista_mensagem):\n",
        "    # Pesquisar pelo contato e esperar um pouco\n",
        "    wp.search_contact(nome_pesquisar)\n",
        "    sleep(2)\n",
        "    \n",
        "    # Mensagem a ser enviada\n",
        "    mensagem = f\"bot: Olá {primeiro_nome}! {enviar_mensagem}!\"\n",
        "    \n",
        "    # Enviar mensagem\n",
        "    wp.send_message(mensagem)\n",
        "\n",
        "# Esperar 10 segundos e fechar\n",
        "sleep(10)\n",
        "wp.driver.close()"
      ],
      "execution_count": null,
      "outputs": [
        {
          "output_type": "stream",
          "text": [
            "Loading...\n",
            "Please scan the QR Code\n",
            "Pressione enter apos escanear o QR Code\n"
          ],
          "name": "stdout"
        }
      ]
    },
    {
      "cell_type": "code",
      "metadata": {
        "id": "a5ip45qzdk9J"
      },
      "source": [
        ""
      ],
      "execution_count": null,
      "outputs": []
    }
  ]
}