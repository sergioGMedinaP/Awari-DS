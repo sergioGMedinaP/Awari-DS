{
 "cells": [
  {
   "cell_type": "markdown",
   "metadata": {
    "id": "RsyrL7BMGemY"
   },
   "source": [
    "<h1 style=\"color:blue\"> Tarefa 6.1: Coleta de dados para a calculadora de imóveis (Manipulação de Dados) </h1>\n",
    "\n",
    "Durante as aulas, você aprendeu a utilizar Python puro, Pandas e Regex para tratamento dos dados dos imóveis coletados na etapa anterior. \n",
    "\n",
    "Separar valores de aluguéis, números de quartos, áreas, entre outros, pode requerer procedimentos extensos e trabalhosos.\n",
    "\n",
    "Submeta no campo abaixo um link de seu repositório no GitHub em que conste os procedimentos realizados por você para tratar os dados dos imóveis que você coletou na etapa passada.\n"
   ]
  },
  {
   "cell_type": "code",
   "execution_count": 1,
   "metadata": {
    "id": "08EaWmrFfqXl"
   },
   "outputs": [],
   "source": [
    "from time import sleep\n",
    "import pandas as pd\n",
    "from bs4 import BeautifulSoup\n",
    "import requests"
   ]
  },
  {
   "cell_type": "code",
   "execution_count": 2,
   "metadata": {
    "id": "lluQxdo5eB5y"
   },
   "outputs": [],
   "source": [
    "zonas = ['sul', 'norte', 'leste', 'oeste']\n",
    "paginas = ['', '_Desde_49', '_Desde_97', '_Desde_145', '_Desde_193', '_Desde_241']"
   ]
  },
  {
   "cell_type": "code",
   "execution_count": 3,
   "metadata": {
    "id": "aL10UzVs8nX_"
   },
   "outputs": [],
   "source": [
    "def coleta_dados(url, zona):\n",
    "  # acessar a url, coletar as informacoes e ir salvando nas listas e depois juntar as listas em uma tabela\n",
    "    res = requests.get(url).content\n",
    "    sopa = BeautifulSoup(res)\n",
    "\n",
    "    rs_precos = sopa.find_all('span', {'class': 'price-tag-fraction'})\n",
    "    rs_areas_quartos = sopa.find_all('ul', {'class': 'ui-search-card-attributes ui-search-item__group__element'})\n",
    "\n",
    "    lista_precos = []\n",
    "    lista_areas_quartos = []\n",
    "    lista_zonas = []\n",
    "    \n",
    "    for preco, area_quarto in zip(rs_precos, rs_areas_quartos):\n",
    "        lista_precos.append(preco.text)\n",
    "        lista_areas_quartos.append(area_quarto.text)\n",
    "        lista_zonas.append(zona)\n",
    "    \n",
    "    dados_dic = {'aluguel': lista_precos,\n",
    "                  'area_quarto': lista_areas_quartos,\n",
    "                 'zona': lista_zonas\n",
    "                  }\n",
    "    \n",
    "    df = pd.DataFrame(dados_dic)\n",
    "\n",
    "    return df"
   ]
  },
  {
   "cell_type": "code",
   "execution_count": 4,
   "metadata": {
    "colab": {
     "base_uri": "https://localhost:8080/"
    },
    "id": "tYpO5vBeQMTJ",
    "outputId": "c958dbaf-5e73-4025-d001-93a02d328638"
   },
   "outputs": [
    {
     "name": "stdout",
     "output_type": "stream",
     "text": [
      "Coletando dados de https://imoveis.mercadolivre.com.br/apartamentos/aluguel/sao-paulo/sao-paulo-zona-sul/\n",
      "Coletando dados de https://imoveis.mercadolivre.com.br/apartamentos/aluguel/sao-paulo/sao-paulo-zona-sul/_Desde_49\n",
      "Coletando dados de https://imoveis.mercadolivre.com.br/apartamentos/aluguel/sao-paulo/sao-paulo-zona-sul/_Desde_97\n",
      "Coletando dados de https://imoveis.mercadolivre.com.br/apartamentos/aluguel/sao-paulo/sao-paulo-zona-sul/_Desde_145\n",
      "Coletando dados de https://imoveis.mercadolivre.com.br/apartamentos/aluguel/sao-paulo/sao-paulo-zona-sul/_Desde_193\n",
      "Coletando dados de https://imoveis.mercadolivre.com.br/apartamentos/aluguel/sao-paulo/sao-paulo-zona-sul/_Desde_241\n",
      "Coletando dados de https://imoveis.mercadolivre.com.br/apartamentos/aluguel/sao-paulo/sao-paulo-zona-norte/\n",
      "Coletando dados de https://imoveis.mercadolivre.com.br/apartamentos/aluguel/sao-paulo/sao-paulo-zona-norte/_Desde_49\n",
      "Coletando dados de https://imoveis.mercadolivre.com.br/apartamentos/aluguel/sao-paulo/sao-paulo-zona-norte/_Desde_97\n",
      "Coletando dados de https://imoveis.mercadolivre.com.br/apartamentos/aluguel/sao-paulo/sao-paulo-zona-norte/_Desde_145\n",
      "Coletando dados de https://imoveis.mercadolivre.com.br/apartamentos/aluguel/sao-paulo/sao-paulo-zona-norte/_Desde_193\n",
      "Coletando dados de https://imoveis.mercadolivre.com.br/apartamentos/aluguel/sao-paulo/sao-paulo-zona-norte/_Desde_241\n",
      "Coletando dados de https://imoveis.mercadolivre.com.br/apartamentos/aluguel/sao-paulo/sao-paulo-zona-leste/\n",
      "Coletando dados de https://imoveis.mercadolivre.com.br/apartamentos/aluguel/sao-paulo/sao-paulo-zona-leste/_Desde_49\n",
      "Coletando dados de https://imoveis.mercadolivre.com.br/apartamentos/aluguel/sao-paulo/sao-paulo-zona-leste/_Desde_97\n",
      "Coletando dados de https://imoveis.mercadolivre.com.br/apartamentos/aluguel/sao-paulo/sao-paulo-zona-leste/_Desde_145\n",
      "Coletando dados de https://imoveis.mercadolivre.com.br/apartamentos/aluguel/sao-paulo/sao-paulo-zona-leste/_Desde_193\n",
      "Coletando dados de https://imoveis.mercadolivre.com.br/apartamentos/aluguel/sao-paulo/sao-paulo-zona-leste/_Desde_241\n",
      "Coletando dados de https://imoveis.mercadolivre.com.br/apartamentos/aluguel/sao-paulo/sao-paulo-zona-oeste/\n",
      "Coletando dados de https://imoveis.mercadolivre.com.br/apartamentos/aluguel/sao-paulo/sao-paulo-zona-oeste/_Desde_49\n",
      "Coletando dados de https://imoveis.mercadolivre.com.br/apartamentos/aluguel/sao-paulo/sao-paulo-zona-oeste/_Desde_97\n",
      "Coletando dados de https://imoveis.mercadolivre.com.br/apartamentos/aluguel/sao-paulo/sao-paulo-zona-oeste/_Desde_145\n",
      "Coletando dados de https://imoveis.mercadolivre.com.br/apartamentos/aluguel/sao-paulo/sao-paulo-zona-oeste/_Desde_193\n",
      "Coletando dados de https://imoveis.mercadolivre.com.br/apartamentos/aluguel/sao-paulo/sao-paulo-zona-oeste/_Desde_241\n"
     ]
    }
   ],
   "source": [
    "lista_dfs = []\n",
    "\n",
    "for zona in zonas:\n",
    "  # print('Zona:', zona)\n",
    "  for pagina in paginas:\n",
    "    # print('Pagina:', pagina)\n",
    "    url = f'https://imoveis.mercadolivre.com.br/apartamentos/aluguel/sao-paulo/sao-paulo-zona-{zona}/{pagina}'\n",
    "    print('Coletando dados de', url)\n",
    "    df = coleta_dados(url, zona) # retorna o df \n",
    "    lista_dfs.append(df)\n",
    "    sleep(2)"
   ]
  },
  {
   "cell_type": "code",
   "execution_count": 27,
   "metadata": {
    "id": "DeCmwZFC7ThN"
   },
   "outputs": [],
   "source": [
    "# cocantenando o retorno do ML (linha) para formar um DF (axis = 0 )\n",
    "df_ml = pd.concat(lista_dfs, axis=0)"
   ]
  },
  {
   "cell_type": "code",
   "execution_count": 28,
   "metadata": {
    "colab": {
     "base_uri": "https://localhost:8080/",
     "height": 203
    },
    "id": "lMFU-fDM7x8G",
    "outputId": "c5c7699a-eacf-4df5-b356-81a174e69a70"
   },
   "outputs": [
    {
     "data": {
      "text/html": [
       "<div>\n",
       "<style scoped>\n",
       "    .dataframe tbody tr th:only-of-type {\n",
       "        vertical-align: middle;\n",
       "    }\n",
       "\n",
       "    .dataframe tbody tr th {\n",
       "        vertical-align: top;\n",
       "    }\n",
       "\n",
       "    .dataframe thead th {\n",
       "        text-align: right;\n",
       "    }\n",
       "</style>\n",
       "<table border=\"1\" class=\"dataframe\">\n",
       "  <thead>\n",
       "    <tr style=\"text-align: right;\">\n",
       "      <th></th>\n",
       "      <th>aluguel</th>\n",
       "      <th>area_quarto</th>\n",
       "      <th>zona</th>\n",
       "    </tr>\n",
       "  </thead>\n",
       "  <tbody>\n",
       "    <tr>\n",
       "      <th>0</th>\n",
       "      <td>900</td>\n",
       "      <td>58 m² construídos2 quartos</td>\n",
       "      <td>sul</td>\n",
       "    </tr>\n",
       "    <tr>\n",
       "      <th>1</th>\n",
       "      <td>1.500</td>\n",
       "      <td>68 m² construídos2 quartos</td>\n",
       "      <td>sul</td>\n",
       "    </tr>\n",
       "    <tr>\n",
       "      <th>2</th>\n",
       "      <td>1.320</td>\n",
       "      <td>87 m² construídos2 quartos</td>\n",
       "      <td>sul</td>\n",
       "    </tr>\n",
       "    <tr>\n",
       "      <th>3</th>\n",
       "      <td>2.500</td>\n",
       "      <td>100 m² construídos2 quartos</td>\n",
       "      <td>sul</td>\n",
       "    </tr>\n",
       "    <tr>\n",
       "      <th>4</th>\n",
       "      <td>1.290</td>\n",
       "      <td>38 m² construídos1 quarto</td>\n",
       "      <td>sul</td>\n",
       "    </tr>\n",
       "    <tr>\n",
       "      <th>5</th>\n",
       "      <td>1.550</td>\n",
       "      <td>72 m² construídos2 quartos</td>\n",
       "      <td>sul</td>\n",
       "    </tr>\n",
       "    <tr>\n",
       "      <th>6</th>\n",
       "      <td>620</td>\n",
       "      <td>55 m² construídos1 quarto</td>\n",
       "      <td>sul</td>\n",
       "    </tr>\n",
       "    <tr>\n",
       "      <th>7</th>\n",
       "      <td>1.400</td>\n",
       "      <td>72 m² construídos2 quartos</td>\n",
       "      <td>sul</td>\n",
       "    </tr>\n",
       "    <tr>\n",
       "      <th>8</th>\n",
       "      <td>1.350</td>\n",
       "      <td>49 m² construídos2 quartos</td>\n",
       "      <td>sul</td>\n",
       "    </tr>\n",
       "    <tr>\n",
       "      <th>9</th>\n",
       "      <td>4.500</td>\n",
       "      <td>88 m² construídos3 quartos</td>\n",
       "      <td>sul</td>\n",
       "    </tr>\n",
       "  </tbody>\n",
       "</table>\n",
       "</div>"
      ],
      "text/plain": [
       "  aluguel                  area_quarto zona\n",
       "0     900   58 m² construídos2 quartos  sul\n",
       "1   1.500   68 m² construídos2 quartos  sul\n",
       "2   1.320   87 m² construídos2 quartos  sul\n",
       "3   2.500  100 m² construídos2 quartos  sul\n",
       "4   1.290    38 m² construídos1 quarto  sul\n",
       "5   1.550   72 m² construídos2 quartos  sul\n",
       "6     620    55 m² construídos1 quarto  sul\n",
       "7   1.400   72 m² construídos2 quartos  sul\n",
       "8   1.350   49 m² construídos2 quartos  sul\n",
       "9   4.500   88 m² construídos3 quartos  sul"
      ]
     },
     "execution_count": 28,
     "metadata": {},
     "output_type": "execute_result"
    }
   ],
   "source": [
    "df_ml.head(10)"
   ]
  },
  {
   "cell_type": "code",
   "execution_count": 26,
   "metadata": {},
   "outputs": [
    {
     "data": {
      "text/html": [
       "<div>\n",
       "<style scoped>\n",
       "    .dataframe tbody tr th:only-of-type {\n",
       "        vertical-align: middle;\n",
       "    }\n",
       "\n",
       "    .dataframe tbody tr th {\n",
       "        vertical-align: top;\n",
       "    }\n",
       "\n",
       "    .dataframe thead th {\n",
       "        text-align: right;\n",
       "    }\n",
       "</style>\n",
       "<table border=\"1\" class=\"dataframe\">\n",
       "  <thead>\n",
       "    <tr style=\"text-align: right;\">\n",
       "      <th></th>\n",
       "      <th>aluguel</th>\n",
       "      <th>area_quarto</th>\n",
       "      <th>zona</th>\n",
       "    </tr>\n",
       "  </thead>\n",
       "  <tbody>\n",
       "    <tr>\n",
       "      <th>0</th>\n",
       "      <td>900.00</td>\n",
       "      <td>58 m² construídos2 quartos</td>\n",
       "      <td>sul</td>\n",
       "    </tr>\n",
       "    <tr>\n",
       "      <th>1</th>\n",
       "      <td>1.50</td>\n",
       "      <td>68 m² construídos2 quartos</td>\n",
       "      <td>sul</td>\n",
       "    </tr>\n",
       "    <tr>\n",
       "      <th>2</th>\n",
       "      <td>1.32</td>\n",
       "      <td>87 m² construídos2 quartos</td>\n",
       "      <td>sul</td>\n",
       "    </tr>\n",
       "    <tr>\n",
       "      <th>3</th>\n",
       "      <td>2.50</td>\n",
       "      <td>100 m² construídos2 quartos</td>\n",
       "      <td>sul</td>\n",
       "    </tr>\n",
       "    <tr>\n",
       "      <th>4</th>\n",
       "      <td>1.29</td>\n",
       "      <td>38 m² construídos1 quarto</td>\n",
       "      <td>sul</td>\n",
       "    </tr>\n",
       "  </tbody>\n",
       "</table>\n",
       "</div>"
      ],
      "text/plain": [
       "   aluguel                  area_quarto zona\n",
       "0   900.00   58 m² construídos2 quartos  sul\n",
       "1     1.50   68 m² construídos2 quartos  sul\n",
       "2     1.32   87 m² construídos2 quartos  sul\n",
       "3     2.50  100 m² construídos2 quartos  sul\n",
       "4     1.29    38 m² construídos1 quarto  sul"
      ]
     },
     "execution_count": 26,
     "metadata": {},
     "output_type": "execute_result"
    }
   ],
   "source": [
    "\n",
    "df_ml['aluguel'].replace('.', ',')\n",
    "df_ml.head()"
   ]
  },
  {
   "cell_type": "code",
   "execution_count": 29,
   "metadata": {},
   "outputs": [
    {
     "data": {
      "text/html": [
       "<div>\n",
       "<style scoped>\n",
       "    .dataframe tbody tr th:only-of-type {\n",
       "        vertical-align: middle;\n",
       "    }\n",
       "\n",
       "    .dataframe tbody tr th {\n",
       "        vertical-align: top;\n",
       "    }\n",
       "\n",
       "    .dataframe thead th {\n",
       "        text-align: right;\n",
       "    }\n",
       "</style>\n",
       "<table border=\"1\" class=\"dataframe\">\n",
       "  <thead>\n",
       "    <tr style=\"text-align: right;\">\n",
       "      <th></th>\n",
       "      <th>aluguel</th>\n",
       "      <th>area_quarto</th>\n",
       "      <th>zona</th>\n",
       "    </tr>\n",
       "  </thead>\n",
       "  <tbody>\n",
       "    <tr>\n",
       "      <th>0</th>\n",
       "      <td>900.000</td>\n",
       "      <td>58 m² construídos2 quartos</td>\n",
       "      <td>sul</td>\n",
       "    </tr>\n",
       "    <tr>\n",
       "      <th>1</th>\n",
       "      <td>1.500</td>\n",
       "      <td>68 m² construídos2 quartos</td>\n",
       "      <td>sul</td>\n",
       "    </tr>\n",
       "    <tr>\n",
       "      <th>2</th>\n",
       "      <td>1.320</td>\n",
       "      <td>87 m² construídos2 quartos</td>\n",
       "      <td>sul</td>\n",
       "    </tr>\n",
       "    <tr>\n",
       "      <th>3</th>\n",
       "      <td>2.500</td>\n",
       "      <td>100 m² construídos2 quartos</td>\n",
       "      <td>sul</td>\n",
       "    </tr>\n",
       "    <tr>\n",
       "      <th>4</th>\n",
       "      <td>1.290</td>\n",
       "      <td>38 m² construídos1 quarto</td>\n",
       "      <td>sul</td>\n",
       "    </tr>\n",
       "    <tr>\n",
       "      <th>...</th>\n",
       "      <td>...</td>\n",
       "      <td>...</td>\n",
       "      <td>...</td>\n",
       "    </tr>\n",
       "    <tr>\n",
       "      <th>43</th>\n",
       "      <td>3.500</td>\n",
       "      <td>79 m² construídos2 quartos</td>\n",
       "      <td>oeste</td>\n",
       "    </tr>\n",
       "    <tr>\n",
       "      <th>44</th>\n",
       "      <td>3.200</td>\n",
       "      <td>65 m² construídos2 quartos</td>\n",
       "      <td>oeste</td>\n",
       "    </tr>\n",
       "    <tr>\n",
       "      <th>45</th>\n",
       "      <td>3.800</td>\n",
       "      <td>46 m² construídos1 quarto</td>\n",
       "      <td>oeste</td>\n",
       "    </tr>\n",
       "    <tr>\n",
       "      <th>46</th>\n",
       "      <td>3.909</td>\n",
       "      <td>45 m² construídos1 quarto</td>\n",
       "      <td>oeste</td>\n",
       "    </tr>\n",
       "    <tr>\n",
       "      <th>47</th>\n",
       "      <td>3.800</td>\n",
       "      <td>140 m² construídos3 quartos</td>\n",
       "      <td>oeste</td>\n",
       "    </tr>\n",
       "  </tbody>\n",
       "</table>\n",
       "<p>1152 rows × 3 columns</p>\n",
       "</div>"
      ],
      "text/plain": [
       "    aluguel                  area_quarto   zona\n",
       "0   900.000   58 m² construídos2 quartos    sul\n",
       "1     1.500   68 m² construídos2 quartos    sul\n",
       "2     1.320   87 m² construídos2 quartos    sul\n",
       "3     2.500  100 m² construídos2 quartos    sul\n",
       "4     1.290    38 m² construídos1 quarto    sul\n",
       "..      ...                          ...    ...\n",
       "43    3.500   79 m² construídos2 quartos  oeste\n",
       "44    3.200   65 m² construídos2 quartos  oeste\n",
       "45    3.800    46 m² construídos1 quarto  oeste\n",
       "46    3.909    45 m² construídos1 quarto  oeste\n",
       "47    3.800  140 m² construídos3 quartos  oeste\n",
       "\n",
       "[1152 rows x 3 columns]"
      ]
     },
     "execution_count": 29,
     "metadata": {},
     "output_type": "execute_result"
    }
   ],
   "source": [
    "#Conversão da coluna aluguel para o tipo float\n",
    "\n",
    "df_ml['aluguel'] =df_ml[\"aluguel\"].astype(float).replace('.', ',')\n",
    "df_ml"
   ]
  },
  {
   "cell_type": "code",
   "execution_count": 8,
   "metadata": {
    "scrolled": true
   },
   "outputs": [
    {
     "data": {
      "text/html": [
       "<div>\n",
       "<style scoped>\n",
       "    .dataframe tbody tr th:only-of-type {\n",
       "        vertical-align: middle;\n",
       "    }\n",
       "\n",
       "    .dataframe tbody tr th {\n",
       "        vertical-align: top;\n",
       "    }\n",
       "\n",
       "    .dataframe thead th {\n",
       "        text-align: right;\n",
       "    }\n",
       "</style>\n",
       "<table border=\"1\" class=\"dataframe\">\n",
       "  <thead>\n",
       "    <tr style=\"text-align: right;\">\n",
       "      <th></th>\n",
       "      <th>0</th>\n",
       "      <th>1</th>\n",
       "      <th>2</th>\n",
       "      <th>3</th>\n",
       "    </tr>\n",
       "  </thead>\n",
       "  <tbody>\n",
       "    <tr>\n",
       "      <th>0</th>\n",
       "      <td>58</td>\n",
       "      <td>m²</td>\n",
       "      <td>construídos2</td>\n",
       "      <td>quartos</td>\n",
       "    </tr>\n",
       "    <tr>\n",
       "      <th>1</th>\n",
       "      <td>68</td>\n",
       "      <td>m²</td>\n",
       "      <td>construídos2</td>\n",
       "      <td>quartos</td>\n",
       "    </tr>\n",
       "    <tr>\n",
       "      <th>2</th>\n",
       "      <td>87</td>\n",
       "      <td>m²</td>\n",
       "      <td>construídos2</td>\n",
       "      <td>quartos</td>\n",
       "    </tr>\n",
       "    <tr>\n",
       "      <th>3</th>\n",
       "      <td>100</td>\n",
       "      <td>m²</td>\n",
       "      <td>construídos2</td>\n",
       "      <td>quartos</td>\n",
       "    </tr>\n",
       "    <tr>\n",
       "      <th>4</th>\n",
       "      <td>38</td>\n",
       "      <td>m²</td>\n",
       "      <td>construídos1</td>\n",
       "      <td>quarto</td>\n",
       "    </tr>\n",
       "    <tr>\n",
       "      <th>...</th>\n",
       "      <td>...</td>\n",
       "      <td>...</td>\n",
       "      <td>...</td>\n",
       "      <td>...</td>\n",
       "    </tr>\n",
       "    <tr>\n",
       "      <th>43</th>\n",
       "      <td>79</td>\n",
       "      <td>m²</td>\n",
       "      <td>construídos2</td>\n",
       "      <td>quartos</td>\n",
       "    </tr>\n",
       "    <tr>\n",
       "      <th>44</th>\n",
       "      <td>65</td>\n",
       "      <td>m²</td>\n",
       "      <td>construídos2</td>\n",
       "      <td>quartos</td>\n",
       "    </tr>\n",
       "    <tr>\n",
       "      <th>45</th>\n",
       "      <td>46</td>\n",
       "      <td>m²</td>\n",
       "      <td>construídos1</td>\n",
       "      <td>quarto</td>\n",
       "    </tr>\n",
       "    <tr>\n",
       "      <th>46</th>\n",
       "      <td>45</td>\n",
       "      <td>m²</td>\n",
       "      <td>construídos1</td>\n",
       "      <td>quarto</td>\n",
       "    </tr>\n",
       "    <tr>\n",
       "      <th>47</th>\n",
       "      <td>140</td>\n",
       "      <td>m²</td>\n",
       "      <td>construídos3</td>\n",
       "      <td>quartos</td>\n",
       "    </tr>\n",
       "  </tbody>\n",
       "</table>\n",
       "<p>1152 rows × 4 columns</p>\n",
       "</div>"
      ],
      "text/plain": [
       "      0   1             2        3\n",
       "0    58  m²  construídos2  quartos\n",
       "1    68  m²  construídos2  quartos\n",
       "2    87  m²  construídos2  quartos\n",
       "3   100  m²  construídos2  quartos\n",
       "4    38  m²  construídos1   quarto\n",
       "..  ...  ..           ...      ...\n",
       "43   79  m²  construídos2  quartos\n",
       "44   65  m²  construídos2  quartos\n",
       "45   46  m²  construídos1   quarto\n",
       "46   45  m²  construídos1   quarto\n",
       "47  140  m²  construídos3  quartos\n",
       "\n",
       "[1152 rows x 4 columns]"
      ]
     },
     "execution_count": 8,
     "metadata": {},
     "output_type": "execute_result"
    }
   ],
   "source": [
    "# Crianção de 4 novas colunas a partir da coluna area_quarto,  separado por espaços\n",
    "\n",
    "df_novo = df_ml[\"area_quarto\"].str.split(\" \", n = 4, expand = True)\n",
    "df_novo\n"
   ]
  },
  {
   "cell_type": "code",
   "execution_count": 9,
   "metadata": {},
   "outputs": [
    {
     "data": {
      "text/html": [
       "<div>\n",
       "<style scoped>\n",
       "    .dataframe tbody tr th:only-of-type {\n",
       "        vertical-align: middle;\n",
       "    }\n",
       "\n",
       "    .dataframe tbody tr th {\n",
       "        vertical-align: top;\n",
       "    }\n",
       "\n",
       "    .dataframe thead th {\n",
       "        text-align: right;\n",
       "    }\n",
       "</style>\n",
       "<table border=\"1\" class=\"dataframe\">\n",
       "  <thead>\n",
       "    <tr style=\"text-align: right;\">\n",
       "      <th></th>\n",
       "      <th>0</th>\n",
       "      <th>2</th>\n",
       "    </tr>\n",
       "  </thead>\n",
       "  <tbody>\n",
       "    <tr>\n",
       "      <th>0</th>\n",
       "      <td>58</td>\n",
       "      <td>construídos2</td>\n",
       "    </tr>\n",
       "    <tr>\n",
       "      <th>1</th>\n",
       "      <td>68</td>\n",
       "      <td>construídos2</td>\n",
       "    </tr>\n",
       "    <tr>\n",
       "      <th>2</th>\n",
       "      <td>87</td>\n",
       "      <td>construídos2</td>\n",
       "    </tr>\n",
       "    <tr>\n",
       "      <th>3</th>\n",
       "      <td>100</td>\n",
       "      <td>construídos2</td>\n",
       "    </tr>\n",
       "    <tr>\n",
       "      <th>4</th>\n",
       "      <td>38</td>\n",
       "      <td>construídos1</td>\n",
       "    </tr>\n",
       "  </tbody>\n",
       "</table>\n",
       "</div>"
      ],
      "text/plain": [
       "     0             2\n",
       "0   58  construídos2\n",
       "1   68  construídos2\n",
       "2   87  construídos2\n",
       "3  100  construídos2\n",
       "4   38  construídos1"
      ]
     },
     "execution_count": 9,
     "metadata": {},
     "output_type": "execute_result"
    }
   ],
   "source": [
    "#Deletar as colunas 1 e 3\n",
    "\n",
    "del df_novo[1]\n",
    "del df_novo[3]\n",
    "df_novo.head()"
   ]
  },
  {
   "cell_type": "code",
   "execution_count": 10,
   "metadata": {},
   "outputs": [
    {
     "data": {
      "text/html": [
       "<div>\n",
       "<style scoped>\n",
       "    .dataframe tbody tr th:only-of-type {\n",
       "        vertical-align: middle;\n",
       "    }\n",
       "\n",
       "    .dataframe tbody tr th {\n",
       "        vertical-align: top;\n",
       "    }\n",
       "\n",
       "    .dataframe thead th {\n",
       "        text-align: right;\n",
       "    }\n",
       "</style>\n",
       "<table border=\"1\" class=\"dataframe\">\n",
       "  <thead>\n",
       "    <tr style=\"text-align: right;\">\n",
       "      <th></th>\n",
       "      <th>Area (m2)</th>\n",
       "      <th>2</th>\n",
       "    </tr>\n",
       "  </thead>\n",
       "  <tbody>\n",
       "    <tr>\n",
       "      <th>0</th>\n",
       "      <td>58</td>\n",
       "      <td>construídos2</td>\n",
       "    </tr>\n",
       "    <tr>\n",
       "      <th>1</th>\n",
       "      <td>68</td>\n",
       "      <td>construídos2</td>\n",
       "    </tr>\n",
       "    <tr>\n",
       "      <th>2</th>\n",
       "      <td>87</td>\n",
       "      <td>construídos2</td>\n",
       "    </tr>\n",
       "    <tr>\n",
       "      <th>3</th>\n",
       "      <td>100</td>\n",
       "      <td>construídos2</td>\n",
       "    </tr>\n",
       "    <tr>\n",
       "      <th>4</th>\n",
       "      <td>38</td>\n",
       "      <td>construídos1</td>\n",
       "    </tr>\n",
       "  </tbody>\n",
       "</table>\n",
       "</div>"
      ],
      "text/plain": [
       "  Area (m2)             2\n",
       "0        58  construídos2\n",
       "1        68  construídos2\n",
       "2        87  construídos2\n",
       "3       100  construídos2\n",
       "4        38  construídos1"
      ]
     },
     "execution_count": 10,
     "metadata": {},
     "output_type": "execute_result"
    }
   ],
   "source": [
    "# Renomear a coluna 0 por Area (m2)\n",
    "\n",
    "df_novo = df_novo.rename({0:\"Area (m2)\"}, axis = 1)\n",
    "df_novo.head()\n"
   ]
  },
  {
   "cell_type": "code",
   "execution_count": 11,
   "metadata": {},
   "outputs": [
    {
     "data": {
      "text/html": [
       "<div>\n",
       "<style scoped>\n",
       "    .dataframe tbody tr th:only-of-type {\n",
       "        vertical-align: middle;\n",
       "    }\n",
       "\n",
       "    .dataframe tbody tr th {\n",
       "        vertical-align: top;\n",
       "    }\n",
       "\n",
       "    .dataframe thead th {\n",
       "        text-align: right;\n",
       "    }\n",
       "</style>\n",
       "<table border=\"1\" class=\"dataframe\">\n",
       "  <thead>\n",
       "    <tr style=\"text-align: right;\">\n",
       "      <th></th>\n",
       "      <th>2</th>\n",
       "    </tr>\n",
       "  </thead>\n",
       "  <tbody>\n",
       "    <tr>\n",
       "      <th>0</th>\n",
       "      <td>2</td>\n",
       "    </tr>\n",
       "    <tr>\n",
       "      <th>1</th>\n",
       "      <td>2</td>\n",
       "    </tr>\n",
       "    <tr>\n",
       "      <th>2</th>\n",
       "      <td>2</td>\n",
       "    </tr>\n",
       "    <tr>\n",
       "      <th>3</th>\n",
       "      <td>2</td>\n",
       "    </tr>\n",
       "    <tr>\n",
       "      <th>4</th>\n",
       "      <td>1</td>\n",
       "    </tr>\n",
       "  </tbody>\n",
       "</table>\n",
       "</div>"
      ],
      "text/plain": [
       "   2\n",
       "0  2\n",
       "1  2\n",
       "2  2\n",
       "3  2\n",
       "4  1"
      ]
     },
     "execution_count": 11,
     "metadata": {},
     "output_type": "execute_result"
    }
   ],
   "source": [
    "#separar a parte numerica texto da string (construidos) \n",
    "\n",
    "novo2 = df_novo[2].str.replace(\"construídos\", \"\")\n",
    "df_novo2 = pd.DataFrame(novo2)\n",
    "df_novo2.head()\n"
   ]
  },
  {
   "cell_type": "code",
   "execution_count": 12,
   "metadata": {},
   "outputs": [
    {
     "data": {
      "text/html": [
       "<div>\n",
       "<style scoped>\n",
       "    .dataframe tbody tr th:only-of-type {\n",
       "        vertical-align: middle;\n",
       "    }\n",
       "\n",
       "    .dataframe tbody tr th {\n",
       "        vertical-align: top;\n",
       "    }\n",
       "\n",
       "    .dataframe thead th {\n",
       "        text-align: right;\n",
       "    }\n",
       "</style>\n",
       "<table border=\"1\" class=\"dataframe\">\n",
       "  <thead>\n",
       "    <tr style=\"text-align: right;\">\n",
       "      <th></th>\n",
       "      <th>Quarto(s)</th>\n",
       "    </tr>\n",
       "  </thead>\n",
       "  <tbody>\n",
       "    <tr>\n",
       "      <th>0</th>\n",
       "      <td>2</td>\n",
       "    </tr>\n",
       "    <tr>\n",
       "      <th>1</th>\n",
       "      <td>2</td>\n",
       "    </tr>\n",
       "    <tr>\n",
       "      <th>2</th>\n",
       "      <td>2</td>\n",
       "    </tr>\n",
       "    <tr>\n",
       "      <th>3</th>\n",
       "      <td>2</td>\n",
       "    </tr>\n",
       "    <tr>\n",
       "      <th>4</th>\n",
       "      <td>1</td>\n",
       "    </tr>\n",
       "  </tbody>\n",
       "</table>\n",
       "</div>"
      ],
      "text/plain": [
       "  Quarto(s)\n",
       "0         2\n",
       "1         2\n",
       "2         2\n",
       "3         2\n",
       "4         1"
      ]
     },
     "execution_count": 12,
     "metadata": {},
     "output_type": "execute_result"
    }
   ],
   "source": [
    "# Renomear a coluna 2 pora Quanto(s)\n",
    "\n",
    "df_novo2 = df_novo2.rename({2:\"Quarto(s)\"}, axis = 1)\n",
    "df_novo2.head()\n"
   ]
  },
  {
   "cell_type": "code",
   "execution_count": 13,
   "metadata": {},
   "outputs": [
    {
     "data": {
      "text/html": [
       "<div>\n",
       "<style scoped>\n",
       "    .dataframe tbody tr th:only-of-type {\n",
       "        vertical-align: middle;\n",
       "    }\n",
       "\n",
       "    .dataframe tbody tr th {\n",
       "        vertical-align: top;\n",
       "    }\n",
       "\n",
       "    .dataframe thead th {\n",
       "        text-align: right;\n",
       "    }\n",
       "</style>\n",
       "<table border=\"1\" class=\"dataframe\">\n",
       "  <thead>\n",
       "    <tr style=\"text-align: right;\">\n",
       "      <th></th>\n",
       "      <th>aluguel</th>\n",
       "      <th>area_quarto</th>\n",
       "      <th>zona</th>\n",
       "      <th>Area (m2)</th>\n",
       "      <th>2</th>\n",
       "      <th>Quarto(s)</th>\n",
       "    </tr>\n",
       "  </thead>\n",
       "  <tbody>\n",
       "    <tr>\n",
       "      <th>0</th>\n",
       "      <td>900.00</td>\n",
       "      <td>58 m² construídos2 quartos</td>\n",
       "      <td>sul</td>\n",
       "      <td>58</td>\n",
       "      <td>construídos2</td>\n",
       "      <td>2</td>\n",
       "    </tr>\n",
       "    <tr>\n",
       "      <th>1</th>\n",
       "      <td>1.50</td>\n",
       "      <td>68 m² construídos2 quartos</td>\n",
       "      <td>sul</td>\n",
       "      <td>68</td>\n",
       "      <td>construídos2</td>\n",
       "      <td>2</td>\n",
       "    </tr>\n",
       "    <tr>\n",
       "      <th>2</th>\n",
       "      <td>1.32</td>\n",
       "      <td>87 m² construídos2 quartos</td>\n",
       "      <td>sul</td>\n",
       "      <td>87</td>\n",
       "      <td>construídos2</td>\n",
       "      <td>2</td>\n",
       "    </tr>\n",
       "    <tr>\n",
       "      <th>3</th>\n",
       "      <td>2.50</td>\n",
       "      <td>100 m² construídos2 quartos</td>\n",
       "      <td>sul</td>\n",
       "      <td>100</td>\n",
       "      <td>construídos2</td>\n",
       "      <td>2</td>\n",
       "    </tr>\n",
       "    <tr>\n",
       "      <th>4</th>\n",
       "      <td>1.29</td>\n",
       "      <td>38 m² construídos1 quarto</td>\n",
       "      <td>sul</td>\n",
       "      <td>38</td>\n",
       "      <td>construídos1</td>\n",
       "      <td>1</td>\n",
       "    </tr>\n",
       "  </tbody>\n",
       "</table>\n",
       "</div>"
      ],
      "text/plain": [
       "   aluguel                  area_quarto zona Area (m2)             2 Quarto(s)\n",
       "0   900.00   58 m² construídos2 quartos  sul        58  construídos2         2\n",
       "1     1.50   68 m² construídos2 quartos  sul        68  construídos2         2\n",
       "2     1.32   87 m² construídos2 quartos  sul        87  construídos2         2\n",
       "3     2.50  100 m² construídos2 quartos  sul       100  construídos2         2\n",
       "4     1.29    38 m² construídos1 quarto  sul        38  construídos1         1"
      ]
     },
     "execution_count": 13,
     "metadata": {},
     "output_type": "execute_result"
    }
   ],
   "source": [
    "# Concatenar os 3 DF (df_ml, df_novo e df_novo2)\n",
    "\n",
    "df_ml2 = pd.concat([df_ml, df_novo, df_novo2], axis = 1)\n",
    "df_ml2.head()"
   ]
  },
  {
   "cell_type": "code",
   "execution_count": 23,
   "metadata": {},
   "outputs": [
    {
     "name": "stdout",
     "output_type": "stream",
     "text": [
      "<class 'pandas.core.frame.DataFrame'>\n",
      "Int64Index: 1152 entries, 0 to 47\n",
      "Data columns (total 4 columns):\n",
      " #   Column     Non-Null Count  Dtype  \n",
      "---  ------     --------------  -----  \n",
      " 0   aluguel    1152 non-null   float64\n",
      " 1   zona       1152 non-null   object \n",
      " 2   Area (m2)  1152 non-null   object \n",
      " 3   Quarto(s)  1152 non-null   object \n",
      "dtypes: float64(1), object(3)\n",
      "memory usage: 45.0+ KB\n"
     ]
    }
   ],
   "source": [
    "df_ml2.info()"
   ]
  },
  {
   "cell_type": "code",
   "execution_count": 14,
   "metadata": {},
   "outputs": [
    {
     "data": {
      "text/html": [
       "<div>\n",
       "<style scoped>\n",
       "    .dataframe tbody tr th:only-of-type {\n",
       "        vertical-align: middle;\n",
       "    }\n",
       "\n",
       "    .dataframe tbody tr th {\n",
       "        vertical-align: top;\n",
       "    }\n",
       "\n",
       "    .dataframe thead th {\n",
       "        text-align: right;\n",
       "    }\n",
       "</style>\n",
       "<table border=\"1\" class=\"dataframe\">\n",
       "  <thead>\n",
       "    <tr style=\"text-align: right;\">\n",
       "      <th></th>\n",
       "      <th>aluguel</th>\n",
       "      <th>zona</th>\n",
       "      <th>Area (m2)</th>\n",
       "      <th>Quarto(s)</th>\n",
       "    </tr>\n",
       "  </thead>\n",
       "  <tbody>\n",
       "    <tr>\n",
       "      <th>0</th>\n",
       "      <td>900.00</td>\n",
       "      <td>sul</td>\n",
       "      <td>58</td>\n",
       "      <td>2</td>\n",
       "    </tr>\n",
       "    <tr>\n",
       "      <th>1</th>\n",
       "      <td>1.50</td>\n",
       "      <td>sul</td>\n",
       "      <td>68</td>\n",
       "      <td>2</td>\n",
       "    </tr>\n",
       "    <tr>\n",
       "      <th>2</th>\n",
       "      <td>1.32</td>\n",
       "      <td>sul</td>\n",
       "      <td>87</td>\n",
       "      <td>2</td>\n",
       "    </tr>\n",
       "    <tr>\n",
       "      <th>3</th>\n",
       "      <td>2.50</td>\n",
       "      <td>sul</td>\n",
       "      <td>100</td>\n",
       "      <td>2</td>\n",
       "    </tr>\n",
       "    <tr>\n",
       "      <th>4</th>\n",
       "      <td>1.29</td>\n",
       "      <td>sul</td>\n",
       "      <td>38</td>\n",
       "      <td>1</td>\n",
       "    </tr>\n",
       "  </tbody>\n",
       "</table>\n",
       "</div>"
      ],
      "text/plain": [
       "   aluguel zona Area (m2) Quarto(s)\n",
       "0   900.00  sul        58         2\n",
       "1     1.50  sul        68         2\n",
       "2     1.32  sul        87         2\n",
       "3     2.50  sul       100         2\n",
       "4     1.29  sul        38         1"
      ]
     },
     "execution_count": 14,
     "metadata": {},
     "output_type": "execute_result"
    }
   ],
   "source": [
    "#Deletar as colunas area_quarto e 2\n",
    "\n",
    "del df_ml2['area_quarto']\n",
    "del df_ml2[2]\n",
    "\n",
    "df_ml2.head()"
   ]
  },
  {
   "cell_type": "code",
   "execution_count": 15,
   "metadata": {},
   "outputs": [
    {
     "data": {
      "text/html": [
       "<div>\n",
       "<style scoped>\n",
       "    .dataframe tbody tr th:only-of-type {\n",
       "        vertical-align: middle;\n",
       "    }\n",
       "\n",
       "    .dataframe tbody tr th {\n",
       "        vertical-align: top;\n",
       "    }\n",
       "\n",
       "    .dataframe thead th {\n",
       "        text-align: right;\n",
       "    }\n",
       "</style>\n",
       "<table border=\"1\" class=\"dataframe\">\n",
       "  <thead>\n",
       "    <tr style=\"text-align: right;\">\n",
       "      <th></th>\n",
       "      <th>aluguel</th>\n",
       "      <th>zona</th>\n",
       "      <th>Area (m2)</th>\n",
       "      <th>Quarto(s)</th>\n",
       "    </tr>\n",
       "  </thead>\n",
       "  <tbody>\n",
       "    <tr>\n",
       "      <th>0</th>\n",
       "      <td>900.00</td>\n",
       "      <td>sul</td>\n",
       "      <td>58</td>\n",
       "      <td>2</td>\n",
       "    </tr>\n",
       "    <tr>\n",
       "      <th>1</th>\n",
       "      <td>1.50</td>\n",
       "      <td>sul</td>\n",
       "      <td>68</td>\n",
       "      <td>2</td>\n",
       "    </tr>\n",
       "    <tr>\n",
       "      <th>2</th>\n",
       "      <td>1.32</td>\n",
       "      <td>sul</td>\n",
       "      <td>87</td>\n",
       "      <td>2</td>\n",
       "    </tr>\n",
       "    <tr>\n",
       "      <th>3</th>\n",
       "      <td>2.50</td>\n",
       "      <td>sul</td>\n",
       "      <td>100</td>\n",
       "      <td>2</td>\n",
       "    </tr>\n",
       "    <tr>\n",
       "      <th>4</th>\n",
       "      <td>1.29</td>\n",
       "      <td>sul</td>\n",
       "      <td>38</td>\n",
       "      <td>1</td>\n",
       "    </tr>\n",
       "  </tbody>\n",
       "</table>\n",
       "</div>"
      ],
      "text/plain": [
       "   aluguel zona Area (m2) Quarto(s)\n",
       "0   900.00  sul        58         2\n",
       "1     1.50  sul        68         2\n",
       "2     1.32  sul        87         2\n",
       "3     2.50  sul       100         2\n",
       "4     1.29  sul        38         1"
      ]
     },
     "execution_count": 15,
     "metadata": {},
     "output_type": "execute_result"
    }
   ],
   "source": [
    "# converter a coluna aluguel para tipo foat\n",
    "\n",
    "df_ml2['aluguel'] =df_ml2[\"aluguel\"].astype(float)\n",
    "df_ml2.head()"
   ]
  },
  {
   "cell_type": "code",
   "execution_count": 16,
   "metadata": {
    "colab": {
     "base_uri": "https://localhost:8080/"
    },
    "id": "AUK111jVAhne",
    "outputId": "fc275095-b3f7-4378-84e0-c88eb0e50b5a"
   },
   "outputs": [
    {
     "data": {
      "text/plain": [
       "numpy.ndarray"
      ]
     },
     "execution_count": 16,
     "metadata": {},
     "output_type": "execute_result"
    }
   ],
   "source": [
    "type(df_ml2['aluguel'].values)"
   ]
  },
  {
   "cell_type": "code",
   "execution_count": 17,
   "metadata": {
    "colab": {
     "base_uri": "https://localhost:8080/"
    },
    "id": "7mmyeYM1A8in",
    "outputId": "dd801bd6-7ec5-4090-bd10-a0d6f8f13bdf"
   },
   "outputs": [
    {
     "data": {
      "text/plain": [
       "numpy.float64"
      ]
     },
     "execution_count": 17,
     "metadata": {},
     "output_type": "execute_result"
    }
   ],
   "source": [
    "type(df_ml2['aluguel'].values[0])"
   ]
  },
  {
   "cell_type": "code",
   "execution_count": 18,
   "metadata": {
    "id": "B2z-IcstBOM_"
   },
   "outputs": [],
   "source": [
    "df_ml2.to_csv('dados_mercado_livre.csv', index=False)"
   ]
  },
  {
   "cell_type": "code",
   "execution_count": 19,
   "metadata": {
    "colab": {
     "base_uri": "https://localhost:8080/",
     "height": 417
    },
    "id": "e0ig_7qcCpEO",
    "outputId": "1070bdc1-ac99-4590-9235-97547fdfac7d"
   },
   "outputs": [
    {
     "data": {
      "text/html": [
       "<div>\n",
       "<style scoped>\n",
       "    .dataframe tbody tr th:only-of-type {\n",
       "        vertical-align: middle;\n",
       "    }\n",
       "\n",
       "    .dataframe tbody tr th {\n",
       "        vertical-align: top;\n",
       "    }\n",
       "\n",
       "    .dataframe thead th {\n",
       "        text-align: right;\n",
       "    }\n",
       "</style>\n",
       "<table border=\"1\" class=\"dataframe\">\n",
       "  <thead>\n",
       "    <tr style=\"text-align: right;\">\n",
       "      <th></th>\n",
       "      <th>aluguel</th>\n",
       "      <th>zona</th>\n",
       "      <th>Area (m2)</th>\n",
       "      <th>Quarto(s)</th>\n",
       "    </tr>\n",
       "  </thead>\n",
       "  <tbody>\n",
       "    <tr>\n",
       "      <th>0</th>\n",
       "      <td>9000</td>\n",
       "      <td>sul</td>\n",
       "      <td>58</td>\n",
       "      <td>2</td>\n",
       "    </tr>\n",
       "    <tr>\n",
       "      <th>1</th>\n",
       "      <td>15</td>\n",
       "      <td>sul</td>\n",
       "      <td>68</td>\n",
       "      <td>2</td>\n",
       "    </tr>\n",
       "    <tr>\n",
       "      <th>2</th>\n",
       "      <td>132</td>\n",
       "      <td>sul</td>\n",
       "      <td>87</td>\n",
       "      <td>2</td>\n",
       "    </tr>\n",
       "    <tr>\n",
       "      <th>3</th>\n",
       "      <td>25</td>\n",
       "      <td>sul</td>\n",
       "      <td>100</td>\n",
       "      <td>2</td>\n",
       "    </tr>\n",
       "    <tr>\n",
       "      <th>4</th>\n",
       "      <td>129</td>\n",
       "      <td>sul</td>\n",
       "      <td>38</td>\n",
       "      <td>1</td>\n",
       "    </tr>\n",
       "    <tr>\n",
       "      <th>...</th>\n",
       "      <td>...</td>\n",
       "      <td>...</td>\n",
       "      <td>...</td>\n",
       "      <td>...</td>\n",
       "    </tr>\n",
       "    <tr>\n",
       "      <th>1147</th>\n",
       "      <td>35</td>\n",
       "      <td>oeste</td>\n",
       "      <td>79</td>\n",
       "      <td>2</td>\n",
       "    </tr>\n",
       "    <tr>\n",
       "      <th>1148</th>\n",
       "      <td>32</td>\n",
       "      <td>oeste</td>\n",
       "      <td>65</td>\n",
       "      <td>2</td>\n",
       "    </tr>\n",
       "    <tr>\n",
       "      <th>1149</th>\n",
       "      <td>38</td>\n",
       "      <td>oeste</td>\n",
       "      <td>46</td>\n",
       "      <td>1</td>\n",
       "    </tr>\n",
       "    <tr>\n",
       "      <th>1150</th>\n",
       "      <td>3909</td>\n",
       "      <td>oeste</td>\n",
       "      <td>45</td>\n",
       "      <td>1</td>\n",
       "    </tr>\n",
       "    <tr>\n",
       "      <th>1151</th>\n",
       "      <td>38</td>\n",
       "      <td>oeste</td>\n",
       "      <td>140</td>\n",
       "      <td>3</td>\n",
       "    </tr>\n",
       "  </tbody>\n",
       "</table>\n",
       "<p>1152 rows × 4 columns</p>\n",
       "</div>"
      ],
      "text/plain": [
       "      aluguel   zona  Area (m2) Quarto(s)\n",
       "0        9000    sul         58         2\n",
       "1          15    sul         68         2\n",
       "2         132    sul         87         2\n",
       "3          25    sul        100         2\n",
       "4         129    sul         38         1\n",
       "...       ...    ...        ...       ...\n",
       "1147       35  oeste         79         2\n",
       "1148       32  oeste         65         2\n",
       "1149       38  oeste         46         1\n",
       "1150     3909  oeste         45         1\n",
       "1151       38  oeste        140         3\n",
       "\n",
       "[1152 rows x 4 columns]"
      ]
     },
     "execution_count": 19,
     "metadata": {},
     "output_type": "execute_result"
    }
   ],
   "source": [
    "pd.read_csv('dados_mercado_livre.csv', thousands='.')"
   ]
  },
  {
   "cell_type": "markdown",
   "metadata": {
    "id": "3JAftP_Xgh7t"
   },
   "source": [
    "# Manipulaçao de dados"
   ]
  },
  {
   "cell_type": "code",
   "execution_count": null,
   "metadata": {
    "id": "8NjlDN_fC2MA"
   },
   "outputs": [],
   "source": [
    "import pandas as pd"
   ]
  },
  {
   "cell_type": "code",
   "execution_count": null,
   "metadata": {
    "id": "9VJYP0W4gxUd"
   },
   "outputs": [],
   "source": [
    "url = 'https://raw.githubusercontent.com/cassiasamp/calculadora-de-imoveis-mar-21/main/coleta_de_dados/dados_mercado_livre.csv'\n",
    "df_calc = pd.read_csv(url, thousands='.')"
   ]
  },
  {
   "cell_type": "code",
   "execution_count": null,
   "metadata": {
    "colab": {
     "base_uri": "https://localhost:8080/",
     "height": 203
    },
    "id": "hv69MjHgg3zn",
    "outputId": "bfeec547-9b25-4a50-a163-14d24ef139d9"
   },
   "outputs": [],
   "source": [
    "df_calc.head()"
   ]
  },
  {
   "cell_type": "code",
   "execution_count": null,
   "metadata": {
    "colab": {
     "base_uri": "https://localhost:8080/"
    },
    "id": "cwVSmEVFhCNn",
    "outputId": "eedcfb9f-a16f-435b-a435-7fd3466dc4d8"
   },
   "outputs": [],
   "source": [
    "df_calc.info()"
   ]
  },
  {
   "cell_type": "code",
   "execution_count": null,
   "metadata": {
    "colab": {
     "base_uri": "https://localhost:8080/",
     "height": 79
    },
    "id": "eHUYnTX0hKcW",
    "outputId": "779ac432-4b4a-45b3-e0ca-ba7482d65b3a"
   },
   "outputs": [],
   "source": [
    "df_calc.describe().T"
   ]
  },
  {
   "cell_type": "code",
   "execution_count": null,
   "metadata": {
    "colab": {
     "base_uri": "https://localhost:8080/"
    },
    "id": "Sm6cgbxUhfM0",
    "outputId": "fe095a4f-9f69-448c-8937-a0ac33bd695e"
   },
   "outputs": [],
   "source": [
    "df_calc.isna().sum()"
   ]
  },
  {
   "cell_type": "code",
   "execution_count": null,
   "metadata": {
    "id": "tqTa2qDjiDrF"
   },
   "outputs": [],
   "source": []
  }
 ],
 "metadata": {
  "colab": {
   "collapsed_sections": [],
   "name": "awari_mar_coleta_dados_mercado_livre_aula7.ipynb",
   "provenance": []
  },
  "kernelspec": {
   "display_name": "Python 3",
   "language": "python",
   "name": "python3"
  },
  "language_info": {
   "codemirror_mode": {
    "name": "ipython",
    "version": 3
   },
   "file_extension": ".py",
   "mimetype": "text/x-python",
   "name": "python",
   "nbconvert_exporter": "python",
   "pygments_lexer": "ipython3",
   "version": "3.7.9"
  }
 },
 "nbformat": 4,
 "nbformat_minor": 1
}
