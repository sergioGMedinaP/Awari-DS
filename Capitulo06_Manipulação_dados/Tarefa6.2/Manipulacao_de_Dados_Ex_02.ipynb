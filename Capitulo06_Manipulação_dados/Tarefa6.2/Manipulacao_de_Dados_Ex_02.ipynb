{
 "cells": [
  {
   "cell_type": "markdown",
   "metadata": {
    "colab_type": "text",
    "id": "mG98ajLLNIjz"
   },
   "source": [
    "![](https://i.imgur.com/JsMvGnP.png)"
   ]
  },
  {
   "cell_type": "markdown",
   "metadata": {
    "colab_type": "text",
    "id": "7Ch5KPRpui-Q"
   },
   "source": [
    "\n",
    "## Exercícios de manipulação de dados - Parte 2"
   ]
  },
  {
   "cell_type": "markdown",
   "metadata": {
    "colab_type": "text",
    "id": "IscqV7Obui-R"
   },
   "source": [
    "Neste Jupyter notebook você irá resolver uma exercícios utilizando a biblioteca Pandas.\\\n",
    "Todos os datasets utilizados nos exercícios estão salvos na pasta *datasets*.\\\n",
    "Todo o seu código deve ser executado neste Jupyter Notebook. Por fim, se desejar, revise as respostas com o seu mentor."
   ]
  },
  {
   "cell_type": "markdown",
   "metadata": {
    "colab_type": "text",
    "id": "Trmht8Dfui-S"
   },
   "source": [
    "#### Tarefa 1. Importe o dataset e salve os dados em um dataframe\n",
    "\n",
    "Os dados estão salvos no arquivo ***datasets/US_Crime_Rates_1960_2014.csv***.\\\n",
    "Este dataset contém dados de crimes ocorridos nos Estados Unidos no período de 1960 até 2014.\\\n",
    "Salve os dados em uma variável de nome *crime*."
   ]
  },
  {
   "cell_type": "code",
   "execution_count": 1,
   "metadata": {},
   "outputs": [
    {
     "name": "stdout",
     "output_type": "stream",
     "text": [
      "Vc esta no seguinte diretorio\n",
      "C:\\Users\\SERGIOMEDINA\\Awari_DS_2021\\Capitulo06-Numpy-Calculadora-de-Imoveis\\Tarefas-Capitulo06\n"
     ]
    }
   ],
   "source": [
    "import os\n",
    "\n",
    "diretorioCorrente = os.getcwd()\n",
    "print(\"Vc esta no seguinte diretorio\")\n",
    "print(diretorioCorrente)"
   ]
  },
  {
   "cell_type": "code",
   "execution_count": 2,
   "metadata": {
    "colab": {},
    "colab_type": "code",
    "id": "LN4JDdSjui-T"
   },
   "outputs": [
    {
     "data": {
      "text/plain": [
       "(55, 12)"
      ]
     },
     "execution_count": 2,
     "metadata": {},
     "output_type": "execute_result"
    }
   ],
   "source": [
    "import pandas as pd\n",
    "\n",
    "arq = \"datasets/US_Crime_Rates_1960_2014.csv\"\n",
    "rate_df = pd.read_csv(arq, encoding=\"utf-8\")\n",
    "\n",
    "rate_df.shape"
   ]
  },
  {
   "cell_type": "code",
   "execution_count": 3,
   "metadata": {},
   "outputs": [
    {
     "data": {
      "text/html": [
       "<div>\n",
       "<style scoped>\n",
       "    .dataframe tbody tr th:only-of-type {\n",
       "        vertical-align: middle;\n",
       "    }\n",
       "\n",
       "    .dataframe tbody tr th {\n",
       "        vertical-align: top;\n",
       "    }\n",
       "\n",
       "    .dataframe thead th {\n",
       "        text-align: right;\n",
       "    }\n",
       "</style>\n",
       "<table border=\"1\" class=\"dataframe\">\n",
       "  <thead>\n",
       "    <tr style=\"text-align: right;\">\n",
       "      <th></th>\n",
       "      <th>Year</th>\n",
       "      <th>Population</th>\n",
       "      <th>Total</th>\n",
       "      <th>Violent</th>\n",
       "      <th>Property</th>\n",
       "      <th>Murder</th>\n",
       "      <th>Forcible_Rape</th>\n",
       "      <th>Robbery</th>\n",
       "      <th>Aggravated_assault</th>\n",
       "      <th>Burglary</th>\n",
       "      <th>Larceny_Theft</th>\n",
       "      <th>Vehicle_Theft</th>\n",
       "    </tr>\n",
       "  </thead>\n",
       "  <tbody>\n",
       "    <tr>\n",
       "      <th>0</th>\n",
       "      <td>1960</td>\n",
       "      <td>179323175</td>\n",
       "      <td>3384200</td>\n",
       "      <td>288460</td>\n",
       "      <td>3095700</td>\n",
       "      <td>9110</td>\n",
       "      <td>17190</td>\n",
       "      <td>107840</td>\n",
       "      <td>154320</td>\n",
       "      <td>912100</td>\n",
       "      <td>1855400</td>\n",
       "      <td>328200</td>\n",
       "    </tr>\n",
       "    <tr>\n",
       "      <th>1</th>\n",
       "      <td>1961</td>\n",
       "      <td>182992000</td>\n",
       "      <td>3488000</td>\n",
       "      <td>289390</td>\n",
       "      <td>3198600</td>\n",
       "      <td>8740</td>\n",
       "      <td>17220</td>\n",
       "      <td>106670</td>\n",
       "      <td>156760</td>\n",
       "      <td>949600</td>\n",
       "      <td>1913000</td>\n",
       "      <td>336000</td>\n",
       "    </tr>\n",
       "    <tr>\n",
       "      <th>2</th>\n",
       "      <td>1962</td>\n",
       "      <td>185771000</td>\n",
       "      <td>3752200</td>\n",
       "      <td>301510</td>\n",
       "      <td>3450700</td>\n",
       "      <td>8530</td>\n",
       "      <td>17550</td>\n",
       "      <td>110860</td>\n",
       "      <td>164570</td>\n",
       "      <td>994300</td>\n",
       "      <td>2089600</td>\n",
       "      <td>366800</td>\n",
       "    </tr>\n",
       "    <tr>\n",
       "      <th>3</th>\n",
       "      <td>1963</td>\n",
       "      <td>188483000</td>\n",
       "      <td>4109500</td>\n",
       "      <td>316970</td>\n",
       "      <td>3792500</td>\n",
       "      <td>8640</td>\n",
       "      <td>17650</td>\n",
       "      <td>116470</td>\n",
       "      <td>174210</td>\n",
       "      <td>1086400</td>\n",
       "      <td>2297800</td>\n",
       "      <td>408300</td>\n",
       "    </tr>\n",
       "    <tr>\n",
       "      <th>4</th>\n",
       "      <td>1964</td>\n",
       "      <td>191141000</td>\n",
       "      <td>4564600</td>\n",
       "      <td>364220</td>\n",
       "      <td>4200400</td>\n",
       "      <td>9360</td>\n",
       "      <td>21420</td>\n",
       "      <td>130390</td>\n",
       "      <td>203050</td>\n",
       "      <td>1213200</td>\n",
       "      <td>2514400</td>\n",
       "      <td>472800</td>\n",
       "    </tr>\n",
       "    <tr>\n",
       "      <th>5</th>\n",
       "      <td>1965</td>\n",
       "      <td>193526000</td>\n",
       "      <td>4739400</td>\n",
       "      <td>387390</td>\n",
       "      <td>4352000</td>\n",
       "      <td>9960</td>\n",
       "      <td>23410</td>\n",
       "      <td>138690</td>\n",
       "      <td>215330</td>\n",
       "      <td>1282500</td>\n",
       "      <td>2572600</td>\n",
       "      <td>496900</td>\n",
       "    </tr>\n",
       "    <tr>\n",
       "      <th>6</th>\n",
       "      <td>1966</td>\n",
       "      <td>195576000</td>\n",
       "      <td>5223500</td>\n",
       "      <td>430180</td>\n",
       "      <td>4793300</td>\n",
       "      <td>11040</td>\n",
       "      <td>25820</td>\n",
       "      <td>157990</td>\n",
       "      <td>235330</td>\n",
       "      <td>1410100</td>\n",
       "      <td>2822000</td>\n",
       "      <td>561200</td>\n",
       "    </tr>\n",
       "    <tr>\n",
       "      <th>7</th>\n",
       "      <td>1967</td>\n",
       "      <td>197457000</td>\n",
       "      <td>5903400</td>\n",
       "      <td>499930</td>\n",
       "      <td>5403500</td>\n",
       "      <td>12240</td>\n",
       "      <td>27620</td>\n",
       "      <td>202910</td>\n",
       "      <td>257160</td>\n",
       "      <td>1632100</td>\n",
       "      <td>3111600</td>\n",
       "      <td>659800</td>\n",
       "    </tr>\n",
       "    <tr>\n",
       "      <th>8</th>\n",
       "      <td>1968</td>\n",
       "      <td>199399000</td>\n",
       "      <td>6720200</td>\n",
       "      <td>595010</td>\n",
       "      <td>6125200</td>\n",
       "      <td>13800</td>\n",
       "      <td>31670</td>\n",
       "      <td>262840</td>\n",
       "      <td>286700</td>\n",
       "      <td>1858900</td>\n",
       "      <td>3482700</td>\n",
       "      <td>783600</td>\n",
       "    </tr>\n",
       "    <tr>\n",
       "      <th>9</th>\n",
       "      <td>1969</td>\n",
       "      <td>201385000</td>\n",
       "      <td>7410900</td>\n",
       "      <td>661870</td>\n",
       "      <td>6749000</td>\n",
       "      <td>14760</td>\n",
       "      <td>37170</td>\n",
       "      <td>298850</td>\n",
       "      <td>311090</td>\n",
       "      <td>1981900</td>\n",
       "      <td>3888600</td>\n",
       "      <td>878500</td>\n",
       "    </tr>\n",
       "  </tbody>\n",
       "</table>\n",
       "</div>"
      ],
      "text/plain": [
       "   Year  Population    Total  Violent  Property  Murder  Forcible_Rape  \\\n",
       "0  1960   179323175  3384200   288460   3095700    9110          17190   \n",
       "1  1961   182992000  3488000   289390   3198600    8740          17220   \n",
       "2  1962   185771000  3752200   301510   3450700    8530          17550   \n",
       "3  1963   188483000  4109500   316970   3792500    8640          17650   \n",
       "4  1964   191141000  4564600   364220   4200400    9360          21420   \n",
       "5  1965   193526000  4739400   387390   4352000    9960          23410   \n",
       "6  1966   195576000  5223500   430180   4793300   11040          25820   \n",
       "7  1967   197457000  5903400   499930   5403500   12240          27620   \n",
       "8  1968   199399000  6720200   595010   6125200   13800          31670   \n",
       "9  1969   201385000  7410900   661870   6749000   14760          37170   \n",
       "\n",
       "   Robbery  Aggravated_assault  Burglary  Larceny_Theft  Vehicle_Theft  \n",
       "0   107840              154320    912100        1855400         328200  \n",
       "1   106670              156760    949600        1913000         336000  \n",
       "2   110860              164570    994300        2089600         366800  \n",
       "3   116470              174210   1086400        2297800         408300  \n",
       "4   130390              203050   1213200        2514400         472800  \n",
       "5   138690              215330   1282500        2572600         496900  \n",
       "6   157990              235330   1410100        2822000         561200  \n",
       "7   202910              257160   1632100        3111600         659800  \n",
       "8   262840              286700   1858900        3482700         783600  \n",
       "9   298850              311090   1981900        3888600         878500  "
      ]
     },
     "execution_count": 3,
     "metadata": {},
     "output_type": "execute_result"
    }
   ],
   "source": [
    "rate_df.head(10)"
   ]
  },
  {
   "cell_type": "markdown",
   "metadata": {
    "colab_type": "text",
    "id": "8F6IEdZsui-X"
   },
   "source": [
    "#### Tarefa 2. Qual o tipo de dados em cada coluna?"
   ]
  },
  {
   "cell_type": "code",
   "execution_count": 4,
   "metadata": {
    "colab": {},
    "colab_type": "code",
    "id": "guR3et-zui-Y"
   },
   "outputs": [
    {
     "data": {
      "text/plain": [
       "Year                  int64\n",
       "Population            int64\n",
       "Total                 int64\n",
       "Violent               int64\n",
       "Property              int64\n",
       "Murder                int64\n",
       "Forcible_Rape         int64\n",
       "Robbery               int64\n",
       "Aggravated_assault    int64\n",
       "Burglary              int64\n",
       "Larceny_Theft         int64\n",
       "Vehicle_Theft         int64\n",
       "dtype: object"
      ]
     },
     "execution_count": 4,
     "metadata": {},
     "output_type": "execute_result"
    }
   ],
   "source": [
    "rate_df.dtypes"
   ]
  },
  {
   "cell_type": "code",
   "execution_count": 6,
   "metadata": {},
   "outputs": [
    {
     "name": "stdout",
     "output_type": "stream",
     "text": [
      "<class 'pandas.core.frame.DataFrame'>\n",
      "RangeIndex: 55 entries, 0 to 54\n",
      "Data columns (total 12 columns):\n",
      " #   Column              Non-Null Count  Dtype\n",
      "---  ------              --------------  -----\n",
      " 0   Year                55 non-null     int64\n",
      " 1   Population          55 non-null     int64\n",
      " 2   Total               55 non-null     int64\n",
      " 3   Violent             55 non-null     int64\n",
      " 4   Property            55 non-null     int64\n",
      " 5   Murder              55 non-null     int64\n",
      " 6   Forcible_Rape       55 non-null     int64\n",
      " 7   Robbery             55 non-null     int64\n",
      " 8   Aggravated_assault  55 non-null     int64\n",
      " 9   Burglary            55 non-null     int64\n",
      " 10  Larceny_Theft       55 non-null     int64\n",
      " 11  Vehicle_Theft       55 non-null     int64\n",
      "dtypes: int64(12)\n",
      "memory usage: 5.3 KB\n"
     ]
    }
   ],
   "source": [
    "rate_df.info()"
   ]
  },
  {
   "cell_type": "markdown",
   "metadata": {
    "colab_type": "text",
    "id": "ZnhPRMhrui-c"
   },
   "source": [
    "#### Tarefa 3. Converta o tipo de dado da coluna Year para o tipo datetime\n",
    "\n",
    "*Dica: procure na documentação da biblioteca como fazer tal conversão*"
   ]
  },
  {
   "cell_type": "code",
   "execution_count": 7,
   "metadata": {
    "colab": {},
    "colab_type": "code",
    "id": "HAIM8iB3ui-d"
   },
   "outputs": [
    {
     "data": {
      "text/plain": [
       "Year                  datetime64[ns]\n",
       "Population                     int64\n",
       "Total                          int64\n",
       "Violent                        int64\n",
       "Property                       int64\n",
       "Murder                         int64\n",
       "Forcible_Rape                  int64\n",
       "Robbery                        int64\n",
       "Aggravated_assault             int64\n",
       "Burglary                       int64\n",
       "Larceny_Theft                  int64\n",
       "Vehicle_Theft                  int64\n",
       "dtype: object"
      ]
     },
     "execution_count": 7,
     "metadata": {},
     "output_type": "execute_result"
    }
   ],
   "source": [
    "from datetime import datetime\n",
    "\n",
    "\n",
    "rate_df['Year'] = pd.to_datetime(rate_df['Year'], format='%Y')\n",
    "rate_df.dtypes"
   ]
  },
  {
   "cell_type": "code",
   "execution_count": 8,
   "metadata": {
    "colab": {},
    "colab_type": "code",
    "id": "6n-r6P4jui-i"
   },
   "outputs": [
    {
     "data": {
      "text/plain": [
       "0    1960-01-01\n",
       "1    1961-01-01\n",
       "2    1962-01-01\n",
       "3    1963-01-01\n",
       "4    1964-01-01\n",
       "5    1965-01-01\n",
       "6    1966-01-01\n",
       "7    1967-01-01\n",
       "8    1968-01-01\n",
       "9    1969-01-01\n",
       "10   1970-01-01\n",
       "11   1971-01-01\n",
       "12   1972-01-01\n",
       "13   1973-01-01\n",
       "14   1974-01-01\n",
       "15   1975-01-01\n",
       "16   1976-01-01\n",
       "17   1977-01-01\n",
       "18   1978-01-01\n",
       "19   1979-01-01\n",
       "20   1980-01-01\n",
       "21   1981-01-01\n",
       "22   1982-01-01\n",
       "23   1983-01-01\n",
       "24   1984-01-01\n",
       "25   1985-01-01\n",
       "26   1986-01-01\n",
       "27   1987-01-01\n",
       "28   1988-01-01\n",
       "29   1989-01-01\n",
       "30   1990-01-01\n",
       "31   1991-01-01\n",
       "32   1992-01-01\n",
       "33   1993-01-01\n",
       "34   1994-01-01\n",
       "35   1995-01-01\n",
       "36   1996-01-01\n",
       "37   1997-01-01\n",
       "38   1998-01-01\n",
       "39   1999-01-01\n",
       "40   2000-01-01\n",
       "41   2001-01-01\n",
       "42   2002-01-01\n",
       "43   2003-01-01\n",
       "44   2004-01-01\n",
       "45   2005-01-01\n",
       "46   2006-01-01\n",
       "47   2007-01-01\n",
       "48   2008-01-01\n",
       "49   2009-01-01\n",
       "50   2010-01-01\n",
       "51   2011-01-01\n",
       "52   2012-01-01\n",
       "53   2013-01-01\n",
       "54   2014-01-01\n",
       "Name: Year, dtype: datetime64[ns]"
      ]
     },
     "execution_count": 8,
     "metadata": {},
     "output_type": "execute_result"
    }
   ],
   "source": [
    "rate_df['Year']"
   ]
  },
  {
   "cell_type": "markdown",
   "metadata": {
    "colab_type": "text",
    "id": "wUMLk49Wui-h"
   },
   "source": [
    "#### Tarefa 4. Configure a coluna Year como index do DataFrame.\n",
    "\n",
    "*Dica: use a função set_index() do Pandas* "
   ]
  },
  {
   "cell_type": "code",
   "execution_count": 9,
   "metadata": {},
   "outputs": [
    {
     "data": {
      "text/plain": [
       "(55, 11)"
      ]
     },
     "execution_count": 9,
     "metadata": {},
     "output_type": "execute_result"
    }
   ],
   "source": [
    "rate_df = rate_df.set_index('Year')\n",
    "rate_df.shape"
   ]
  },
  {
   "cell_type": "code",
   "execution_count": 10,
   "metadata": {},
   "outputs": [
    {
     "data": {
      "text/html": [
       "<div>\n",
       "<style scoped>\n",
       "    .dataframe tbody tr th:only-of-type {\n",
       "        vertical-align: middle;\n",
       "    }\n",
       "\n",
       "    .dataframe tbody tr th {\n",
       "        vertical-align: top;\n",
       "    }\n",
       "\n",
       "    .dataframe thead th {\n",
       "        text-align: right;\n",
       "    }\n",
       "</style>\n",
       "<table border=\"1\" class=\"dataframe\">\n",
       "  <thead>\n",
       "    <tr style=\"text-align: right;\">\n",
       "      <th></th>\n",
       "      <th>Population</th>\n",
       "      <th>Total</th>\n",
       "      <th>Violent</th>\n",
       "      <th>Property</th>\n",
       "      <th>Murder</th>\n",
       "      <th>Forcible_Rape</th>\n",
       "      <th>Robbery</th>\n",
       "      <th>Aggravated_assault</th>\n",
       "      <th>Burglary</th>\n",
       "      <th>Larceny_Theft</th>\n",
       "      <th>Vehicle_Theft</th>\n",
       "    </tr>\n",
       "    <tr>\n",
       "      <th>Year</th>\n",
       "      <th></th>\n",
       "      <th></th>\n",
       "      <th></th>\n",
       "      <th></th>\n",
       "      <th></th>\n",
       "      <th></th>\n",
       "      <th></th>\n",
       "      <th></th>\n",
       "      <th></th>\n",
       "      <th></th>\n",
       "      <th></th>\n",
       "    </tr>\n",
       "  </thead>\n",
       "  <tbody>\n",
       "    <tr>\n",
       "      <th>1960-01-01</th>\n",
       "      <td>179323175</td>\n",
       "      <td>3384200</td>\n",
       "      <td>288460</td>\n",
       "      <td>3095700</td>\n",
       "      <td>9110</td>\n",
       "      <td>17190</td>\n",
       "      <td>107840</td>\n",
       "      <td>154320</td>\n",
       "      <td>912100</td>\n",
       "      <td>1855400</td>\n",
       "      <td>328200</td>\n",
       "    </tr>\n",
       "    <tr>\n",
       "      <th>1961-01-01</th>\n",
       "      <td>182992000</td>\n",
       "      <td>3488000</td>\n",
       "      <td>289390</td>\n",
       "      <td>3198600</td>\n",
       "      <td>8740</td>\n",
       "      <td>17220</td>\n",
       "      <td>106670</td>\n",
       "      <td>156760</td>\n",
       "      <td>949600</td>\n",
       "      <td>1913000</td>\n",
       "      <td>336000</td>\n",
       "    </tr>\n",
       "    <tr>\n",
       "      <th>1962-01-01</th>\n",
       "      <td>185771000</td>\n",
       "      <td>3752200</td>\n",
       "      <td>301510</td>\n",
       "      <td>3450700</td>\n",
       "      <td>8530</td>\n",
       "      <td>17550</td>\n",
       "      <td>110860</td>\n",
       "      <td>164570</td>\n",
       "      <td>994300</td>\n",
       "      <td>2089600</td>\n",
       "      <td>366800</td>\n",
       "    </tr>\n",
       "    <tr>\n",
       "      <th>1963-01-01</th>\n",
       "      <td>188483000</td>\n",
       "      <td>4109500</td>\n",
       "      <td>316970</td>\n",
       "      <td>3792500</td>\n",
       "      <td>8640</td>\n",
       "      <td>17650</td>\n",
       "      <td>116470</td>\n",
       "      <td>174210</td>\n",
       "      <td>1086400</td>\n",
       "      <td>2297800</td>\n",
       "      <td>408300</td>\n",
       "    </tr>\n",
       "    <tr>\n",
       "      <th>1964-01-01</th>\n",
       "      <td>191141000</td>\n",
       "      <td>4564600</td>\n",
       "      <td>364220</td>\n",
       "      <td>4200400</td>\n",
       "      <td>9360</td>\n",
       "      <td>21420</td>\n",
       "      <td>130390</td>\n",
       "      <td>203050</td>\n",
       "      <td>1213200</td>\n",
       "      <td>2514400</td>\n",
       "      <td>472800</td>\n",
       "    </tr>\n",
       "    <tr>\n",
       "      <th>1965-01-01</th>\n",
       "      <td>193526000</td>\n",
       "      <td>4739400</td>\n",
       "      <td>387390</td>\n",
       "      <td>4352000</td>\n",
       "      <td>9960</td>\n",
       "      <td>23410</td>\n",
       "      <td>138690</td>\n",
       "      <td>215330</td>\n",
       "      <td>1282500</td>\n",
       "      <td>2572600</td>\n",
       "      <td>496900</td>\n",
       "    </tr>\n",
       "    <tr>\n",
       "      <th>1966-01-01</th>\n",
       "      <td>195576000</td>\n",
       "      <td>5223500</td>\n",
       "      <td>430180</td>\n",
       "      <td>4793300</td>\n",
       "      <td>11040</td>\n",
       "      <td>25820</td>\n",
       "      <td>157990</td>\n",
       "      <td>235330</td>\n",
       "      <td>1410100</td>\n",
       "      <td>2822000</td>\n",
       "      <td>561200</td>\n",
       "    </tr>\n",
       "    <tr>\n",
       "      <th>1967-01-01</th>\n",
       "      <td>197457000</td>\n",
       "      <td>5903400</td>\n",
       "      <td>499930</td>\n",
       "      <td>5403500</td>\n",
       "      <td>12240</td>\n",
       "      <td>27620</td>\n",
       "      <td>202910</td>\n",
       "      <td>257160</td>\n",
       "      <td>1632100</td>\n",
       "      <td>3111600</td>\n",
       "      <td>659800</td>\n",
       "    </tr>\n",
       "    <tr>\n",
       "      <th>1968-01-01</th>\n",
       "      <td>199399000</td>\n",
       "      <td>6720200</td>\n",
       "      <td>595010</td>\n",
       "      <td>6125200</td>\n",
       "      <td>13800</td>\n",
       "      <td>31670</td>\n",
       "      <td>262840</td>\n",
       "      <td>286700</td>\n",
       "      <td>1858900</td>\n",
       "      <td>3482700</td>\n",
       "      <td>783600</td>\n",
       "    </tr>\n",
       "    <tr>\n",
       "      <th>1969-01-01</th>\n",
       "      <td>201385000</td>\n",
       "      <td>7410900</td>\n",
       "      <td>661870</td>\n",
       "      <td>6749000</td>\n",
       "      <td>14760</td>\n",
       "      <td>37170</td>\n",
       "      <td>298850</td>\n",
       "      <td>311090</td>\n",
       "      <td>1981900</td>\n",
       "      <td>3888600</td>\n",
       "      <td>878500</td>\n",
       "    </tr>\n",
       "  </tbody>\n",
       "</table>\n",
       "</div>"
      ],
      "text/plain": [
       "            Population    Total  Violent  Property  Murder  Forcible_Rape  \\\n",
       "Year                                                                        \n",
       "1960-01-01   179323175  3384200   288460   3095700    9110          17190   \n",
       "1961-01-01   182992000  3488000   289390   3198600    8740          17220   \n",
       "1962-01-01   185771000  3752200   301510   3450700    8530          17550   \n",
       "1963-01-01   188483000  4109500   316970   3792500    8640          17650   \n",
       "1964-01-01   191141000  4564600   364220   4200400    9360          21420   \n",
       "1965-01-01   193526000  4739400   387390   4352000    9960          23410   \n",
       "1966-01-01   195576000  5223500   430180   4793300   11040          25820   \n",
       "1967-01-01   197457000  5903400   499930   5403500   12240          27620   \n",
       "1968-01-01   199399000  6720200   595010   6125200   13800          31670   \n",
       "1969-01-01   201385000  7410900   661870   6749000   14760          37170   \n",
       "\n",
       "            Robbery  Aggravated_assault  Burglary  Larceny_Theft  \\\n",
       "Year                                                               \n",
       "1960-01-01   107840              154320    912100        1855400   \n",
       "1961-01-01   106670              156760    949600        1913000   \n",
       "1962-01-01   110860              164570    994300        2089600   \n",
       "1963-01-01   116470              174210   1086400        2297800   \n",
       "1964-01-01   130390              203050   1213200        2514400   \n",
       "1965-01-01   138690              215330   1282500        2572600   \n",
       "1966-01-01   157990              235330   1410100        2822000   \n",
       "1967-01-01   202910              257160   1632100        3111600   \n",
       "1968-01-01   262840              286700   1858900        3482700   \n",
       "1969-01-01   298850              311090   1981900        3888600   \n",
       "\n",
       "            Vehicle_Theft  \n",
       "Year                       \n",
       "1960-01-01         328200  \n",
       "1961-01-01         336000  \n",
       "1962-01-01         366800  \n",
       "1963-01-01         408300  \n",
       "1964-01-01         472800  \n",
       "1965-01-01         496900  \n",
       "1966-01-01         561200  \n",
       "1967-01-01         659800  \n",
       "1968-01-01         783600  \n",
       "1969-01-01         878500  "
      ]
     },
     "execution_count": 10,
     "metadata": {},
     "output_type": "execute_result"
    }
   ],
   "source": [
    "rate_df.head(10)"
   ]
  },
  {
   "cell_type": "markdown",
   "metadata": {
    "colab_type": "text",
    "id": "J-osqYpUui-l"
   },
   "source": [
    "#### Tarefa 5. Remova a coluna Total do DataFrame."
   ]
  },
  {
   "cell_type": "code",
   "execution_count": 11,
   "metadata": {
    "colab": {},
    "colab_type": "code",
    "id": "td1aqCVrui-m"
   },
   "outputs": [
    {
     "data": {
      "text/html": [
       "<div>\n",
       "<style scoped>\n",
       "    .dataframe tbody tr th:only-of-type {\n",
       "        vertical-align: middle;\n",
       "    }\n",
       "\n",
       "    .dataframe tbody tr th {\n",
       "        vertical-align: top;\n",
       "    }\n",
       "\n",
       "    .dataframe thead th {\n",
       "        text-align: right;\n",
       "    }\n",
       "</style>\n",
       "<table border=\"1\" class=\"dataframe\">\n",
       "  <thead>\n",
       "    <tr style=\"text-align: right;\">\n",
       "      <th></th>\n",
       "      <th>Population</th>\n",
       "      <th>Violent</th>\n",
       "      <th>Property</th>\n",
       "      <th>Murder</th>\n",
       "      <th>Forcible_Rape</th>\n",
       "      <th>Robbery</th>\n",
       "      <th>Aggravated_assault</th>\n",
       "      <th>Burglary</th>\n",
       "      <th>Larceny_Theft</th>\n",
       "      <th>Vehicle_Theft</th>\n",
       "    </tr>\n",
       "    <tr>\n",
       "      <th>Year</th>\n",
       "      <th></th>\n",
       "      <th></th>\n",
       "      <th></th>\n",
       "      <th></th>\n",
       "      <th></th>\n",
       "      <th></th>\n",
       "      <th></th>\n",
       "      <th></th>\n",
       "      <th></th>\n",
       "      <th></th>\n",
       "    </tr>\n",
       "  </thead>\n",
       "  <tbody>\n",
       "    <tr>\n",
       "      <th>1960-01-01</th>\n",
       "      <td>179323175</td>\n",
       "      <td>288460</td>\n",
       "      <td>3095700</td>\n",
       "      <td>9110</td>\n",
       "      <td>17190</td>\n",
       "      <td>107840</td>\n",
       "      <td>154320</td>\n",
       "      <td>912100</td>\n",
       "      <td>1855400</td>\n",
       "      <td>328200</td>\n",
       "    </tr>\n",
       "    <tr>\n",
       "      <th>1961-01-01</th>\n",
       "      <td>182992000</td>\n",
       "      <td>289390</td>\n",
       "      <td>3198600</td>\n",
       "      <td>8740</td>\n",
       "      <td>17220</td>\n",
       "      <td>106670</td>\n",
       "      <td>156760</td>\n",
       "      <td>949600</td>\n",
       "      <td>1913000</td>\n",
       "      <td>336000</td>\n",
       "    </tr>\n",
       "    <tr>\n",
       "      <th>1962-01-01</th>\n",
       "      <td>185771000</td>\n",
       "      <td>301510</td>\n",
       "      <td>3450700</td>\n",
       "      <td>8530</td>\n",
       "      <td>17550</td>\n",
       "      <td>110860</td>\n",
       "      <td>164570</td>\n",
       "      <td>994300</td>\n",
       "      <td>2089600</td>\n",
       "      <td>366800</td>\n",
       "    </tr>\n",
       "    <tr>\n",
       "      <th>1963-01-01</th>\n",
       "      <td>188483000</td>\n",
       "      <td>316970</td>\n",
       "      <td>3792500</td>\n",
       "      <td>8640</td>\n",
       "      <td>17650</td>\n",
       "      <td>116470</td>\n",
       "      <td>174210</td>\n",
       "      <td>1086400</td>\n",
       "      <td>2297800</td>\n",
       "      <td>408300</td>\n",
       "    </tr>\n",
       "    <tr>\n",
       "      <th>1964-01-01</th>\n",
       "      <td>191141000</td>\n",
       "      <td>364220</td>\n",
       "      <td>4200400</td>\n",
       "      <td>9360</td>\n",
       "      <td>21420</td>\n",
       "      <td>130390</td>\n",
       "      <td>203050</td>\n",
       "      <td>1213200</td>\n",
       "      <td>2514400</td>\n",
       "      <td>472800</td>\n",
       "    </tr>\n",
       "    <tr>\n",
       "      <th>1965-01-01</th>\n",
       "      <td>193526000</td>\n",
       "      <td>387390</td>\n",
       "      <td>4352000</td>\n",
       "      <td>9960</td>\n",
       "      <td>23410</td>\n",
       "      <td>138690</td>\n",
       "      <td>215330</td>\n",
       "      <td>1282500</td>\n",
       "      <td>2572600</td>\n",
       "      <td>496900</td>\n",
       "    </tr>\n",
       "    <tr>\n",
       "      <th>1966-01-01</th>\n",
       "      <td>195576000</td>\n",
       "      <td>430180</td>\n",
       "      <td>4793300</td>\n",
       "      <td>11040</td>\n",
       "      <td>25820</td>\n",
       "      <td>157990</td>\n",
       "      <td>235330</td>\n",
       "      <td>1410100</td>\n",
       "      <td>2822000</td>\n",
       "      <td>561200</td>\n",
       "    </tr>\n",
       "    <tr>\n",
       "      <th>1967-01-01</th>\n",
       "      <td>197457000</td>\n",
       "      <td>499930</td>\n",
       "      <td>5403500</td>\n",
       "      <td>12240</td>\n",
       "      <td>27620</td>\n",
       "      <td>202910</td>\n",
       "      <td>257160</td>\n",
       "      <td>1632100</td>\n",
       "      <td>3111600</td>\n",
       "      <td>659800</td>\n",
       "    </tr>\n",
       "    <tr>\n",
       "      <th>1968-01-01</th>\n",
       "      <td>199399000</td>\n",
       "      <td>595010</td>\n",
       "      <td>6125200</td>\n",
       "      <td>13800</td>\n",
       "      <td>31670</td>\n",
       "      <td>262840</td>\n",
       "      <td>286700</td>\n",
       "      <td>1858900</td>\n",
       "      <td>3482700</td>\n",
       "      <td>783600</td>\n",
       "    </tr>\n",
       "    <tr>\n",
       "      <th>1969-01-01</th>\n",
       "      <td>201385000</td>\n",
       "      <td>661870</td>\n",
       "      <td>6749000</td>\n",
       "      <td>14760</td>\n",
       "      <td>37170</td>\n",
       "      <td>298850</td>\n",
       "      <td>311090</td>\n",
       "      <td>1981900</td>\n",
       "      <td>3888600</td>\n",
       "      <td>878500</td>\n",
       "    </tr>\n",
       "  </tbody>\n",
       "</table>\n",
       "</div>"
      ],
      "text/plain": [
       "            Population  Violent  Property  Murder  Forcible_Rape  Robbery  \\\n",
       "Year                                                                        \n",
       "1960-01-01   179323175   288460   3095700    9110          17190   107840   \n",
       "1961-01-01   182992000   289390   3198600    8740          17220   106670   \n",
       "1962-01-01   185771000   301510   3450700    8530          17550   110860   \n",
       "1963-01-01   188483000   316970   3792500    8640          17650   116470   \n",
       "1964-01-01   191141000   364220   4200400    9360          21420   130390   \n",
       "1965-01-01   193526000   387390   4352000    9960          23410   138690   \n",
       "1966-01-01   195576000   430180   4793300   11040          25820   157990   \n",
       "1967-01-01   197457000   499930   5403500   12240          27620   202910   \n",
       "1968-01-01   199399000   595010   6125200   13800          31670   262840   \n",
       "1969-01-01   201385000   661870   6749000   14760          37170   298850   \n",
       "\n",
       "            Aggravated_assault  Burglary  Larceny_Theft  Vehicle_Theft  \n",
       "Year                                                                    \n",
       "1960-01-01              154320    912100        1855400         328200  \n",
       "1961-01-01              156760    949600        1913000         336000  \n",
       "1962-01-01              164570    994300        2089600         366800  \n",
       "1963-01-01              174210   1086400        2297800         408300  \n",
       "1964-01-01              203050   1213200        2514400         472800  \n",
       "1965-01-01              215330   1282500        2572600         496900  \n",
       "1966-01-01              235330   1410100        2822000         561200  \n",
       "1967-01-01              257160   1632100        3111600         659800  \n",
       "1968-01-01              286700   1858900        3482700         783600  \n",
       "1969-01-01              311090   1981900        3888600         878500  "
      ]
     },
     "execution_count": 11,
     "metadata": {},
     "output_type": "execute_result"
    }
   ],
   "source": [
    "del rate_df['Total']\n",
    "\n",
    "rate_df.head(10)"
   ]
  },
  {
   "cell_type": "code",
   "execution_count": 12,
   "metadata": {},
   "outputs": [
    {
     "data": {
      "text/plain": [
       "(55, 10)"
      ]
     },
     "execution_count": 12,
     "metadata": {},
     "output_type": "execute_result"
    }
   ],
   "source": [
    "rate_df.shape"
   ]
  },
  {
   "cell_type": "code",
   "execution_count": 13,
   "metadata": {},
   "outputs": [
    {
     "data": {
      "text/html": [
       "<div>\n",
       "<style scoped>\n",
       "    .dataframe tbody tr th:only-of-type {\n",
       "        vertical-align: middle;\n",
       "    }\n",
       "\n",
       "    .dataframe tbody tr th {\n",
       "        vertical-align: top;\n",
       "    }\n",
       "\n",
       "    .dataframe thead th {\n",
       "        text-align: right;\n",
       "    }\n",
       "</style>\n",
       "<table border=\"1\" class=\"dataframe\">\n",
       "  <thead>\n",
       "    <tr style=\"text-align: right;\">\n",
       "      <th></th>\n",
       "      <th>Population</th>\n",
       "      <th>Violent</th>\n",
       "      <th>Property</th>\n",
       "      <th>Murder</th>\n",
       "      <th>Forcible_Rape</th>\n",
       "      <th>Robbery</th>\n",
       "      <th>Aggravated_assault</th>\n",
       "      <th>Burglary</th>\n",
       "      <th>Larceny_Theft</th>\n",
       "      <th>Vehicle_Theft</th>\n",
       "    </tr>\n",
       "    <tr>\n",
       "      <th>Year</th>\n",
       "      <th></th>\n",
       "      <th></th>\n",
       "      <th></th>\n",
       "      <th></th>\n",
       "      <th></th>\n",
       "      <th></th>\n",
       "      <th></th>\n",
       "      <th></th>\n",
       "      <th></th>\n",
       "      <th></th>\n",
       "    </tr>\n",
       "  </thead>\n",
       "  <tbody>\n",
       "    <tr>\n",
       "      <th>1960-01-01</th>\n",
       "      <td>179323175</td>\n",
       "      <td>288460</td>\n",
       "      <td>3095700</td>\n",
       "      <td>9110</td>\n",
       "      <td>17190</td>\n",
       "      <td>107840</td>\n",
       "      <td>154320</td>\n",
       "      <td>912100</td>\n",
       "      <td>1855400</td>\n",
       "      <td>328200</td>\n",
       "    </tr>\n",
       "    <tr>\n",
       "      <th>1961-01-01</th>\n",
       "      <td>182992000</td>\n",
       "      <td>289390</td>\n",
       "      <td>3198600</td>\n",
       "      <td>8740</td>\n",
       "      <td>17220</td>\n",
       "      <td>106670</td>\n",
       "      <td>156760</td>\n",
       "      <td>949600</td>\n",
       "      <td>1913000</td>\n",
       "      <td>336000</td>\n",
       "    </tr>\n",
       "    <tr>\n",
       "      <th>1962-01-01</th>\n",
       "      <td>185771000</td>\n",
       "      <td>301510</td>\n",
       "      <td>3450700</td>\n",
       "      <td>8530</td>\n",
       "      <td>17550</td>\n",
       "      <td>110860</td>\n",
       "      <td>164570</td>\n",
       "      <td>994300</td>\n",
       "      <td>2089600</td>\n",
       "      <td>366800</td>\n",
       "    </tr>\n",
       "    <tr>\n",
       "      <th>1963-01-01</th>\n",
       "      <td>188483000</td>\n",
       "      <td>316970</td>\n",
       "      <td>3792500</td>\n",
       "      <td>8640</td>\n",
       "      <td>17650</td>\n",
       "      <td>116470</td>\n",
       "      <td>174210</td>\n",
       "      <td>1086400</td>\n",
       "      <td>2297800</td>\n",
       "      <td>408300</td>\n",
       "    </tr>\n",
       "    <tr>\n",
       "      <th>1964-01-01</th>\n",
       "      <td>191141000</td>\n",
       "      <td>364220</td>\n",
       "      <td>4200400</td>\n",
       "      <td>9360</td>\n",
       "      <td>21420</td>\n",
       "      <td>130390</td>\n",
       "      <td>203050</td>\n",
       "      <td>1213200</td>\n",
       "      <td>2514400</td>\n",
       "      <td>472800</td>\n",
       "    </tr>\n",
       "  </tbody>\n",
       "</table>\n",
       "</div>"
      ],
      "text/plain": [
       "            Population  Violent  Property  Murder  Forcible_Rape  Robbery  \\\n",
       "Year                                                                        \n",
       "1960-01-01   179323175   288460   3095700    9110          17190   107840   \n",
       "1961-01-01   182992000   289390   3198600    8740          17220   106670   \n",
       "1962-01-01   185771000   301510   3450700    8530          17550   110860   \n",
       "1963-01-01   188483000   316970   3792500    8640          17650   116470   \n",
       "1964-01-01   191141000   364220   4200400    9360          21420   130390   \n",
       "\n",
       "            Aggravated_assault  Burglary  Larceny_Theft  Vehicle_Theft  \n",
       "Year                                                                    \n",
       "1960-01-01              154320    912100        1855400         328200  \n",
       "1961-01-01              156760    949600        1913000         336000  \n",
       "1962-01-01              164570    994300        2089600         366800  \n",
       "1963-01-01              174210   1086400        2297800         408300  \n",
       "1964-01-01              203050   1213200        2514400         472800  "
      ]
     },
     "execution_count": 13,
     "metadata": {},
     "output_type": "execute_result"
    }
   ],
   "source": [
    "rate_df.head()"
   ]
  },
  {
   "cell_type": "markdown",
   "metadata": {
    "colab_type": "text",
    "id": "sNRpI3snDwZ7"
   },
   "source": [
    "#### Tarefa 6. Encontre o número de roubos de carro do ano de 1978."
   ]
  },
  {
   "cell_type": "code",
   "execution_count": 14,
   "metadata": {
    "colab": {},
    "colab_type": "code",
    "id": "iCHYwMqLECpl",
    "scrolled": true
   },
   "outputs": [
    {
     "name": "stdout",
     "output_type": "stream",
     "text": [
      " O numero de carros roubados no ano de 1978 foi de 1004100\n"
     ]
    }
   ],
   "source": [
    "query1 = rate_df.loc['1978-01-01','Vehicle_Theft']\n",
    "print(f\" O numero de carros roubados no ano de 1978 foi de {query1}\")\n"
   ]
  },
  {
   "cell_type": "markdown",
   "metadata": {
    "colab_type": "text",
    "id": "EAlbLVK2ui-q"
   },
   "source": [
    "#### Tarefa 7. Retorne a linha do ano em que houve o maior número de assasinatos. \n",
    "\n",
    "*Dica: use a coluna Murder como referência.*"
   ]
  },
  {
   "cell_type": "code",
   "execution_count": 16,
   "metadata": {
    "colab": {},
    "colab_type": "code",
    "id": "GpIqR-6vui-s"
   },
   "outputs": [
    {
     "name": "stdout",
     "output_type": "stream",
     "text": [
      "A linha do ano em que houve o maior número de assasinatos é:\n",
      "Population            252177000\n",
      "Violent                 1911770\n",
      "Property               12961100\n",
      "Murder                    24700\n",
      "Forcible_Rape            106590\n",
      "Robbery                  687730\n",
      "Aggravated_assault      1092740\n",
      "Burglary                3157200\n",
      "Larceny_Theft           8142200\n",
      "Vehicle_Theft           1661700\n",
      "Name: 1991-01-01 00:00:00, dtype: int64\n"
     ]
    }
   ],
   "source": [
    "print(f\"A linha do ano em que houve o maior número de assasinatos é:\\n{rate_df.sort_values(by='Murder').iloc[-1]}\")\n"
   ]
  },
  {
   "cell_type": "markdown",
   "metadata": {
    "colab_type": "text",
    "id": "L7bit-TcEGMm"
   },
   "source": [
    "#### Tarefa 8. Retorne o número de assassinatos do ano em que foi registrado o menor número de roubo de carros. \n"
   ]
  },
  {
   "cell_type": "code",
   "execution_count": 18,
   "metadata": {
    "colab": {},
    "colab_type": "code",
    "id": "KAz9sW1oEVeK"
   },
   "outputs": [
    {
     "name": "stdout",
     "output_type": "stream",
     "text": [
      "O número de assassinatos do ano em que foi registrado o menor número de roubo de carros é:\n",
      "9110\n"
     ]
    }
   ],
   "source": [
    "print(\"O número de assassinatos do ano em que foi registrado o menor número de roubo de carros é:\")\n",
    "print(f\"{rate_df.sort_values(by='Vehicle_Theft').iloc[0]['Murder']}\")"
   ]
  },
  {
   "cell_type": "markdown",
   "metadata": {
    "colab_type": "text",
    "id": "E0RnhuuMEWsw"
   },
   "source": [
    "**Parabéns! Você chegou ao fim**"
   ]
  }
 ],
 "metadata": {
  "anaconda-cloud": {},
  "colab": {
   "name": "Exercicios_unidade_5_Manipulacao_de_Dados_Parte_02.ipynb",
   "provenance": []
  },
  "kernelspec": {
   "display_name": "Python 3",
   "language": "python",
   "name": "python3"
  },
  "language_info": {
   "codemirror_mode": {
    "name": "ipython",
    "version": 3
   },
   "file_extension": ".py",
   "mimetype": "text/x-python",
   "name": "python",
   "nbconvert_exporter": "python",
   "pygments_lexer": "ipython3",
   "version": "3.7.9"
  }
 },
 "nbformat": 4,
 "nbformat_minor": 1
}
