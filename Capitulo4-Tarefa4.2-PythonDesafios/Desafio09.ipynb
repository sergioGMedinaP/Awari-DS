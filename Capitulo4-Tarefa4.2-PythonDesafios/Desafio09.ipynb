{
 "cells": [
  {
   "cell_type": "markdown",
   "metadata": {
    "id": "HpvTpUBGf6Jr"
   },
   "source": [
    "### Desafio 9\n",
    "\n",
    "Escreva uma função que retorne a soma dos múltiplos de 3 e 5 entre 0 e um número limite, que vai ser utilizado como parâmetro. \\\n",
    "Por exemplo, se o limite for 20, ele retornará a soma de 3, 5, 6, 9, 10, 12, 15, 18, 20."
   ]
  },
  {
   "cell_type": "code",
   "execution_count": 61,
   "metadata": {
    "colab": {
     "base_uri": "https://localhost:8080/"
    },
    "executionInfo": {
     "elapsed": 3355,
     "status": "ok",
     "timestamp": 1617825601085,
     "user": {
      "displayName": "SERGIO GUSTAVO MEDINA PEREIRA",
      "photoUrl": "",
      "userId": "17215138517519874950"
     },
     "user_tz": 180
    },
    "id": "knuGh0nYyNic",
    "outputId": "49a27441-0ad6-41db-de72-b211ea9886bb"
   },
   "outputs": [
    {
     "name": "stdout",
     "output_type": "stream",
     "text": [
      "Digite um numero inteiro = 6\n",
      "Valor e num  0\n",
      "Valor e num  0\n",
      "Valor e num  3\n",
      "Valor e num  5\n",
      "Valor e num  6\n",
      "Resultdo da soma de todos os elementos múltiplos de 3 e 5 dentro do limite (0 , 6) informado é de: 14\n"
     ]
    }
   ],
   "source": [
    "def determina_multiplo(num, base):\n",
    "  if (num % base == 0):\n",
    "    print(\"Valor e num \", num)\n",
    "    return num\n",
    "  else:\n",
    "    return 0\n",
    "\n",
    "num = int(input(\"Digite um numero inteiro = \"))\n",
    "soma = 0\n",
    "\n",
    "for n in range(0, num+1):\n",
    "  soma = soma + determina_multiplo(n,3)\n",
    "  soma = soma + determina_multiplo(n,5)\n",
    "  #print(soma)\n",
    "\n",
    "print(f'Resultdo da soma de todos os elementos múltiplos de 3 e 5 dentro do limite (0 , {num}) informado é de: {soma}')\n"
   ]
  },
  {
   "cell_type": "code",
   "execution_count": null,
   "metadata": {
    "id": "3mN5o2Ap03Qv"
   },
   "outputs": [],
   "source": [
    ""
   ]
  }
 ],
 "metadata": {
  "anaconda-cloud": {},
  "colab": {
   "collapsed_sections": [],
   "name": "Cópia de Desafio 9.ipynb",
   "provenance": [
    {
     "file_id": "https://github.com/sergioGMedinaP/br-python-challenges/blob/master/Desafio_09.ipynb",
     "timestamp": 1617805346315
    }
   ]
  },
  "kernelspec": {
   "display_name": "Python 3",
   "language": "python",
   "name": "python3"
  },
  "language_info": {
   "codemirror_mode": {
    "name": "ipython",
    "version": 3
   },
   "file_extension": ".py",
   "mimetype": "text/x-python",
   "name": "python",
   "nbconvert_exporter": "python",
   "pygments_lexer": "ipython3",
   "version": "3.7.9"
  }
 },
 "nbformat": 4,
 "nbformat_minor": 0
}
