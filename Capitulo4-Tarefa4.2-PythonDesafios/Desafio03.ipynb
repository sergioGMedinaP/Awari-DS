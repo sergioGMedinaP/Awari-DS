{
 "cells": [
  {
   "cell_type": "markdown",
   "metadata": {
    "id": "9apVxxygf6JR"
   },
   "source": [
    "### Desafio 3\n",
    "\n",
    "Escreva uma função que receba uma lista como entrada e retorne uma nova lista ordenada e sem valores duplicados.\n"
   ]
  },
  {
   "cell_type": "code",
   "execution_count": 7,
   "metadata": {
    "colab": {
     "base_uri": "https://localhost:8080/"
    },
    "executionInfo": {
     "elapsed": 881,
     "status": "ok",
     "timestamp": 1616852308430,
     "user": {
      "displayName": "SERGIO GUSTAVO MEDINA PEREIRA",
      "photoUrl": "",
      "userId": "17215138517519874950"
     },
     "user_tz": 180
    },
    "id": "ndTkQEUBf6JS",
    "outputId": "d1b37d53-18ad-4dce-d818-2f82f6a27a8d"
   },
   "outputs": [
    {
     "data": {
      "text/plain": [
       "list"
      ]
     },
     "execution_count": 7,
     "metadata": {
      "tags": []
     },
     "output_type": "execute_result"
    }
   ],
   "source": [
    "lista = [1,2,3,4,3,30,3,4,5,6,9,3,2,1,2,4,5,15,6,6,3,13,4,45,5]\n",
    "list\n",
    "\n",
    "# Seu código"
   ]
  },
  {
   "cell_type": "code",
   "execution_count": 12,
   "metadata": {
    "colab": {
     "base_uri": "https://localhost:8080/"
    },
    "executionInfo": {
     "elapsed": 882,
     "status": "ok",
     "timestamp": 1616852493999,
     "user": {
      "displayName": "SERGIO GUSTAVO MEDINA PEREIRA",
      "photoUrl": "",
      "userId": "17215138517519874950"
     },
     "user_tz": 180
    },
    "id": "wo2rA-NriFtO",
    "outputId": "f57b2291-6d3f-48f5-be35-72a2075bddbe"
   },
   "outputs": [
    {
     "data": {
      "text/plain": [
       "[1, 2, 3, 4, 30, 5, 6, 9, 15, 13, 45]"
      ]
     },
     "execution_count": 12,
     "metadata": {
      "tags": []
     },
     "output_type": "execute_result"
    }
   ],
   "source": [
    "lista\n",
    "lista2 = list(dict.fromkeys(lista))\n",
    "lista2\n"
   ]
  },
  {
   "cell_type": "code",
   "execution_count": 14,
   "metadata": {
    "colab": {
     "base_uri": "https://localhost:8080/"
    },
    "executionInfo": {
     "elapsed": 886,
     "status": "ok",
     "timestamp": 1616852525243,
     "user": {
      "displayName": "SERGIO GUSTAVO MEDINA PEREIRA",
      "photoUrl": "",
      "userId": "17215138517519874950"
     },
     "user_tz": 180
    },
    "id": "EMwVqdim6Q5k",
    "outputId": "d3152b00-7c89-484a-8241-af3b5b5829ac"
   },
   "outputs": [
    {
     "name": "stdout",
     "output_type": "stream",
     "text": [
      "Lista ordenada =  [1, 2, 3, 4, 5, 6, 9, 13, 15, 30, 45]\n"
     ]
    }
   ],
   "source": [
    "lista3 = sorted(lista2)\n",
    "print(\"Lista ordenada = \", lista3)"
   ]
  },
  {
   "cell_type": "code",
   "execution_count": null,
   "metadata": {
    "id": "QHdcnEze6i3X"
   },
   "outputs": [],
   "source": [
    ""
   ]
  }
 ],
 "metadata": {
  "anaconda-cloud": {},
  "colab": {
   "collapsed_sections": [],
   "name": "Cópia de Desafio 3.ipynb",
   "provenance": [
    {
     "file_id": "https://github.com/sergioGMedinaP/br-python-challenges/blob/master/Desafio_03.ipynb",
     "timestamp": 1616852039046
    }
   ]
  },
  "kernelspec": {
   "display_name": "Python 3",
   "language": "python",
   "name": "python3"
  },
  "language_info": {
   "codemirror_mode": {
    "name": "ipython",
    "version": 3
   },
   "file_extension": ".py",
   "mimetype": "text/x-python",
   "name": "python",
   "nbconvert_exporter": "python",
   "pygments_lexer": "ipython3",
   "version": "3.7.9"
  }
 },
 "nbformat": 4,
 "nbformat_minor": 0
}
