{
 "cells": [
  {
   "cell_type": "markdown",
   "metadata": {
    "id": "SbLLE9q1eldC"
   },
   "source": [
    "### Desafio 1\n",
    "\n",
    "Escreva um programa em Python para contabilizar a quantidade de ocorrências de cada palavra."
   ]
  },
  {
   "cell_type": "code",
   "execution_count": 2,
   "metadata": {
    "executionInfo": {
     "elapsed": 1255,
     "status": "ok",
     "timestamp": 1616534554333,
     "user": {
      "displayName": "",
      "photoUrl": "",
      "userId": ""
     },
     "user_tz": 180
    },
    "id": "WhtbdwFseldD"
   },
   "outputs": [],
   "source": [
    "palavras = [\n",
    "   'red', 'green', 'black', 'pink', 'black', 'white', 'black', 'eyes',\n",
    "   'white', 'black', 'orange', 'pink', 'pink', 'red', 'red', 'white', 'orange',\n",
    "   'white', \"black\", 'pink', 'green', 'green', 'pink', 'green', 'pink',\n",
    "   'white', 'orange', \"orange\", 'red'\n",
    "]\n",
    "\n",
    "\n",
    "# Seu código"
   ]
  },
  {
   "cell_type": "code",
   "execution_count": 3,
   "metadata": {
    "colab": {
     "base_uri": "https://localhost:8080/"
    },
    "executionInfo": {
     "elapsed": 1197,
     "status": "ok",
     "timestamp": 1616534557656,
     "user": {
      "displayName": "",
      "photoUrl": "",
      "userId": ""
     },
     "user_tz": 180
    },
    "id": "M58o1U9KfAxa",
    "outputId": "a302e184-d1a5-4703-dace-724084cf6618"
   },
   "outputs": [
    {
     "data": {
      "text/plain": [
       "['red',\n",
       " 'green',\n",
       " 'black',\n",
       " 'pink',\n",
       " 'black',\n",
       " 'white',\n",
       " 'black',\n",
       " 'eyes',\n",
       " 'white',\n",
       " 'black',\n",
       " 'orange',\n",
       " 'pink',\n",
       " 'pink',\n",
       " 'red',\n",
       " 'red',\n",
       " 'white',\n",
       " 'orange',\n",
       " 'white',\n",
       " 'black',\n",
       " 'pink',\n",
       " 'green',\n",
       " 'green',\n",
       " 'pink',\n",
       " 'green',\n",
       " 'pink',\n",
       " 'white',\n",
       " 'orange',\n",
       " 'orange',\n",
       " 'red']"
      ]
     },
     "execution_count": 3,
     "metadata": {
      "tags": []
     },
     "output_type": "execute_result"
    }
   ],
   "source": [
    "palavras"
   ]
  },
  {
   "cell_type": "code",
   "execution_count": 7,
   "metadata": {
    "colab": {
     "base_uri": "https://localhost:8080/"
    },
    "executionInfo": {
     "elapsed": 670,
     "status": "ok",
     "timestamp": 1616534737496,
     "user": {
      "displayName": "",
      "photoUrl": "",
      "userId": ""
     },
     "user_tz": 180
    },
    "id": "dyxLTwqf92w1",
    "outputId": "677c85f4-493f-4821-a038-082131ad003b"
   },
   "outputs": [
    {
     "name": "stdout",
     "output_type": "stream",
     "text": [
      "red\n",
      "green\n",
      "black\n",
      "pink\n",
      "black\n",
      "white\n",
      "black\n",
      "eyes\n",
      "white\n",
      "black\n",
      "orange\n",
      "pink\n",
      "pink\n",
      "red\n",
      "red\n",
      "white\n",
      "orange\n",
      "white\n",
      "black\n",
      "pink\n",
      "green\n",
      "green\n",
      "pink\n",
      "green\n",
      "pink\n",
      "white\n",
      "orange\n",
      "orange\n",
      "red\n"
     ]
    }
   ],
   "source": [
    "for cores in palavras:\n",
    "  print(cores)\n"
   ]
  },
  {
   "cell_type": "code",
   "execution_count": 23,
   "metadata": {
    "colab": {
     "base_uri": "https://localhost:8080/"
    },
    "executionInfo": {
     "elapsed": 834,
     "status": "ok",
     "timestamp": 1616535680680,
     "user": {
      "displayName": "",
      "photoUrl": "",
      "userId": ""
     },
     "user_tz": 180
    },
    "id": "bJlTS-92_y0y",
    "outputId": "b83aeae1-44ad-4fbc-a108-fe050da21f3a"
   },
   "outputs": [
    {
     "name": "stdout",
     "output_type": "stream",
     "text": [
      "Cor  red  = 4\n",
      "Cor  green  = 4\n",
      "Cor  black  = 5\n",
      "Cor  pink  = 6\n",
      "Cor  black  = 5\n",
      "Cor  white  = 5\n",
      "Cor  black  = 5\n",
      "Cor  eyes  = 1\n",
      "Cor  white  = 5\n",
      "Cor  black  = 5\n",
      "Cor  orange  = 4\n",
      "Cor  pink  = 6\n",
      "Cor  pink  = 6\n",
      "Cor  red  = 4\n",
      "Cor  red  = 4\n",
      "Cor  white  = 5\n",
      "Cor  orange  = 4\n",
      "Cor  white  = 5\n",
      "Cor  black  = 5\n",
      "Cor  pink  = 6\n",
      "Cor  green  = 4\n",
      "Cor  green  = 4\n",
      "Cor  pink  = 6\n",
      "Cor  green  = 4\n",
      "Cor  pink  = 6\n",
      "Cor  white  = 5\n",
      "Cor  orange  = 4\n",
      "Cor  orange  = 4\n",
      "Cor  red  = 4\n"
     ]
    }
   ],
   "source": [
    "for letra in palavras:\n",
    "  repeticoes = palavras.count(letra)\n",
    "  print(\"Cor \", letra, \" =\", repeticoes)"
   ]
  },
  {
   "cell_type": "code",
   "execution_count": null,
   "metadata": {
    "id": "MZq78Akp_yaz"
   },
   "outputs": [],
   "source": [
    ""
   ]
  }
 ],
 "metadata": {
  "anaconda-cloud": {},
  "colab": {
   "name": "Cópia de Desafio 1.ipynb",
   "provenance": [
    {
     "file_id": "https://github.com/sergioGMedinaP/br-python-challenges/blob/master/Desafio_01.ipynb",
     "timestamp": 1616535765733
    }
   ]
  },
  "kernelspec": {
   "display_name": "Python 3",
   "language": "python",
   "name": "python3"
  },
  "language_info": {
   "codemirror_mode": {
    "name": "ipython",
    "version": 3
   },
   "file_extension": ".py",
   "mimetype": "text/x-python",
   "name": "python",
   "nbconvert_exporter": "python",
   "pygments_lexer": "ipython3",
   "version": "3.7.9"
  }
 },
 "nbformat": 4,
 "nbformat_minor": 0
}
