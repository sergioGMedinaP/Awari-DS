{
 "cells": [
  {
   "cell_type": "markdown",
   "metadata": {
    "id": "AiI1_KNTf6Jh"
   },
   "source": [
    "### Desafio 6\n",
    "\n",
    "Crie uma função que receba duas listas e retorne uma lista que contenha apenas os elementos comuns entre as listas (sem repetição). A função deve suportar lista de tamanhos diferentes.\n"
   ]
  },
  {
   "cell_type": "markdown",
   "metadata": {
    "id": "qnlUgp2QFD3X"
   },
   "source": [
    "**Listas**"
   ]
  },
  {
   "cell_type": "code",
   "execution_count": 1,
   "metadata": {
    "executionInfo": {
     "elapsed": 850,
     "status": "ok",
     "timestamp": 1616855392325,
     "user": {
      "displayName": "SERGIO GUSTAVO MEDINA PEREIRA",
      "photoUrl": "",
      "userId": "17215138517519874950"
     },
     "user_tz": 180
    },
    "id": "Ffu12jHZFD3b"
   },
   "outputs": [],
   "source": [
    "a = [1, 1, 2, 3, 5, 8, 13, 21, 34, 55, 89]\n",
    "b = [1, 2, 3, 4, 5, 6, 7, 8, 9, 10, 11, 12, 13]"
   ]
  },
  {
   "cell_type": "code",
   "execution_count": 2,
   "metadata": {
    "colab": {
     "base_uri": "https://localhost:8080/"
    },
    "executionInfo": {
     "elapsed": 646,
     "status": "ok",
     "timestamp": 1616855395593,
     "user": {
      "displayName": "SERGIO GUSTAVO MEDINA PEREIRA",
      "photoUrl": "",
      "userId": "17215138517519874950"
     },
     "user_tz": 180
    },
    "id": "mvxpy_vCf6Jh",
    "outputId": "02a33a9d-8f67-4684-a6e3-39827187d044"
   },
   "outputs": [
    {
     "name": "stdout",
     "output_type": "stream",
     "text": [
      "[1, 1, 2, 3, 5, 8, 13, 21, 34, 55, 89]\n",
      "[1, 2, 3, 4, 5, 6, 7, 8, 9, 10, 11, 12, 13]\n"
     ]
    }
   ],
   "source": [
    "# Seu código\n",
    "print(a)\n",
    "print(b)"
   ]
  },
  {
   "cell_type": "code",
   "execution_count": 9,
   "metadata": {
    "colab": {
     "base_uri": "https://localhost:8080/"
    },
    "executionInfo": {
     "elapsed": 777,
     "status": "ok",
     "timestamp": 1616855768934,
     "user": {
      "displayName": "SERGIO GUSTAVO MEDINA PEREIRA",
      "photoUrl": "",
      "userId": "17215138517519874950"
     },
     "user_tz": 180
    },
    "id": "ly-N_Aq624RQ",
    "outputId": "98efeabc-5fd2-40fb-c415-aa849bdf8138"
   },
   "outputs": [
    {
     "name": "stdout",
     "output_type": "stream",
     "text": [
      "Nova lista = [1, 2, 3, 5, 8, 13, 21, 34, 55, 89, 4, 6, 7, 9, 10, 11, 12]\n",
      "Tamanho da lista nova lista =  17\n"
     ]
    }
   ],
   "source": [
    "def soma_lista(a, b):\n",
    "  c = a + b\n",
    "  lista = list(dict.fromkeys(c))\n",
    "  return (lista)\n",
    "\n",
    "print(\"Nova lista =\", soma_lista(a, b))\n",
    "print(\"Tamanho da lista nova lista = \", len(lista))"
   ]
  },
  {
   "cell_type": "code",
   "execution_count": null,
   "metadata": {
    "id": "Izl-EGwqGiai"
   },
   "outputs": [],
   "source": [
    ""
   ]
  }
 ],
 "metadata": {
  "anaconda-cloud": {},
  "colab": {
   "name": "Cópia de Desafio 6.ipynb",
   "provenance": [
    {
     "file_id": "https://github.com/sergioGMedinaP/br-python-challenges/blob/master/Desafio_06.ipynb",
     "timestamp": 1616855293230
    }
   ]
  },
  "kernelspec": {
   "display_name": "Python 3",
   "language": "python",
   "name": "python3"
  },
  "language_info": {
   "codemirror_mode": {
    "name": "ipython",
    "version": 3
   },
   "file_extension": ".py",
   "mimetype": "text/x-python",
   "name": "python",
   "nbconvert_exporter": "python",
   "pygments_lexer": "ipython3",
   "version": "3.7.9"
  }
 },
 "nbformat": 4,
 "nbformat_minor": 0
}
