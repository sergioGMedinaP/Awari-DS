{
 "cells": [
  {
   "cell_type": "markdown",
   "metadata": {
    "id": "dOqcKUYZf6JW"
   },
   "source": [
    "### Desafio 4\n",
    "\n",
    "Escreva uma função cuja entrada é uma string e a saída é outra string com as palavras em ordem inversa.\n",
    "\n",
    "Exemplo:\n",
    "\n",
    "inverte_texto(\"Python é legal\") ➞ \"legal é Python\""
   ]
  },
  {
   "cell_type": "code",
   "execution_count": 25,
   "metadata": {
    "colab": {
     "base_uri": "https://localhost:8080/"
    },
    "executionInfo": {
     "elapsed": 9755,
     "status": "ok",
     "timestamp": 1616854368176,
     "user": {
      "displayName": "SERGIO GUSTAVO MEDINA PEREIRA",
      "photoUrl": "",
      "userId": "17215138517519874950"
     },
     "user_tz": 180
    },
    "id": "I5TInJDaf6JW",
    "outputId": "8cd9ddf1-4a5b-4bd2-83fc-f898a4e200d4"
   },
   "outputs": [
    {
     "name": "stdout",
     "output_type": "stream",
     "text": [
      "Digite um texto bom dia galera\n",
      "Palavras invertidas =  galera dia bom\n"
     ]
    }
   ],
   "source": [
    "# Seu código\n",
    "def ordem_inversa( texto):\n",
    "  texto2 = texto.split()\n",
    "  texto3 = texto2[::-1]\n",
    "  texto4 =\"\"\n",
    "  for palavra in texto3:\n",
    "    texto4 = texto4 + \" \" + palavra\n",
    "  return (texto4)\n",
    "  \n",
    "\n",
    "#texto = \"Bom dia galera\"\n",
    "texto = input(\"Digite um texto \")\n",
    " \n",
    "print(\"Palavras invertidas =\", ordem_inversa(texto))\n"
   ]
  },
  {
   "cell_type": "code",
   "execution_count": null,
   "metadata": {
    "id": "17JasviG8k5Y"
   },
   "outputs": [],
   "source": [
    ""
   ]
  }
 ],
 "metadata": {
  "anaconda-cloud": {},
  "colab": {
   "collapsed_sections": [],
   "name": "Cópia de Desafio 4.ipynb",
   "provenance": [
    {
     "file_id": "https://github.com/sergioGMedinaP/br-python-challenges/blob/master/Desafio_04.ipynb",
     "timestamp": 1616852919831
    }
   ]
  },
  "kernelspec": {
   "display_name": "Python 3",
   "language": "python",
   "name": "python3"
  },
  "language_info": {
   "codemirror_mode": {
    "name": "ipython",
    "version": 3
   },
   "file_extension": ".py",
   "mimetype": "text/x-python",
   "name": "python",
   "nbconvert_exporter": "python",
   "pygments_lexer": "ipython3",
   "version": "3.7.9"
  }
 },
 "nbformat": 4,
 "nbformat_minor": 0
}
