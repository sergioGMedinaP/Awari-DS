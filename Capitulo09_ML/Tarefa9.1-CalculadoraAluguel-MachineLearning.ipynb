{
 "cells": [
  {
   "cell_type": "markdown",
   "metadata": {},
   "source": [
    "<h1 style=\"color:blue\">Tarefa9.1: Calculadora de Aluguel - Machine Learning <h1>"
   ]
  },
  {
   "cell_type": "markdown",
   "metadata": {},
   "source": [
    "<h2 style=\"color:green\"> (1) Importando pacotes e módulos </h2>"
   ]
  },
  {
   "cell_type": "code",
   "execution_count": 40,
   "metadata": {
    "id": "rCZBy_vlI4AW"
   },
   "outputs": [],
   "source": [
    "import pandas as pd\n",
    "import numpy as np\n",
    "import matplotlib.pyplot as plt\n",
    "\n",
    "from sklearn.model_selection import train_test_split\n",
    "from sklearn.linear_model import LinearRegression\n",
    "from sklearn.neighbors import KNeighborsRegressor\n",
    "from sklearn.tree import DecisionTreeRegressor, plot_tree\n",
    "from sklearn.metrics import r2_score, mean_squared_error, mean_absolute_error\n",
    "from sklearn.ensemble import RandomForestRegressor\n",
    "from sklearn.model_selection import GridSearchCV, cross_val_score\n",
    "from sklearn.dummy import DummyRegressor"
   ]
  },
  {
   "cell_type": "markdown",
   "metadata": {},
   "source": [
    "<h2 style=\"color:green\"> (2)Declarando constantes </h2>"
   ]
  },
  {
   "cell_type": "code",
   "execution_count": 42,
   "metadata": {},
   "outputs": [],
   "source": [
    "SEED = 42 # semente aleatória"
   ]
  },
  {
   "cell_type": "markdown",
   "metadata": {},
   "source": [
    "<h2 style=\"color:green\"> (3)Loading Data </h2>"
   ]
  },
  {
   "cell_type": "code",
   "execution_count": 2,
   "metadata": {
    "id": "_ELOWycFdgKs"
   },
   "outputs": [],
   "source": [
    "url = 'https://raw.githubusercontent.com/cassiasamp/calculadora-de-imoveis-mar-21/main/manipulacao-de-dados/dados_tratados_ml.csv'\n",
    "calc_imoveis_df = pd.read_csv(url)"
   ]
  },
  {
   "cell_type": "code",
   "execution_count": 3,
   "metadata": {
    "colab": {
     "base_uri": "https://localhost:8080/",
     "height": 195
    },
    "id": "3MMIXNRedqW6",
    "outputId": "96c56449-aa0c-4a65-b372-ffd92725a725"
   },
   "outputs": [
    {
     "data": {
      "text/html": [
       "<div>\n",
       "<style scoped>\n",
       "    .dataframe tbody tr th:only-of-type {\n",
       "        vertical-align: middle;\n",
       "    }\n",
       "\n",
       "    .dataframe tbody tr th {\n",
       "        vertical-align: top;\n",
       "    }\n",
       "\n",
       "    .dataframe thead th {\n",
       "        text-align: right;\n",
       "    }\n",
       "</style>\n",
       "<table border=\"1\" class=\"dataframe\">\n",
       "  <thead>\n",
       "    <tr style=\"text-align: right;\">\n",
       "      <th></th>\n",
       "      <th>aluguel</th>\n",
       "      <th>zona</th>\n",
       "      <th>area</th>\n",
       "      <th>quarto</th>\n",
       "    </tr>\n",
       "  </thead>\n",
       "  <tbody>\n",
       "    <tr>\n",
       "      <th>0</th>\n",
       "      <td>1000.0</td>\n",
       "      <td>sul</td>\n",
       "      <td>48.0</td>\n",
       "      <td>2.0</td>\n",
       "    </tr>\n",
       "    <tr>\n",
       "      <th>1</th>\n",
       "      <td>1200.0</td>\n",
       "      <td>sul</td>\n",
       "      <td>67.0</td>\n",
       "      <td>3.0</td>\n",
       "    </tr>\n",
       "    <tr>\n",
       "      <th>2</th>\n",
       "      <td>1300.0</td>\n",
       "      <td>sul</td>\n",
       "      <td>65.0</td>\n",
       "      <td>2.0</td>\n",
       "    </tr>\n",
       "    <tr>\n",
       "      <th>3</th>\n",
       "      <td>1280.0</td>\n",
       "      <td>sul</td>\n",
       "      <td>65.0</td>\n",
       "      <td>2.0</td>\n",
       "    </tr>\n",
       "    <tr>\n",
       "      <th>4</th>\n",
       "      <td>1100.0</td>\n",
       "      <td>sul</td>\n",
       "      <td>50.0</td>\n",
       "      <td>2.0</td>\n",
       "    </tr>\n",
       "  </tbody>\n",
       "</table>\n",
       "</div>"
      ],
      "text/plain": [
       "   aluguel zona  area  quarto\n",
       "0   1000.0  sul  48.0     2.0\n",
       "1   1200.0  sul  67.0     3.0\n",
       "2   1300.0  sul  65.0     2.0\n",
       "3   1280.0  sul  65.0     2.0\n",
       "4   1100.0  sul  50.0     2.0"
      ]
     },
     "execution_count": 3,
     "metadata": {},
     "output_type": "execute_result"
    }
   ],
   "source": [
    "calc_imoveis_df.head()"
   ]
  },
  {
   "cell_type": "code",
   "execution_count": 4,
   "metadata": {},
   "outputs": [
    {
     "data": {
      "text/plain": [
       "(1152, 4)"
      ]
     },
     "execution_count": 4,
     "metadata": {},
     "output_type": "execute_result"
    }
   ],
   "source": [
    "calc_imoveis_df.shape "
   ]
  },
  {
   "cell_type": "code",
   "execution_count": 5,
   "metadata": {},
   "outputs": [
    {
     "name": "stdout",
     "output_type": "stream",
     "text": [
      "<class 'pandas.core.frame.DataFrame'>\n",
      "RangeIndex: 1152 entries, 0 to 1151\n",
      "Data columns (total 4 columns):\n",
      " #   Column   Non-Null Count  Dtype  \n",
      "---  ------   --------------  -----  \n",
      " 0   aluguel  1152 non-null   float64\n",
      " 1   zona     1152 non-null   object \n",
      " 2   area     1152 non-null   float64\n",
      " 3   quarto   1152 non-null   float64\n",
      "dtypes: float64(3), object(1)\n",
      "memory usage: 36.1+ KB\n"
     ]
    }
   ],
   "source": [
    "calc_imoveis_df.info()"
   ]
  },
  {
   "cell_type": "code",
   "execution_count": 29,
   "metadata": {},
   "outputs": [
    {
     "data": {
      "text/html": [
       "<div>\n",
       "<style scoped>\n",
       "    .dataframe tbody tr th:only-of-type {\n",
       "        vertical-align: middle;\n",
       "    }\n",
       "\n",
       "    .dataframe tbody tr th {\n",
       "        vertical-align: top;\n",
       "    }\n",
       "\n",
       "    .dataframe thead th {\n",
       "        text-align: right;\n",
       "    }\n",
       "</style>\n",
       "<table border=\"1\" class=\"dataframe\">\n",
       "  <thead>\n",
       "    <tr style=\"text-align: right;\">\n",
       "      <th></th>\n",
       "      <th>aluguel</th>\n",
       "      <th>area</th>\n",
       "      <th>quarto</th>\n",
       "    </tr>\n",
       "  </thead>\n",
       "  <tbody>\n",
       "    <tr>\n",
       "      <th>count</th>\n",
       "      <td>1152.000000</td>\n",
       "      <td>1152.000000</td>\n",
       "      <td>1152.000000</td>\n",
       "    </tr>\n",
       "    <tr>\n",
       "      <th>mean</th>\n",
       "      <td>2497.282986</td>\n",
       "      <td>77.013889</td>\n",
       "      <td>1.984375</td>\n",
       "    </tr>\n",
       "    <tr>\n",
       "      <th>std</th>\n",
       "      <td>1743.603188</td>\n",
       "      <td>61.441147</td>\n",
       "      <td>0.808146</td>\n",
       "    </tr>\n",
       "    <tr>\n",
       "      <th>min</th>\n",
       "      <td>500.000000</td>\n",
       "      <td>12.000000</td>\n",
       "      <td>1.000000</td>\n",
       "    </tr>\n",
       "    <tr>\n",
       "      <th>25%</th>\n",
       "      <td>1471.000000</td>\n",
       "      <td>46.000000</td>\n",
       "      <td>1.000000</td>\n",
       "    </tr>\n",
       "    <tr>\n",
       "      <th>50%</th>\n",
       "      <td>2000.000000</td>\n",
       "      <td>60.000000</td>\n",
       "      <td>2.000000</td>\n",
       "    </tr>\n",
       "    <tr>\n",
       "      <th>75%</th>\n",
       "      <td>2900.000000</td>\n",
       "      <td>85.000000</td>\n",
       "      <td>2.000000</td>\n",
       "    </tr>\n",
       "    <tr>\n",
       "      <th>max</th>\n",
       "      <td>15000.000000</td>\n",
       "      <td>800.000000</td>\n",
       "      <td>5.000000</td>\n",
       "    </tr>\n",
       "  </tbody>\n",
       "</table>\n",
       "</div>"
      ],
      "text/plain": [
       "            aluguel         area       quarto\n",
       "count   1152.000000  1152.000000  1152.000000\n",
       "mean    2497.282986    77.013889     1.984375\n",
       "std     1743.603188    61.441147     0.808146\n",
       "min      500.000000    12.000000     1.000000\n",
       "25%     1471.000000    46.000000     1.000000\n",
       "50%     2000.000000    60.000000     2.000000\n",
       "75%     2900.000000    85.000000     2.000000\n",
       "max    15000.000000   800.000000     5.000000"
      ]
     },
     "execution_count": 29,
     "metadata": {},
     "output_type": "execute_result"
    }
   ],
   "source": [
    "calc_imoveis_df.describe()"
   ]
  },
  {
   "cell_type": "markdown",
   "metadata": {},
   "source": [
    "<h2 style=\"color:green\"> Separação dos aributos do DF </h2>"
   ]
  },
  {
   "cell_type": "code",
   "execution_count": 30,
   "metadata": {
    "id": "5aJAOg5pd3MR"
   },
   "outputs": [],
   "source": [
    "# X é zona, area, quarto \n",
    "# y aluguel\n",
    "\n",
    "X = calc_imoveis_df.drop('aluguel', axis=1)\n",
    "y = calc_imoveis_df['aluguel']"
   ]
  },
  {
   "cell_type": "code",
   "execution_count": 31,
   "metadata": {
    "colab": {
     "base_uri": "https://localhost:8080/",
     "height": 195
    },
    "id": "q4bWfy_Pd_vA",
    "outputId": "ec31dc39-39fc-4997-a3ec-3a2081f7bc3b",
    "scrolled": true
   },
   "outputs": [
    {
     "data": {
      "text/html": [
       "<div>\n",
       "<style scoped>\n",
       "    .dataframe tbody tr th:only-of-type {\n",
       "        vertical-align: middle;\n",
       "    }\n",
       "\n",
       "    .dataframe tbody tr th {\n",
       "        vertical-align: top;\n",
       "    }\n",
       "\n",
       "    .dataframe thead th {\n",
       "        text-align: right;\n",
       "    }\n",
       "</style>\n",
       "<table border=\"1\" class=\"dataframe\">\n",
       "  <thead>\n",
       "    <tr style=\"text-align: right;\">\n",
       "      <th></th>\n",
       "      <th>zona</th>\n",
       "      <th>area</th>\n",
       "      <th>quarto</th>\n",
       "    </tr>\n",
       "  </thead>\n",
       "  <tbody>\n",
       "    <tr>\n",
       "      <th>0</th>\n",
       "      <td>sul</td>\n",
       "      <td>48.0</td>\n",
       "      <td>2.0</td>\n",
       "    </tr>\n",
       "    <tr>\n",
       "      <th>1</th>\n",
       "      <td>sul</td>\n",
       "      <td>67.0</td>\n",
       "      <td>3.0</td>\n",
       "    </tr>\n",
       "    <tr>\n",
       "      <th>2</th>\n",
       "      <td>sul</td>\n",
       "      <td>65.0</td>\n",
       "      <td>2.0</td>\n",
       "    </tr>\n",
       "    <tr>\n",
       "      <th>3</th>\n",
       "      <td>sul</td>\n",
       "      <td>65.0</td>\n",
       "      <td>2.0</td>\n",
       "    </tr>\n",
       "    <tr>\n",
       "      <th>4</th>\n",
       "      <td>sul</td>\n",
       "      <td>50.0</td>\n",
       "      <td>2.0</td>\n",
       "    </tr>\n",
       "  </tbody>\n",
       "</table>\n",
       "</div>"
      ],
      "text/plain": [
       "  zona  area  quarto\n",
       "0  sul  48.0     2.0\n",
       "1  sul  67.0     3.0\n",
       "2  sul  65.0     2.0\n",
       "3  sul  65.0     2.0\n",
       "4  sul  50.0     2.0"
      ]
     },
     "execution_count": 31,
     "metadata": {},
     "output_type": "execute_result"
    }
   ],
   "source": [
    "X.head()"
   ]
  },
  {
   "cell_type": "code",
   "execution_count": 32,
   "metadata": {},
   "outputs": [
    {
     "data": {
      "text/plain": [
       "pandas.core.frame.DataFrame"
      ]
     },
     "execution_count": 32,
     "metadata": {},
     "output_type": "execute_result"
    }
   ],
   "source": [
    "type(X)"
   ]
  },
  {
   "cell_type": "code",
   "execution_count": 33,
   "metadata": {},
   "outputs": [
    {
     "data": {
      "text/plain": [
       "pandas.core.series.Series"
      ]
     },
     "execution_count": 33,
     "metadata": {},
     "output_type": "execute_result"
    }
   ],
   "source": [
    "type(y)"
   ]
  },
  {
   "cell_type": "code",
   "execution_count": 34,
   "metadata": {},
   "outputs": [
    {
     "data": {
      "image/png": "[encoded data removed]",
      "text/plain": [
       "<Figure size 432x288 with 1 Axes>"
      ]
     },
     "metadata": {
      "needs_background": "light"
     },
     "output_type": "display_data"
    }
   ],
   "source": [
    "plt.scatter(calc_imoveis_df['area'],calc_imoveis_df[\"aluguel\"])\n",
    "plt.show()"
   ]
  },
  {
   "cell_type": "code",
   "execution_count": 35,
   "metadata": {
    "colab": {
     "base_uri": "https://localhost:8080/"
    },
    "id": "f30uWa8_lI6W",
    "outputId": "15e17610-9983-450c-f5cc-5eb79c9bb1df"
   },
   "outputs": [
    {
     "data": {
      "text/plain": [
       "array(['sul', 'norte', 'leste', 'oeste'], dtype=object)"
      ]
     },
     "execution_count": 35,
     "metadata": {},
     "output_type": "execute_result"
    }
   ],
   "source": [
    "X['zona'].unique()\n",
    "\n",
    "# sul --> 1\n",
    "# norte --> 2\n",
    "# leste --> 3\n",
    "# oeste --> 4 "
   ]
  },
  {
   "cell_type": "markdown",
   "metadata": {
    "id": "Df1pMcTamqWW"
   },
   "source": [
    "<h2 style=\"color:green\">Convertendo variaveis categoricas em numericas utilizando a tecnica de \"one hot encoding\"</h2>\n",
    "<ul>\n",
    "<li> sul   --> [0,0,0,1] </li>\n",
    "<li> norte --> [0,0,1,0] </li>\n",
    "<li> leste --> [0,1,0,0] </li>\n",
    "<li> oeste --> [1,0,0,0] </li>\n",
    "</ul>"
   ]
  },
  {
   "cell_type": "code",
   "execution_count": 36,
   "metadata": {
    "id": "QsSQquHPntWb"
   },
   "outputs": [],
   "source": [
    "X = pd.get_dummies(X)"
   ]
  },
  {
   "cell_type": "code",
   "execution_count": 37,
   "metadata": {
    "colab": {
     "base_uri": "https://localhost:8080/",
     "height": 195
    },
    "id": "88zr_rR0oonU",
    "outputId": "b9d03c7a-af9a-4efd-c666-1f658458125b",
    "scrolled": true
   },
   "outputs": [
    {
     "data": {
      "text/html": [
       "<div>\n",
       "<style scoped>\n",
       "    .dataframe tbody tr th:only-of-type {\n",
       "        vertical-align: middle;\n",
       "    }\n",
       "\n",
       "    .dataframe tbody tr th {\n",
       "        vertical-align: top;\n",
       "    }\n",
       "\n",
       "    .dataframe thead th {\n",
       "        text-align: right;\n",
       "    }\n",
       "</style>\n",
       "<table border=\"1\" class=\"dataframe\">\n",
       "  <thead>\n",
       "    <tr style=\"text-align: right;\">\n",
       "      <th></th>\n",
       "      <th>area</th>\n",
       "      <th>quarto</th>\n",
       "      <th>zona_leste</th>\n",
       "      <th>zona_norte</th>\n",
       "      <th>zona_oeste</th>\n",
       "      <th>zona_sul</th>\n",
       "    </tr>\n",
       "  </thead>\n",
       "  <tbody>\n",
       "    <tr>\n",
       "      <th>0</th>\n",
       "      <td>48.0</td>\n",
       "      <td>2.0</td>\n",
       "      <td>0</td>\n",
       "      <td>0</td>\n",
       "      <td>0</td>\n",
       "      <td>1</td>\n",
       "    </tr>\n",
       "    <tr>\n",
       "      <th>1</th>\n",
       "      <td>67.0</td>\n",
       "      <td>3.0</td>\n",
       "      <td>0</td>\n",
       "      <td>0</td>\n",
       "      <td>0</td>\n",
       "      <td>1</td>\n",
       "    </tr>\n",
       "    <tr>\n",
       "      <th>2</th>\n",
       "      <td>65.0</td>\n",
       "      <td>2.0</td>\n",
       "      <td>0</td>\n",
       "      <td>0</td>\n",
       "      <td>0</td>\n",
       "      <td>1</td>\n",
       "    </tr>\n",
       "    <tr>\n",
       "      <th>3</th>\n",
       "      <td>65.0</td>\n",
       "      <td>2.0</td>\n",
       "      <td>0</td>\n",
       "      <td>0</td>\n",
       "      <td>0</td>\n",
       "      <td>1</td>\n",
       "    </tr>\n",
       "    <tr>\n",
       "      <th>4</th>\n",
       "      <td>50.0</td>\n",
       "      <td>2.0</td>\n",
       "      <td>0</td>\n",
       "      <td>0</td>\n",
       "      <td>0</td>\n",
       "      <td>1</td>\n",
       "    </tr>\n",
       "  </tbody>\n",
       "</table>\n",
       "</div>"
      ],
      "text/plain": [
       "   area  quarto  zona_leste  zona_norte  zona_oeste  zona_sul\n",
       "0  48.0     2.0           0           0           0         1\n",
       "1  67.0     3.0           0           0           0         1\n",
       "2  65.0     2.0           0           0           0         1\n",
       "3  65.0     2.0           0           0           0         1\n",
       "4  50.0     2.0           0           0           0         1"
      ]
     },
     "execution_count": 37,
     "metadata": {},
     "output_type": "execute_result"
    }
   ],
   "source": [
    "X.head()"
   ]
  },
  {
   "cell_type": "code",
   "execution_count": 38,
   "metadata": {},
   "outputs": [
    {
     "data": {
      "text/plain": [
       "Index(['area', 'quarto', 'zona_leste', 'zona_norte', 'zona_oeste', 'zona_sul'], dtype='object')"
      ]
     },
     "execution_count": 38,
     "metadata": {},
     "output_type": "execute_result"
    }
   ],
   "source": [
    "X.columns"
   ]
  },
  {
   "cell_type": "markdown",
   "metadata": {},
   "source": [
    "<h2 style=\"color:green\"> Dividindo os dados entre treino e teste</h2>"
   ]
  },
  {
   "cell_type": "code",
   "execution_count": 43,
   "metadata": {},
   "outputs": [],
   "source": [
    "X_treino, X_teste, y_treino, y_teste = train_test_split(X, y, \n",
    "                                                        test_size=0.2, \n",
    "                                                        train_size=0.8, \n",
    "                                                        random_state=SEED)\n"
   ]
  },
  {
   "cell_type": "code",
   "execution_count": 45,
   "metadata": {},
   "outputs": [
    {
     "data": {
      "text/plain": [
       "(921, 6)"
      ]
     },
     "execution_count": 45,
     "metadata": {},
     "output_type": "execute_result"
    }
   ],
   "source": [
    "X_treino.shape"
   ]
  },
  {
   "cell_type": "code",
   "execution_count": 46,
   "metadata": {
    "id": "eMvl_Uvgkej8"
   },
   "outputs": [
    {
     "data": {
      "text/plain": [
       "(231, 6)"
      ]
     },
     "execution_count": 46,
     "metadata": {},
     "output_type": "execute_result"
    }
   ],
   "source": [
    "X_teste.shape"
   ]
  },
  {
   "cell_type": "markdown",
   "metadata": {},
   "source": [
    "<h2 style=\"color:green\"> Fazendo a transformação para log + 1 dos dados de treino </h2>"
   ]
  },
  {
   "cell_type": "code",
   "execution_count": 50,
   "metadata": {},
   "outputs": [],
   "source": [
    "X_treino_lg = np.log1p(X_treino)\n",
    "y_treino_lg = np.log1p(y_treino)"
   ]
  },
  {
   "cell_type": "code",
   "execution_count": 53,
   "metadata": {},
   "outputs": [],
   "source": [
    "X_teste_lg = np.log1p(X_teste)\n",
    "y_teste_lg = np.log1p(y_teste)"
   ]
  },
  {
   "cell_type": "code",
   "execution_count": 54,
   "metadata": {},
   "outputs": [
    {
     "data": {
      "text/plain": [
       "174     8.226038\n",
       "754     7.378384\n",
       "584     6.685861\n",
       "240     7.673688\n",
       "715     7.313887\n",
       "          ...   \n",
       "359     8.006701\n",
       "63      8.006701\n",
       "388     7.131699\n",
       "1068    6.552508\n",
       "409     7.417580\n",
       "Name: aluguel, Length: 231, dtype: float64"
      ]
     },
     "execution_count": 54,
     "metadata": {},
     "output_type": "execute_result"
    }
   ],
   "source": [
    "y_teste_lg"
   ]
  },
  {
   "cell_type": "markdown",
   "metadata": {},
   "source": [
    "<h2 style=\"color:green\"> Usando um modelo de base Dummy Regressor (baseline ) </h2>"
   ]
  },
  {
   "cell_type": "code",
   "execution_count": 52,
   "metadata": {},
   "outputs": [],
   "source": [
    "modelo_dr = DummyRegressor(strategy='mean')\n",
    "modelo_dr.fit(X_treino_lg, y_treino_lg)\n",
    "\n",
    "y_pred_dr = modelo_dr.predict(np.log1p(X_teste))\n",
    "\n"
   ]
  },
  {
   "cell_type": "code",
   "execution_count": 55,
   "metadata": {},
   "outputs": [],
   "source": [
    "score_R2_dr = modelo_dr.score(X_teste_lg, y_teste_lg)"
   ]
  },
  {
   "cell_type": "code",
   "execution_count": 56,
   "metadata": {},
   "outputs": [
    {
     "name": "stdout",
     "output_type": "stream",
     "text": [
      " O R² do modelo de base que sempre prevê a média é = -106.30173544224438)\n"
     ]
    }
   ],
   "source": [
    "print(f\" O R² do modelo de base que sempre prevê a média é = {score_R2_dr })\")"
   ]
  },
  {
   "cell_type": "code",
   "execution_count": 68,
   "metadata": {},
   "outputs": [
    {
     "data": {
      "text/plain": [
       "Index(['area', 'quarto', 'zona_leste', 'zona_norte', 'zona_oeste', 'zona_sul'], dtype='object')"
      ]
     },
     "execution_count": 68,
     "metadata": {},
     "output_type": "execute_result"
    }
   ],
   "source": [
    "X_treino_lg.columns"
   ]
  },
  {
   "cell_type": "code",
   "execution_count": 63,
   "metadata": {},
   "outputs": [
    {
     "data": {
      "text/plain": [
       "(921,)"
      ]
     },
     "execution_count": 63,
     "metadata": {},
     "output_type": "execute_result"
    }
   ],
   "source": [
    "y_treino.shape"
   ]
  },
  {
   "cell_type": "code",
   "execution_count": 57,
   "metadata": {
    "colab": {
     "base_uri": "https://localhost:8080/"
    },
    "id": "dPyA2ZmzjM2l",
    "outputId": "4b2998f2-6996-4bd2-f437-0ae73c48e581"
   },
   "outputs": [
    {
     "data": {
      "text/plain": [
       "LinearRegression()"
      ]
     },
     "execution_count": 57,
     "metadata": {},
     "output_type": "execute_result"
    }
   ],
   "source": [
    "# modelo\n",
    "modelo_lr = LinearRegression()\n",
    "modelo_lr.fit(X_treino_lg, y_treino_lg) # no ajuste a gente treina o modelo\n",
    "\n",
    "# o modelo vai aprendendo como descrever \n",
    "# y = a*x + b estamos encontrando esses parâmetros no fit"
   ]
  },
  {
   "cell_type": "code",
   "execution_count": 72,
   "metadata": {},
   "outputs": [
    {
     "data": {
      "text/plain": [
       "Text(0, 0.5, 'Aluguel')"
      ]
     },
     "execution_count": 72,
     "metadata": {},
     "output_type": "execute_result"
    },
    {
     "data": {
      "image/png": "[encoded data removed]",
      "text/plain": [
       "<Figure size 432x288 with 1 Axes>"
      ]
     },
     "metadata": {
      "needs_background": "light"
     },
     "output_type": "display_data"
    }
   ],
   "source": [
    "# Visualização gráfica do modelo.\n",
    "plt.scatter(X_treino['area'], y_treino)\n",
    "#plt.plot(X_teste_lg['area'], modelo_lr.predict(y_teste_lg), color = 'red')\n",
    "plt.title (\"Regressão simples\")\n",
    "plt.xlabel(\"Area\")\n",
    "plt.ylabel(\"Aluguel\")"
   ]
  },
  {
   "cell_type": "code",
   "execution_count": 73,
   "metadata": {
    "colab": {
     "base_uri": "https://localhost:8080/"
    },
    "id": "k5yG-9aoo83r",
    "outputId": "808ef106-6671-4e0c-c899-9c57071b5d83"
   },
   "outputs": [
    {
     "data": {
      "text/plain": [
       "array([18.58434655])"
      ]
     },
     "execution_count": 73,
     "metadata": {},
     "output_type": "execute_result"
    }
   ],
   "source": [
    "# area\tquarto\tzona_leste\tzona_norte\tzona_oeste\tzona_sul\n",
    "modelo_lr.predict([[50.0, 1, 0, 0, 0, 1]])"
   ]
  },
  {
   "cell_type": "code",
   "execution_count": 74,
   "metadata": {
    "colab": {
     "base_uri": "https://localhost:8080/"
    },
    "id": "LRDOtQ-frRPR",
    "outputId": "9ba70c34-13e9-44b7-c954-138f66901c65"
   },
   "outputs": [
    {
     "data": {
      "text/plain": [
       "array([22.5447292])"
      ]
     },
     "execution_count": 74,
     "metadata": {},
     "output_type": "execute_result"
    }
   ],
   "source": [
    "modelo_lr.predict([[62.0, 2, 1, 0, 0, 0]]) # valor real foi 1.500\n"
   ]
  },
  {
   "cell_type": "code",
   "execution_count": 75,
   "metadata": {
    "colab": {
     "base_uri": "https://localhost:8080/"
    },
    "id": "Ip7rojxqsErT",
    "outputId": "d5a623b3-5700-42e5-bbf2-55bc362f3c45"
   },
   "outputs": [
    {
     "data": {
      "text/plain": [
       "196"
      ]
     },
     "execution_count": 75,
     "metadata": {},
     "output_type": "execute_result"
    }
   ],
   "source": [
    "1696-1500 "
   ]
  },
  {
   "cell_type": "code",
   "execution_count": 76,
   "metadata": {
    "colab": {
     "base_uri": "https://localhost:8080/"
    },
    "id": "CeapoqUvs9d-",
    "outputId": "ee3331b2-e3d8-4a44-fc7d-2c08b0837fd2"
   },
   "outputs": [
    {
     "data": {
      "text/plain": [
       "(921.6,\n",
       " 0      1000.0\n",
       " 1      1200.0\n",
       " 2      1300.0\n",
       " 3      1280.0\n",
       " 4      1100.0\n",
       "         ...  \n",
       " 916    3500.0\n",
       " 917    2900.0\n",
       " 918    2600.0\n",
       " 919    3300.0\n",
       " 920    1480.0\n",
       " Name: aluguel, Length: 921, dtype: float64)"
      ]
     },
     "execution_count": 76,
     "metadata": {},
     "output_type": "execute_result"
    }
   ],
   "source": [
    "X.shape[0]*0.8, y[:921] # separando 80% para treino (fit)"
   ]
  },
  {
   "cell_type": "code",
   "execution_count": null,
   "metadata": {
    "id": "pEJ8SWiEtI5B"
   },
   "outputs": [],
   "source": [
    "y[921:] # 20% para teste (predict)"
   ]
  },
  {
   "cell_type": "code",
   "execution_count": 77,
   "metadata": {
    "colab": {
     "base_uri": "https://localhost:8080/"
    },
    "id": "xpLF_XOuu2PO",
    "outputId": "27d8ce1a-07c5-4181-cd51-de26c6f839a4"
   },
   "outputs": [
    {
     "name": "stdout",
     "output_type": "stream",
     "text": [
      "Valor do score = -68.74832413442097\n"
     ]
    }
   ],
   "source": [
    "print(f\"Valor do score = {modelo_lr.score(X_treino, y_treino)}\") # a métrica é o R2"
   ]
  },
  {
   "cell_type": "code",
   "execution_count": 78,
   "metadata": {},
   "outputs": [],
   "source": [
    "y_previsto =  modelo_lr.predict(X_treino)"
   ]
  },
  {
   "cell_type": "code",
   "execution_count": 79,
   "metadata": {},
   "outputs": [
    {
     "data": {
      "text/plain": [
       "array([3.30746988, 3.20340297, 3.01647076, 2.89416675, 3.39339823,\n",
       "       2.93850172, 2.7417476 , 2.95468146, 3.00737319, 3.55842936,\n",
       "       3.43469536, 2.75250732, 3.00263321, 3.11762043, 3.01647076,\n",
       "       3.0000357 , 3.45038811, 3.19036571, 3.15429083, 3.0472902 ,\n",
       "       3.19960565, 3.03500501, 2.87912456, 3.0000357 , 3.48176349,\n",
       "       3.40066904, 2.85919732, 3.07352008, 2.95484671, 3.56044415,\n",
       "       2.90680548, 2.96748543, 3.03750759, 2.99674987, 3.11947884,\n",
       "       2.90680548, 2.88774882, 2.96748543, 3.04543361, 2.88408783,\n",
       "       3.17220758, 2.92674615, 3.35171149, 3.33652629, 2.96188361,\n",
       "       3.13050216, 3.12900027, 2.50181534, 2.79242433, 2.79444815,\n",
       "       2.88625962, 2.82019999, 3.03036098, 3.16499661, 2.91135837,\n",
       "       2.92674615, 2.69183659, 2.77612462, 2.88774882, 2.88774882,\n",
       "       3.16627203, 2.87912456, 3.36543594, 3.07018204, 3.06362603,\n",
       "       3.12573734, 3.09291271, 3.24825726, 3.58023128, 2.83649971,\n",
       "       2.60922293, 2.95039427, 2.83649971, 2.92617663, 2.96748543,\n",
       "       2.83649971, 2.79444815, 2.92617663, 3.46332298, 2.8837946 ,\n",
       "       3.00263321, 3.16777426, 3.086742  , 3.01313272, 2.91897448,\n",
       "       3.01613704, 2.79444815, 2.80170992, 2.80325132, 2.9038901 ,\n",
       "       3.11396704, 2.86804832, 3.22495893, 3.09767572, 2.72544789,\n",
       "       3.45882889, 2.91168132, 3.06358991, 2.95118572, 2.95118572,\n",
       "       3.01893292, 2.85919732, 3.26060271, 3.11224151, 2.96505362,\n",
       "       3.04469268, 2.92820045, 2.96505362, 2.82764033, 2.99341183,\n",
       "       3.06871287, 3.03574554, 3.24308683, 2.8404715 , 3.06499234,\n",
       "       3.06499234, 2.96171558, 3.1421377 , 3.10803148, 3.32332061,\n",
       "       2.77305318, 3.13577855, 2.94450016, 2.98076378, 3.08293465,\n",
       "       3.05386803, 3.67651181, 3.00498143, 3.12207635, 2.82764033,\n",
       "       2.97841873, 2.83268029, 2.9373727 , 3.04543361, 2.95039427,\n",
       "       2.94783471, 2.99908732, 2.96488792, 2.92308516, 3.18349777,\n",
       "       3.38344625, 2.91984181, 3.10636601, 3.06537483, 3.11817706,\n",
       "       2.84701148, 2.96748543, 2.97114642, 2.90722814, 2.79633475,\n",
       "       3.06049844, 2.71433532, 3.2514474 , 3.60717255, 3.16982078,\n",
       "       2.79444815, 3.11850001, 2.82470574, 3.33608403, 2.84367345,\n",
       "       3.46593075, 3.03491008, 2.95484671, 2.96748543, 2.90680548,\n",
       "       3.17593027, 2.89225456, 2.81955103, 3.04543361, 2.79633475,\n",
       "       2.50181534, 2.95669646, 3.25577178, 2.93850172, 2.97528727,\n",
       "       2.91984181, 2.60975688, 2.92820045, 2.95805459, 2.87183604,\n",
       "       2.91984181, 3.09658359, 3.10486947, 2.99574928, 3.01873455,\n",
       "       2.89416675, 3.086742  , 3.09151223, 2.90680548, 2.95468146,\n",
       "       2.72544789, 3.18702767, 3.14675934, 3.15752655, 3.15169331,\n",
       "       2.91609549, 3.07384303, 2.85553633, 3.0769991 , 2.84701148,\n",
       "       3.28742894, 3.05095119, 3.01313272, 2.84701148, 3.10304171,\n",
       "       3.36547461, 3.10278925, 3.14033238, 2.96748543, 2.88774882,\n",
       "       2.74951521, 2.85264099, 3.300099  , 2.89050576, 2.94450016,\n",
       "       3.00743674, 2.87912456, 2.9196045 , 2.93409456, 3.12207635,\n",
       "       2.92820045, 2.82019999, 2.95805459, 2.9323952 , 3.5831694 ,\n",
       "       3.15503135, 3.10710654, 2.87938043, 2.89050576, 2.93371171,\n",
       "       3.33541178, 2.88774882, 3.02207259, 2.9035421 , 2.93850172,\n",
       "       2.84701148, 3.01109773, 3.10024458, 2.91984181, 2.80375644,\n",
       "       2.84701148, 2.87549703, 3.10970405, 3.02207259, 3.02966785,\n",
       "       2.91984181, 3.13117485, 2.89416675, 3.35670769, 3.01633541,\n",
       "       2.87549703, 3.00263321, 3.20918269, 2.96748543, 2.8404715 ,\n",
       "       2.96748543, 2.7197719 , 2.66583804, 2.86282485, 3.20674101,\n",
       "       2.86995991, 2.98298116, 2.85919732, 2.73063503, 2.9323952 ,\n",
       "       2.95669646, 3.04099995, 2.93008419, 2.89416675, 3.30142226,\n",
       "       3.41988828, 2.81955103, 2.90987691, 2.87413819, 2.66583804,\n",
       "       3.27315365, 2.79299671, 3.01633541, 3.04359746, 3.25085477,\n",
       "       3.25138032, 3.04543361, 2.93037367, 3.27912832, 2.91984181,\n",
       "       2.99341183, 2.93409456, 2.83649971, 2.79633475, 3.13159778,\n",
       "       2.75675347, 2.91046646, 3.01647076, 3.08659564, 3.13847671,\n",
       "       2.94449667, 2.96748543, 3.28364147, 2.84100545, 2.94558389,\n",
       "       3.27112923, 2.87080015, 3.0609924 , 3.23974879, 3.00263321,\n",
       "       2.82447032, 2.96171558, 3.04877165, 2.9038901 , 2.98540453,\n",
       "       2.89108686, 2.79299671, 3.24825726, 3.0490946 , 3.01893292,\n",
       "       2.84808762, 3.03939893, 2.86533502, 3.07591501, 3.19702858,\n",
       "       2.80325132, 3.38223337, 2.79242433, 2.99308888, 2.84367345,\n",
       "       3.41824054, 2.92617663, 3.23395544, 3.2127546 , 3.13645916,\n",
       "       2.9727106 , 3.26995445, 2.88625962, 3.00864242, 2.89050576,\n",
       "       2.93850172, 3.25085477, 2.96505362, 3.01313272, 2.98975084,\n",
       "       2.97788479, 2.96171558, 2.7367249 , 2.92220201, 3.24903181,\n",
       "       3.27516844, 3.05921186, 2.80325132, 3.31422549, 2.52184391,\n",
       "       3.07718107, 2.88742587, 3.13837606, 3.17037178, 2.81418504,\n",
       "       2.9035421 , 2.82836672, 2.72544789, 3.19296322, 2.91338632,\n",
       "       2.97011308, 2.83746429, 2.87912456, 2.96748543, 2.92674615,\n",
       "       2.89050576, 3.22495893, 3.15793358, 2.91046646, 3.00743674,\n",
       "       2.8243023 , 3.2127546 , 3.22031409, 2.86995991, 2.86199698,\n",
       "       3.21902338, 2.84701148, 3.81853557, 2.91609549, 3.08388956,\n",
       "       2.9727106 , 2.92220201, 2.82019999, 2.9941845 , 2.86533502,\n",
       "       2.93186144, 2.77305318, 2.85677121, 3.01077478, 3.39546484,\n",
       "       2.83649971, 2.91046646, 2.93403466, 2.97442896, 3.04877165,\n",
       "       3.0283475 , 2.87694784, 2.91609549, 3.24825726, 2.83283872,\n",
       "       3.00263321, 2.95118572, 3.21902338, 2.84701148, 3.33348652,\n",
       "       3.02752938, 2.93371171, 2.8118316 , 2.69183659, 2.9941845 ,\n",
       "       3.08033714, 3.49887997, 2.62708742, 3.12310536, 2.9941845 ,\n",
       "       2.90987691, 3.18959102, 3.03881718, 3.10304171, 2.86438733,\n",
       "       2.94783471, 3.20028552, 3.07352008, 3.24020253, 3.10204872,\n",
       "       3.17037178, 2.94815766, 2.89050576, 3.06358991, 3.16239909,\n",
       "       3.13847671, 3.18070843, 2.95805459, 2.96171558, 2.95805459,\n",
       "       3.00924933, 3.02239554, 3.44158157, 3.42157857, 2.99308888,\n",
       "       3.13199617, 3.10538676, 2.81074787, 2.90680548, 3.31978432,\n",
       "       2.77039482, 3.49352714, 2.9035421 , 3.27776595, 2.90987691,\n",
       "       3.07384303, 3.19036571, 3.15429083, 3.07018204, 2.96748543,\n",
       "       2.85919732, 3.49352714, 2.88774882, 3.09658359, 2.89050576,\n",
       "       2.79242433, 3.07018204, 3.21902338, 2.91929743, 2.85264099,\n",
       "       3.19296322, 3.21600738, 3.12310536, 3.07352008, 2.99308888,\n",
       "       2.9941845 , 3.27548898, 3.06123897, 3.03574554, 2.9007476 ,\n",
       "       3.1828469 , 3.300099  , 3.01893292, 3.15503135, 3.00164339,\n",
       "       2.82019999, 3.1766708 , 3.33541178, 2.90720308, 3.31756004,\n",
       "       3.01613704, 2.92220201, 3.13837606, 3.04025942, 2.86648583,\n",
       "       3.02424529, 3.10304171, 2.89591555, 3.11483902, 2.95805459,\n",
       "       3.17926831, 2.95834245, 3.06871287, 3.16982078, 2.89108686,\n",
       "       2.89324755, 2.96139263, 3.4582957 , 3.15009738, 2.84898   ,\n",
       "       2.90680548, 3.06871287, 3.36561715, 3.07018204, 3.07018204,\n",
       "       3.02207259, 2.91984181, 3.086742  , 2.82470574, 3.18962518,\n",
       "       3.25375699, 3.09669938, 2.79633475, 2.89591555, 3.00430175,\n",
       "       3.01861037, 2.87912456, 2.89050576, 2.96748543, 3.01873455,\n",
       "       2.89416675, 3.0723245 , 3.29368377, 2.96505362, 2.85264099,\n",
       "       2.91984181, 3.08414449, 2.95468146, 3.27850648, 3.09064804,\n",
       "       3.06758453, 2.87080015, 3.47073909, 2.99908732, 3.01947507,\n",
       "       3.16777426, 2.94815766, 3.02569673, 2.95118572, 3.0490946 ,\n",
       "       3.19702858, 2.80817061, 2.93409456, 3.10304171, 3.02207259,\n",
       "       2.98298116, 3.16886954, 2.83412626, 3.0609924 , 2.81418504,\n",
       "       2.95118572, 3.11817706, 2.91563644, 3.21700859, 2.85263609,\n",
       "       2.8404715 , 3.20240562, 3.26995445, 2.90680548, 2.91897448,\n",
       "       3.04359746, 3.12790465, 3.07352008, 2.97808995, 3.30769311,\n",
       "       3.19960565, 2.9323952 , 3.01679371, 2.83649971, 3.01679371,\n",
       "       2.89108686, 3.13513868, 3.07384303, 2.88278555, 3.08615919,\n",
       "       3.50676722, 3.27833   , 2.9941845 , 3.03300589, 3.16640661,\n",
       "       3.32665865, 2.94779676, 3.55509133, 3.06383648, 2.7367249 ,\n",
       "       2.79959033, 2.96171558, 2.98975084, 3.01647076, 2.78522219,\n",
       "       2.94216271, 3.02758332, 3.01633541, 2.78188415, 3.09507821,\n",
       "       3.12207635, 3.0062942 , 3.04725845, 2.90680548, 3.03491008,\n",
       "       3.08659564, 3.0472902 , 3.0816101 , 3.19296322, 3.65765883,\n",
       "       3.00164339, 3.57491087, 3.13451289, 2.93850172, 2.7095982 ,\n",
       "       2.9514957 , 2.94450776, 3.03190238, 2.93988791, 3.07959661,\n",
       "       2.72544789, 2.84701148, 3.09945121, 2.8118316 , 2.9727106 ,\n",
       "       3.32665865, 2.87080015, 2.94783471, 3.48510153, 2.86533502,\n",
       "       2.96463544, 3.01679371, 3.03300589, 3.20761961, 3.42025532,\n",
       "       3.01893292, 3.08780756, 2.90356715, 2.8837946 , 2.50181534,\n",
       "       3.58936948, 3.55509133, 3.11899739, 3.21902338, 2.91046646,\n",
       "       3.03040837, 3.04793248, 2.96505362, 2.9035421 , 2.97442896,\n",
       "       3.02207259, 2.62708742, 3.45086592, 2.91929743, 2.91046646,\n",
       "       3.05095119, 2.92674615, 2.70725315, 3.09841624, 3.22495893,\n",
       "       2.77305318, 2.9727106 , 3.7049143 , 3.07352008, 3.08293465,\n",
       "       3.41824054, 2.96211902, 2.9941845 , 2.90680548, 2.91563644,\n",
       "       2.96139263, 2.93988791, 2.79078717, 3.08659564, 3.1264434 ,\n",
       "       3.00924933, 3.19296322, 2.93850172, 3.01665878, 2.81653901,\n",
       "       2.95468146, 3.18024938, 3.25085477, 3.19296322, 3.0115282 ,\n",
       "       2.98076378, 2.78522219, 3.00945027, 3.00263321, 2.93850172,\n",
       "       3.10304171, 2.89324755, 3.18024938, 3.07384303, 2.84701148,\n",
       "       3.03012689, 3.13483584, 3.086742  , 3.23729347, 2.77373285,\n",
       "       3.2001906 , 2.95118572, 3.11817706, 3.00263321, 2.88774882,\n",
       "       2.91984181, 2.50181534, 2.97841873, 3.04793248, 3.300099  ,\n",
       "       3.01873455, 3.01893292, 2.80325132, 2.88774882, 2.83649971,\n",
       "       2.50181534, 2.96139263, 2.79633475, 3.09658359, 2.87080015,\n",
       "       3.16982078, 3.03881718, 2.98901031, 3.29368377, 3.26791545,\n",
       "       3.02569673, 2.92220201, 2.79633475, 3.34923663, 2.90987691,\n",
       "       3.05295335, 3.49686518, 2.70284599, 2.9038901 , 3.03834305,\n",
       "       2.86648583, 2.50181534, 3.3152467 , 2.90680548, 3.1358792 ,\n",
       "       2.70284599, 3.12468116, 2.88774882, 3.42157857, 3.00430175,\n",
       "       3.21340987, 2.82019999, 2.92308516, 3.05555653, 2.88774882,\n",
       "       2.93850172, 2.69095344, 2.93988791, 2.87912456, 2.95484671,\n",
       "       2.98076378, 3.3527065 , 3.07718107, 2.88774882, 3.504024  ,\n",
       "       3.1358792 , 2.74663621, 2.90680548, 2.95118572, 2.79242433,\n",
       "       2.84701148, 2.93988791, 2.86438733, 3.4524029 , 2.82019999,\n",
       "       2.83746429, 2.91609549, 2.86282485, 2.84701148, 3.11850001,\n",
       "       2.87912456, 3.01412571, 3.15169331, 3.11817706, 2.77373285,\n",
       "       2.91984181, 3.15215386, 3.01893292, 2.85553633, 2.96139263,\n",
       "       2.99308888, 3.33541178, 2.98901031, 3.13837606, 2.83268029,\n",
       "       3.02239554, 2.8837946 , 3.12207635, 3.17315882, 2.90680548,\n",
       "       2.90987691, 2.77612462, 2.90680548, 2.92357911, 2.91975648,\n",
       "       3.18618494, 2.98115838, 3.27776595, 3.04877165, 3.14203705,\n",
       "       2.82019999, 2.98154577, 3.11396704, 2.96505362, 2.88774882,\n",
       "       2.91046646, 3.23293047, 2.96139263, 2.87912456, 2.87694784,\n",
       "       2.99908732, 2.80709448, 2.85919732, 3.02309921, 3.10710654,\n",
       "       3.04469268, 2.86995991, 3.04543361, 3.09151223, 2.90009431,\n",
       "       2.93850172, 2.95468146, 3.01647076, 2.92820045, 3.18962518,\n",
       "       3.22162089, 2.79633475, 3.07384303, 3.04359746, 2.98108673,\n",
       "       3.20530822, 2.91984181, 3.18561538, 3.00665181, 2.8118316 ,\n",
       "       3.0472902 , 2.95039427, 2.79299671, 3.07384303, 2.89925359,\n",
       "       2.93850172, 2.87912456, 3.30487236, 2.77612462, 3.37975958,\n",
       "       2.85553633, 2.89108686, 3.13050216, 3.10781194, 2.83634128,\n",
       "       2.87183604, 2.8433505 , 2.85264099, 2.9035421 , 3.55710611,\n",
       "       3.08293465, 3.25085477, 3.03332884, 3.4279931 , 3.29380348,\n",
       "       2.82019999, 3.13159778, 3.44004819, 2.84701148, 3.15169331,\n",
       "       2.86199698, 2.83268029, 2.87549703, 3.09658359, 3.04543361,\n",
       "       2.95468146, 3.31422549, 2.80325132, 2.93750873, 3.02966785,\n",
       "       3.39138345, 2.95484671, 3.02259391, 3.03500501, 2.67862834,\n",
       "       3.0428361 , 3.15147455, 3.04885105, 3.36900621, 3.14239471,\n",
       "       3.10227195, 3.17315882, 3.00743674, 3.11557955, 2.74663621,\n",
       "       3.09669938, 3.2706551 , 3.23954659, 2.86282485, 3.10486947,\n",
       "       3.16528323, 2.78188415, 2.90009431, 3.04543361, 3.12384588,\n",
       "       2.91984181, 2.82019999, 3.13837606, 2.8837946 , 3.01313272,\n",
       "       3.11557955, 3.05888891, 2.84367345, 2.92617663, 3.1004442 ,\n",
       "       3.22206289, 2.50181534, 2.9514957 , 2.94450776, 2.73620761,\n",
       "       3.01647076])"
      ]
     },
     "execution_count": 79,
     "metadata": {},
     "output_type": "execute_result"
    }
   ],
   "source": [
    "y_previsto"
   ]
  },
  {
   "cell_type": "code",
   "execution_count": 80,
   "metadata": {
    "colab": {
     "base_uri": "https://localhost:8080/"
    },
    "id": "XLqVHvV-vMwS",
    "outputId": "73864ad6-b076-49e7-afb2-926b97a2dd6a"
   },
   "outputs": [
    {
     "name": "stdout",
     "output_type": "stream",
     "text": [
      "Valores dos coeficientes = [ 0.33890286 -0.00902911 -0.05579192 -0.0322836   0.04644491  0.04163061]\n"
     ]
    }
   ],
   "source": [
    "print(f\"Valores dos coeficientes = {modelo_lr.coef_}\")"
   ]
  },
  {
   "cell_type": "code",
   "execution_count": 81,
   "metadata": {
    "colab": {
     "base_uri": "https://localhost:8080/"
    },
    "id": "KMz0M49VkyZX",
    "outputId": "586cd11d-6357-48aa-bb98-963e94250930"
   },
   "outputs": [
    {
     "name": "stdout",
     "output_type": "stream",
     "text": [
      " Valor do intercep = 1.606602162385775\n"
     ]
    }
   ],
   "source": [
    "print(f\" Valor do intercep = {modelo_lr.intercept_}\")"
   ]
  },
  {
   "cell_type": "markdown",
   "metadata": {
    "id": "BY6GyiqlzeXt"
   },
   "source": [
    "Pontos importantes:\n",
    "\n",
    "- seria interessante dividir o X e o y -> deem uma olhada no train_test_split do sklearn\n",
    "\n",
    "- poderíamos usar outras métricas de regressão\n",
    "\n",
    "- fazer o passo a passo: criar o modelo (reg) -> treinar o modelo (fit) -> prever com o modelo (predict) -> avaliar o modelo (score)"
   ]
  },
  {
   "cell_type": "code",
   "execution_count": null,
   "metadata": {
    "id": "t5yTZteJvPYh"
   },
   "outputs": [],
   "source": []
  }
 ],
 "metadata": {
  "colab": {
   "collapsed_sections": [],
   "name": "machine-learning-aula-10.ipynb",
   "provenance": []
  },
  "kernelspec": {
   "display_name": "Python 3",
   "language": "python",
   "name": "python3"
  },
  "language_info": {
   "codemirror_mode": {
    "name": "ipython",
    "version": 3
   },
   "file_extension": ".py",
   "mimetype": "text/x-python",
   "name": "python",
   "nbconvert_exporter": "python",
   "pygments_lexer": "ipython3",
   "version": "3.7.9"
  },
  "latex_envs": {
   "LaTeX_envs_menu_present": true,
   "autoclose": false,
   "autocomplete": true,
   "bibliofile": "biblio.bib",
   "cite_by": "apalike",
   "current_citInitial": 1,
   "eqLabelWithNumbers": true,
   "eqNumInitial": 1,
   "hotkeys": {
    "equation": "Ctrl-E",
    "itemize": "Ctrl-I"
   },
   "labels_anchors": false,
   "latex_user_defs": false,
   "report_style_numbering": false,
   "user_envs_cfg": false
  },
  "toc": {
   "base_numbering": 1,
   "nav_menu": {},
   "number_sections": true,
   "sideBar": true,
   "skip_h1_title": false,
   "title_cell": "Table of Contents",
   "title_sidebar": "Contents",
   "toc_cell": false,
   "toc_position": {},
   "toc_section_display": true,
   "toc_window_display": false
  }
 },
 "nbformat": 4,
 "nbformat_minor": 1
}
